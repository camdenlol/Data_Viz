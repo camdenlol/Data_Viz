{
 "cells": [
  {
   "cell_type": "markdown",
   "metadata": {
    "colab_type": "text",
    "id": "view-in-github"
   },
   "source": [
    "<a href=\"https://colab.research.google.com/github/nurfnick/Data_Viz/blob/main/Content/Data_Collecting/08_html.ipynb\" target=\"_parent\"><img src=\"https://colab.research.google.com/assets/colab-badge.svg\" alt=\"Open In Colab\"/></a>"
   ]
  },
  {
   "cell_type": "markdown",
   "metadata": {
    "id": "doK0wCaB_THI"
   },
   "source": [
    "# Reading Data From the Web"
   ]
  },
  {
   "cell_type": "markdown",
   "metadata": {
    "id": "ao_B4IAdovzG"
   },
   "source": [
    "Some of the data is easy to gather directly from the web!  The [UCI Machine Learning repository](https://archive.ics.uci.edu/ml/index.php) has lost of data cleaned up and ready for us to use.  We can also upload csv and other files to GitHub and access the 'raw' version to get to the data.  We did that with the [iris](https://raw.githubusercontent.com/nurfnick/Data_Viz/main/iris.csv) dataset earlier!  How than can we get data from a table in a web page?  We can of course [copy and paste ](https://en.wikipedia.org/wiki/Copypasta), but if there are multiple tables or the table is of an odd shape, this sometimes just won't work!  Instead we want to read that data directly from the web."
   ]
  },
  {
   "cell_type": "markdown",
   "metadata": {
    "id": "u-lO-CaE_Zo0"
   },
   "source": [
    "Reading data from the web is an important task for some data analysis projects.  Web Scrapping is the gathering of that data.  There are lots of fantastic packages to read and parse html.  `requests` is going to gather the raw html for me.  `BeautifulSoup` will help me parse the code."
   ]
  },
  {
   "cell_type": "code",
   "execution_count": null,
   "metadata": {
    "id": "SgZe3pB0_Sd3"
   },
   "outputs": [],
   "source": [
    "import requests\n",
    "import pandas as pa\n",
    "from bs4 import BeautifulSoup"
   ]
  },
  {
   "cell_type": "markdown",
   "metadata": {
    "id": "vTiqcQ2jBCjq"
   },
   "source": [
    "Next I am going to look at a simple web page from Wikipedia.  I have been a big fan of **The Simpsons** for many years.  Let's look at the Wikipedia page for them.  [https://en.wikipedia.org/wiki/The_Simpsons](https://en.wikipedia.org/wiki/The_Simpsons)\n",
    "\n",
    "Let's gather that html!"
   ]
  },
  {
   "cell_type": "code",
   "execution_count": null,
   "metadata": {
    "id": "MPoK5-3XCKco"
   },
   "outputs": [],
   "source": [
    "r = requests.get('https://en.wikipedia.org/wiki/The_Simpsons')\n",
    "html_contents = r.text\n",
    "html_soup = BeautifulSoup(html_contents,\"lxml\")\n",
    "#html_soup"
   ]
  },
  {
   "cell_type": "markdown",
   "metadata": {
    "id": "5aUDKftFHS2z"
   },
   "source": [
    "## Basic Building Blocks"
   ]
  },
  {
   "cell_type": "markdown",
   "metadata": {
    "id": "RSWpqzbPDYhR"
   },
   "source": [
    "I do not print the html because it is very long!  Let's examine some aspects of our html that we have gathered"
   ]
  },
  {
   "cell_type": "code",
   "execution_count": null,
   "metadata": {
    "colab": {
     "base_uri": "https://localhost:8080/"
    },
    "id": "13_wcrXlCRT9",
    "outputId": "ba58dece-f0bc-405c-ff37-208fe8848e30"
   },
   "outputs": [
    {
     "data": {
      "text/plain": [
       "<title>The Simpsons - Wikipedia</title>"
      ]
     },
     "execution_count": 4,
     "metadata": {},
     "output_type": "execute_result"
    }
   ],
   "source": [
    "html_soup.title"
   ]
  },
  {
   "cell_type": "markdown",
   "metadata": {
    "id": "G4zdeafhDtFg"
   },
   "source": [
    "I think the `title` is rather obvious.  It is what shows in my tab!"
   ]
  },
  {
   "cell_type": "code",
   "execution_count": null,
   "metadata": {
    "colab": {
     "base_uri": "https://localhost:8080/"
    },
    "id": "KMyx7iKLDkwt",
    "outputId": "351d61d5-4e56-4efb-acbd-5ea7e74571aa"
   },
   "outputs": [
    {
     "data": {
      "text/plain": [
       "<a id=\"top\"></a>"
      ]
     },
     "execution_count": 5,
     "metadata": {},
     "output_type": "execute_result"
    }
   ],
   "source": [
    "html_soup.a"
   ]
  },
  {
   "cell_type": "markdown",
   "metadata": {
    "id": "v_hgXKDWE6vd"
   },
   "source": [
    "The `a` is an anchor.  Normally that is a hyperlink but this one does not appear to be one!"
   ]
  },
  {
   "cell_type": "code",
   "execution_count": null,
   "metadata": {
    "colab": {
     "base_uri": "https://localhost:8080/"
    },
    "id": "Pm5mS68TDoee",
    "outputId": "ebcb128d-9c59-4dae-e27f-f058454d9436"
   },
   "outputs": [
    {
     "data": {
      "text/plain": [
       "<p class=\"mw-empty-elt\">\n",
       "</p>"
      ]
     },
     "execution_count": 6,
     "metadata": {},
     "output_type": "execute_result"
    }
   ],
   "source": [
    "html_soup.p"
   ]
  },
  {
   "cell_type": "markdown",
   "metadata": {
    "id": "cwF4ttq9FHhz"
   },
   "source": [
    "`p` stands for paragraph.  This one happens to be empty.  "
   ]
  },
  {
   "cell_type": "code",
   "execution_count": null,
   "metadata": {
    "colab": {
     "base_uri": "https://localhost:8080/"
    },
    "id": "eRJ_Ab9HFGcU",
    "outputId": "ff391dd2-5efc-4896-d0cc-7420cfee5a9c"
   },
   "outputs": [
    {
     "data": {
      "text/plain": [
       "<img alt=\"Featured article\" data-file-height=\"438\" data-file-width=\"462\" decoding=\"async\" height=\"19\" src=\"//upload.wikimedia.org/wikipedia/en/thumb/e/e7/Cscr-featured.svg/20px-Cscr-featured.svg.png\" srcset=\"//upload.wikimedia.org/wikipedia/en/thumb/e/e7/Cscr-featured.svg/30px-Cscr-featured.svg.png 1.5x, //upload.wikimedia.org/wikipedia/en/thumb/e/e7/Cscr-featured.svg/40px-Cscr-featured.svg.png 2x\" width=\"20\"/>"
      ]
     },
     "execution_count": 7,
     "metadata": {},
     "output_type": "execute_result"
    }
   ],
   "source": [
    "html_soup.img"
   ]
  },
  {
   "cell_type": "markdown",
   "metadata": {
    "id": "dUcYVALuFpF2"
   },
   "source": [
    "`img` is an image.  Next are several classes of headers, six in total."
   ]
  },
  {
   "cell_type": "code",
   "execution_count": null,
   "metadata": {
    "colab": {
     "base_uri": "https://localhost:8080/"
    },
    "id": "MRww5VOEFoPj",
    "outputId": "effb6c1f-7d32-44e0-be62-3c57601c020e"
   },
   "outputs": [
    {
     "data": {
      "text/plain": [
       "<h2 id=\"mw-toc-heading\">Contents</h2>"
      ]
     },
     "execution_count": 8,
     "metadata": {},
     "output_type": "execute_result"
    }
   ],
   "source": [
    "html_soup.h2"
   ]
  },
  {
   "cell_type": "markdown",
   "metadata": {
    "id": "PeLWvFEXGV8W"
   },
   "source": [
    "The thing we will use the most for this class is `table`"
   ]
  },
  {
   "cell_type": "code",
   "execution_count": null,
   "metadata": {
    "colab": {
     "base_uri": "https://localhost:8080/"
    },
    "id": "q6Q1OuzsGUjP",
    "outputId": "a04ea5ee-ba76-4a07-b163-729247bad75a"
   },
   "outputs": [
    {
     "data": {
      "text/plain": [
       "<table class=\"infobox vevent\"><tbody><tr><th class=\"infobox-above summary\" colspan=\"2\" style=\"background: #CCCCFF; padding: 0.25em 1em; font-size: 125%;\"><i>The Simpsons</i></th></tr><tr><td class=\"infobox-image\" colspan=\"2\"><a class=\"image\" href=\"/wiki/File:The_Simpsons_yellow_logo.svg\"><img alt=\"The Simpsons yellow logo.svg\" data-file-height=\"206\" data-file-width=\"464\" decoding=\"async\" height=\"111\" src=\"//upload.wikimedia.org/wikipedia/commons/thumb/9/98/The_Simpsons_yellow_logo.svg/250px-The_Simpsons_yellow_logo.svg.png\" srcset=\"//upload.wikimedia.org/wikipedia/commons/thumb/9/98/The_Simpsons_yellow_logo.svg/375px-The_Simpsons_yellow_logo.svg.png 1.5x, //upload.wikimedia.org/wikipedia/commons/thumb/9/98/The_Simpsons_yellow_logo.svg/500px-The_Simpsons_yellow_logo.svg.png 2x\" width=\"250\"/></a></td></tr><tr><th class=\"infobox-label\" scope=\"row\">Genre</th><td class=\"infobox-data category\"><div class=\"plainlist\">\n",
       "<ul><li><a href=\"/wiki/Animated_sitcom\" title=\"Animated sitcom\">Animated sitcom</a></li>\n",
       "<li><a href=\"/wiki/Satire\" title=\"Satire\">Satire</a></li></ul>\n",
       "</div></td></tr><tr><th class=\"infobox-label\" scope=\"row\">Created by</th><td class=\"infobox-data\"><a href=\"/wiki/Matt_Groening\" title=\"Matt Groening\">Matt Groening</a></td></tr><tr><th class=\"infobox-label\" scope=\"row\">Based on</th><td class=\"infobox-data\"><a href=\"/wiki/The_Simpsons_shorts\" title=\"The Simpsons shorts\"><i>The Simpsons</i> shorts</a><br/>by Matt Groening</td></tr><tr><th class=\"infobox-label\" scope=\"row\">Developed by</th><td class=\"infobox-data\"><div class=\"plainlist\">\n",
       "<ul><li><a href=\"/wiki/James_L._Brooks\" title=\"James L. Brooks\">James L. Brooks</a></li>\n",
       "<li>Matt Groening</li>\n",
       "<li><a href=\"/wiki/Sam_Simon\" title=\"Sam Simon\">Sam Simon</a></li></ul>\n",
       "</div></td></tr><tr><th class=\"infobox-label\" scope=\"row\">Voices of</th><td class=\"infobox-data attendee\"><div class=\"plainlist\">\n",
       "<ul><li><a href=\"/wiki/Dan_Castellaneta\" title=\"Dan Castellaneta\">Dan Castellaneta</a></li>\n",
       "<li><a href=\"/wiki/Julie_Kavner\" title=\"Julie Kavner\">Julie Kavner</a></li>\n",
       "<li><a href=\"/wiki/Nancy_Cartwright\" title=\"Nancy Cartwright\">Nancy Cartwright</a></li>\n",
       "<li><a href=\"/wiki/Yeardley_Smith\" title=\"Yeardley Smith\">Yeardley Smith</a></li>\n",
       "<li><a href=\"/wiki/Hank_Azaria\" title=\"Hank Azaria\">Hank Azaria</a></li>\n",
       "<li><a href=\"/wiki/Harry_Shearer\" title=\"Harry Shearer\">Harry Shearer</a></li>\n",
       "<li>(<a href=\"/wiki/List_of_The_Simpsons_cast_members\" title=\"List of The Simpsons cast members\">Complete list</a>)</li></ul>\n",
       "</div></td></tr><tr><th class=\"infobox-label\" scope=\"row\">Theme music composer</th><td class=\"infobox-data\"><a href=\"/wiki/Danny_Elfman\" title=\"Danny Elfman\">Danny Elfman</a></td></tr><tr><th class=\"infobox-label\" scope=\"row\">Opening theme</th><td class=\"infobox-data\">\"<a href=\"/wiki/The_Simpsons_Theme\" title=\"The Simpsons Theme\"><i>The Simpsons</i> Theme</a>\"</td></tr><tr><th class=\"infobox-label\" scope=\"row\">Composers</th><td class=\"infobox-data\"><a href=\"/wiki/Richard_Gibbs\" title=\"Richard Gibbs\">Richard Gibbs</a> (1989–1990)<br/><a href=\"/wiki/Alf_Clausen\" title=\"Alf Clausen\">Alf Clausen</a> (1990–2017)<br/><a href=\"/wiki/Bleeding_Fingers_Music\" title=\"Bleeding Fingers Music\">Bleeding Fingers Music</a> (2017–present)</td></tr><tr><th class=\"infobox-label\" scope=\"row\">Country of origin</th><td class=\"infobox-data\">United States</td></tr><tr><th class=\"infobox-label\" scope=\"row\">Original language</th><td class=\"infobox-data\">English</td></tr><tr><th class=\"infobox-label\" scope=\"row\"><abbr title=\"Number\">No.</abbr> of seasons</th><td class=\"infobox-data\">33</td></tr><tr><th class=\"infobox-label\" scope=\"row\"><abbr title=\"Number\">No.</abbr> of episodes</th><td class=\"infobox-data\">717 <span class=\"nowrap\">(<a href=\"/wiki/List_of_The_Simpsons_episodes\" title=\"List of The Simpsons episodes\">list of episodes</a>)</span></td></tr><tr><th class=\"infobox-header summary\" colspan=\"2\" style=\"background: #CCCCFF; padding: 0.25em 1em;\">Production</th></tr><tr><th class=\"infobox-label\" scope=\"row\">Executive producers</th><td class=\"infobox-data\"><div class=\"mw-collapsible mw-collapsed\" style=\"text-align: center; font-size: 95%;\">\n",
       "<div style=\"line-height: 1.6em; font-weight: bold; font-size: 100%; text-align: left;\"><div>List</div></div>\n",
       "<ul class=\"mw-collapsible-content\" style=\"font-size: 105%; margin-top: 0; margin-bottom: 0; line-height: inherit; text-align: left;\"><li style=\"line-height: inherit; margin: 0\">  James L. Brooks (entire run)\n",
       " </li><li style=\"line-height: inherit; margin: 0\">  Matt Groening (entire run)\n",
       " </li><li style=\"line-height: inherit; margin: 0\"> <a href=\"/wiki/Al_Jean\" title=\"Al Jean\">Al Jean</a> (1992–1993; 1995–present)\n",
       " </li><li style=\"line-height: inherit; margin: 0\"> <a href=\"/wiki/Matt_Selman\" title=\"Matt Selman\">Matt Selman</a> (2005–present)\n",
       " </li><li style=\"line-height: inherit; margin: 0\"> <a href=\"/wiki/John_Frink\" title=\"John Frink\">John Frink</a> (2009–present)\n",
       " </li><li style=\"line-height: inherit; margin: 0\">  Sam Simon (1989–1993)\n",
       " </li><li style=\"line-height: inherit; margin: 0\"> <a href=\"/wiki/Mike_Reiss\" title=\"Mike Reiss\">Mike Reiss</a> (1992–1993; 1995–1998)\n",
       " </li><li style=\"line-height: inherit; margin: 0\"> <a href=\"/wiki/David_Mirkin\" title=\"David Mirkin\">David Mirkin</a> (1993–1995)\n",
       " </li><li style=\"line-height: inherit; margin: 0\"> <a href=\"/wiki/Bill_Oakley\" title=\"Bill Oakley\">Bill Oakley</a> (1995–1997)\n",
       " </li><li style=\"line-height: inherit; margin: 0\"> <a href=\"/wiki/Josh_Weinstein\" title=\"Josh Weinstein\">Josh Weinstein</a> (1995–1997)\n",
       " </li><li style=\"line-height: inherit; margin: 0\"> <a href=\"/wiki/Mike_Scully\" title=\"Mike Scully\">Mike Scully</a> (1997–2001)\n",
       " </li><li style=\"line-height: inherit; margin: 0\"> <a href=\"/wiki/George_Meyer\" title=\"George Meyer\">George Meyer</a> (1999–2001)\n",
       " </li><li style=\"line-height: inherit; margin: 0\"> <a href=\"/wiki/Carolyn_Omine\" title=\"Carolyn Omine\">Carolyn Omine</a> (2005–2006)\n",
       " </li><li style=\"line-height: inherit; margin: 0\"> <a href=\"/wiki/Tim_Long\" title=\"Tim Long\">Tim Long</a> (2005–2008)\n",
       " </li><li style=\"line-height: inherit; margin: 0\"> <a href=\"/wiki/Ian_Maxtone-Graham\" title=\"Ian Maxtone-Graham\">Ian Maxtone-Graham</a> (2005–2012)\n",
       "</li></ul>\n",
       "</div></td></tr><tr><th class=\"infobox-label\" scope=\"row\">Running time</th><td class=\"infobox-data\">21–24 minutes</td></tr><tr><th class=\"infobox-label\" scope=\"row\">Production companies</th><td class=\"infobox-data\"><div class=\"plainlist\">\n",
       "<ul><li><a href=\"/wiki/Gracie_Films\" title=\"Gracie Films\">Gracie Films</a></li>\n",
       "<li><a href=\"/wiki/20th_Television\" title=\"20th Television\">20th Television</a><sup class=\"reference\" id=\"cite_ref-1\"><a href=\"#cite_note-1\">[a]</a></sup> (seasons 1–32)</li>\n",
       "<li><a href=\"/wiki/20th_Television_Animation\" title=\"20th Television Animation\">20th Television Animation</a> (season 33–present)</li></ul>\n",
       "</div></td></tr><tr><th class=\"infobox-label\" scope=\"row\">Distributor</th><td class=\"infobox-data\">20th Television</td></tr><tr><th class=\"infobox-header summary\" colspan=\"2\" style=\"background: #CCCCFF; padding: 0.25em 1em;\">Release</th></tr><tr><th class=\"infobox-label\" scope=\"row\">Original network</th><td class=\"infobox-data\"><a href=\"/wiki/Fox_Broadcasting_Company\" title=\"Fox Broadcasting Company\">Fox</a></td></tr><tr><th class=\"infobox-label\" scope=\"row\">Picture format</th><td class=\"infobox-data\"><a href=\"/wiki/NTSC\" title=\"NTSC\">NTSC</a> (1989–2009)<br/><a class=\"mw-redirect\" href=\"/wiki/HDTV\" title=\"HDTV\">HDTV</a> <a href=\"/wiki/720p\" title=\"720p\">720p</a> (2009–present)</td></tr><tr><th class=\"infobox-label\" scope=\"row\">Audio format</th><td class=\"infobox-data\">Stereo (1989–1991)<br/><a class=\"mw-redirect\" href=\"/wiki/Dolby_Surround\" title=\"Dolby Surround\">Dolby Surround</a> (1991–2009)<br/><a href=\"/wiki/Dolby_Digital\" title=\"Dolby Digital\">Dolby Digital</a> (2009–present)</td></tr><tr><th class=\"infobox-label\" scope=\"row\">Original release</th><td class=\"infobox-data\">December 17, 1989<span style=\"display:none\"> (<span class=\"bday dtstart published updated\">1989-12-17</span>)</span> –<br/>present</td></tr><tr><th class=\"infobox-header summary\" colspan=\"2\" style=\"background: #CCCCFF; padding: 0.25em 1em;\">Chronology</th></tr><tr><th class=\"infobox-label\" scope=\"row\">Preceded by</th><td class=\"infobox-data\"><a href=\"/wiki/The_Simpsons_shorts\" title=\"The Simpsons shorts\"><i>The Simpsons</i> shorts</a> from <i><a href=\"/wiki/The_Tracey_Ullman_Show\" title=\"The Tracey Ullman Show\">The Tracey Ullman Show</a></i></td></tr><tr><th class=\"infobox-header summary\" colspan=\"2\" style=\"background: #CCCCFF; padding: 0.25em 1em;\">External links</th></tr><tr><td class=\"infobox-full-data url\" colspan=\"2\"><a class=\"external text\" href=\"https://www.fox.com/the-simpsons/\" rel=\"nofollow\">Official website</a></td></tr></tbody></table>"
      ]
     },
     "execution_count": 8,
     "metadata": {},
     "output_type": "execute_result"
    }
   ],
   "source": [
    "html_soup.table"
   ]
  },
  {
   "cell_type": "markdown",
   "metadata": {
    "id": "fLcS5XT6Gj2O"
   },
   "source": [
    "You can combine these commands!"
   ]
  },
  {
   "cell_type": "code",
   "execution_count": null,
   "metadata": {
    "colab": {
     "base_uri": "https://localhost:8080/",
     "height": 36
    },
    "id": "8kVhhpigGdy8",
    "outputId": "f8794bc2-bfe7-477b-b89d-72222e1093c0"
   },
   "outputs": [
    {
     "data": {
      "application/vnd.google.colaboratory.intrinsic+json": {
       "type": "string"
      },
      "text/plain": [
       "'/wiki/File:The_Simpsons_yellow_logo.svg'"
      ]
     },
     "execution_count": 16,
     "metadata": {},
     "output_type": "execute_result"
    }
   ],
   "source": [
    "html_soup.table.a['href']"
   ]
  },
  {
   "cell_type": "markdown",
   "metadata": {
    "id": "Z2kcaOC3G1KW"
   },
   "source": [
    "This looks like an image on top of the table.  `href` is the link to the file that give that image.  You should go check out the webpage and see if you can find it!\n",
    "\n",
    "Notice how I only keep getting the first of something?  There are many more links and table on the webpage!  Use the `find_all`"
   ]
  },
  {
   "cell_type": "code",
   "execution_count": null,
   "metadata": {
    "colab": {
     "base_uri": "https://localhost:8080/"
    },
    "id": "tb2z0szvJx97",
    "outputId": "a56bccef-0712-44bd-c343-f23f58fb3e9c"
   },
   "outputs": [
    {
     "data": {
      "text/plain": [
       "[<a class=\"image\" href=\"/wiki/File:The_Simpsons_yellow_logo.svg\"><img alt=\"The Simpsons yellow logo.svg\" data-file-height=\"206\" data-file-width=\"464\" decoding=\"async\" height=\"111\" src=\"//upload.wikimedia.org/wikipedia/commons/thumb/9/98/The_Simpsons_yellow_logo.svg/250px-The_Simpsons_yellow_logo.svg.png\" srcset=\"//upload.wikimedia.org/wikipedia/commons/thumb/9/98/The_Simpsons_yellow_logo.svg/375px-The_Simpsons_yellow_logo.svg.png 1.5x, //upload.wikimedia.org/wikipedia/commons/thumb/9/98/The_Simpsons_yellow_logo.svg/500px-The_Simpsons_yellow_logo.svg.png 2x\" width=\"250\"/></a>,\n",
       " <a href=\"/wiki/Animated_sitcom\" title=\"Animated sitcom\">Animated sitcom</a>,\n",
       " <a href=\"/wiki/Satire\" title=\"Satire\">Satire</a>,\n",
       " <a href=\"/wiki/Matt_Groening\" title=\"Matt Groening\">Matt Groening</a>,\n",
       " <a href=\"/wiki/The_Simpsons_shorts\" title=\"The Simpsons shorts\"><i>The Simpsons</i> shorts</a>,\n",
       " <a href=\"/wiki/James_L._Brooks\" title=\"James L. Brooks\">James L. Brooks</a>,\n",
       " <a href=\"/wiki/Sam_Simon\" title=\"Sam Simon\">Sam Simon</a>,\n",
       " <a href=\"/wiki/Dan_Castellaneta\" title=\"Dan Castellaneta\">Dan Castellaneta</a>,\n",
       " <a href=\"/wiki/Julie_Kavner\" title=\"Julie Kavner\">Julie Kavner</a>,\n",
       " <a href=\"/wiki/Nancy_Cartwright\" title=\"Nancy Cartwright\">Nancy Cartwright</a>,\n",
       " <a href=\"/wiki/Yeardley_Smith\" title=\"Yeardley Smith\">Yeardley Smith</a>,\n",
       " <a href=\"/wiki/Hank_Azaria\" title=\"Hank Azaria\">Hank Azaria</a>,\n",
       " <a href=\"/wiki/Harry_Shearer\" title=\"Harry Shearer\">Harry Shearer</a>,\n",
       " <a href=\"/wiki/List_of_The_Simpsons_cast_members\" title=\"List of The Simpsons cast members\">Complete list</a>,\n",
       " <a href=\"/wiki/Danny_Elfman\" title=\"Danny Elfman\">Danny Elfman</a>,\n",
       " <a href=\"/wiki/The_Simpsons_Theme\" title=\"The Simpsons Theme\"><i>The Simpsons</i> Theme</a>,\n",
       " <a href=\"/wiki/Richard_Gibbs\" title=\"Richard Gibbs\">Richard Gibbs</a>,\n",
       " <a href=\"/wiki/Alf_Clausen\" title=\"Alf Clausen\">Alf Clausen</a>,\n",
       " <a href=\"/wiki/Bleeding_Fingers_Music\" title=\"Bleeding Fingers Music\">Bleeding Fingers Music</a>,\n",
       " <a href=\"/wiki/List_of_The_Simpsons_episodes\" title=\"List of The Simpsons episodes\">list of episodes</a>,\n",
       " <a href=\"/wiki/Al_Jean\" title=\"Al Jean\">Al Jean</a>,\n",
       " <a href=\"/wiki/Matt_Selman\" title=\"Matt Selman\">Matt Selman</a>,\n",
       " <a href=\"/wiki/John_Frink\" title=\"John Frink\">John Frink</a>,\n",
       " <a href=\"/wiki/Mike_Reiss\" title=\"Mike Reiss\">Mike Reiss</a>,\n",
       " <a href=\"/wiki/David_Mirkin\" title=\"David Mirkin\">David Mirkin</a>,\n",
       " <a href=\"/wiki/Bill_Oakley\" title=\"Bill Oakley\">Bill Oakley</a>,\n",
       " <a href=\"/wiki/Josh_Weinstein\" title=\"Josh Weinstein\">Josh Weinstein</a>,\n",
       " <a href=\"/wiki/Mike_Scully\" title=\"Mike Scully\">Mike Scully</a>,\n",
       " <a href=\"/wiki/George_Meyer\" title=\"George Meyer\">George Meyer</a>,\n",
       " <a href=\"/wiki/Carolyn_Omine\" title=\"Carolyn Omine\">Carolyn Omine</a>,\n",
       " <a href=\"/wiki/Tim_Long\" title=\"Tim Long\">Tim Long</a>,\n",
       " <a href=\"/wiki/Ian_Maxtone-Graham\" title=\"Ian Maxtone-Graham\">Ian Maxtone-Graham</a>,\n",
       " <a href=\"/wiki/Gracie_Films\" title=\"Gracie Films\">Gracie Films</a>,\n",
       " <a href=\"/wiki/20th_Television\" title=\"20th Television\">20th Television</a>,\n",
       " <a href=\"#cite_note-1\">[a]</a>,\n",
       " <a href=\"/wiki/20th_Television_Animation\" title=\"20th Television Animation\">20th Television Animation</a>,\n",
       " <a href=\"/wiki/Fox_Broadcasting_Company\" title=\"Fox Broadcasting Company\">Fox</a>,\n",
       " <a href=\"/wiki/NTSC\" title=\"NTSC\">NTSC</a>,\n",
       " <a class=\"mw-redirect\" href=\"/wiki/HDTV\" title=\"HDTV\">HDTV</a>,\n",
       " <a href=\"/wiki/720p\" title=\"720p\">720p</a>,\n",
       " <a class=\"mw-redirect\" href=\"/wiki/Dolby_Surround\" title=\"Dolby Surround\">Dolby Surround</a>,\n",
       " <a href=\"/wiki/Dolby_Digital\" title=\"Dolby Digital\">Dolby Digital</a>,\n",
       " <a href=\"/wiki/The_Simpsons_shorts\" title=\"The Simpsons shorts\"><i>The Simpsons</i> shorts</a>,\n",
       " <a href=\"/wiki/The_Tracey_Ullman_Show\" title=\"The Tracey Ullman Show\">The Tracey Ullman Show</a>,\n",
       " <a class=\"external text\" href=\"https://www.fox.com/the-simpsons/\" rel=\"nofollow\">Official website</a>]"
      ]
     },
     "execution_count": 49,
     "metadata": {},
     "output_type": "execute_result"
    }
   ],
   "source": [
    "html_soup.table.find_all('a')"
   ]
  },
  {
   "cell_type": "markdown",
   "metadata": {
    "id": "oRda-UOPKECG"
   },
   "source": [
    "This gives all the links from this table that includes the talent for the show.  You can access each link by using "
   ]
  },
  {
   "cell_type": "code",
   "execution_count": null,
   "metadata": {
    "colab": {
     "base_uri": "https://localhost:8080/",
     "height": 35
    },
    "id": "RnnzT33SKX12",
    "outputId": "c9d86c7c-24ac-495c-dc84-b04384e4d09d"
   },
   "outputs": [
    {
     "data": {
      "application/vnd.google.colaboratory.intrinsic+json": {
       "type": "string"
      },
      "text/plain": [
       "'/wiki/Animated_sitcom'"
      ]
     },
     "execution_count": 53,
     "metadata": {},
     "output_type": "execute_result"
    }
   ],
   "source": [
    "html_soup.table.find_all('a')[1]['href']"
   ]
  },
  {
   "cell_type": "markdown",
   "metadata": {
    "id": "Q6sPpzHlKW0n"
   },
   "source": [
    "If you wanted to do some crawling along the web you might do something like:"
   ]
  },
  {
   "cell_type": "code",
   "execution_count": null,
   "metadata": {
    "colab": {
     "base_uri": "https://localhost:8080/"
    },
    "id": "gADVAMDiK4iN",
    "outputId": "34ec2c6d-d0e4-4b4c-a382-52f0d6f84f2e"
   },
   "outputs": [
    {
     "data": {
      "text/plain": [
       "['https://en.wikipedia.org/wiki/File:The_Simpsons_yellow_logo.svg',\n",
       " 'https://en.wikipedia.org/wiki/Animated_sitcom',\n",
       " 'https://en.wikipedia.org/wiki/Satire',\n",
       " 'https://en.wikipedia.org/wiki/Matt_Groening',\n",
       " 'https://en.wikipedia.org/wiki/The_Simpsons_shorts',\n",
       " 'https://en.wikipedia.org/wiki/James_L._Brooks',\n",
       " 'https://en.wikipedia.org/wiki/Sam_Simon',\n",
       " 'https://en.wikipedia.org/wiki/Dan_Castellaneta',\n",
       " 'https://en.wikipedia.org/wiki/Julie_Kavner',\n",
       " 'https://en.wikipedia.org/wiki/Nancy_Cartwright',\n",
       " 'https://en.wikipedia.org/wiki/Yeardley_Smith',\n",
       " 'https://en.wikipedia.org/wiki/Hank_Azaria',\n",
       " 'https://en.wikipedia.org/wiki/Harry_Shearer',\n",
       " 'https://en.wikipedia.org/wiki/List_of_The_Simpsons_cast_members',\n",
       " 'https://en.wikipedia.org/wiki/Danny_Elfman',\n",
       " 'https://en.wikipedia.org/wiki/The_Simpsons_Theme',\n",
       " 'https://en.wikipedia.org/wiki/Richard_Gibbs',\n",
       " 'https://en.wikipedia.org/wiki/Alf_Clausen',\n",
       " 'https://en.wikipedia.org/wiki/Bleeding_Fingers_Music',\n",
       " 'https://en.wikipedia.org/wiki/List_of_The_Simpsons_episodes',\n",
       " 'https://en.wikipedia.org/wiki/Al_Jean',\n",
       " 'https://en.wikipedia.org/wiki/Matt_Selman',\n",
       " 'https://en.wikipedia.org/wiki/John_Frink',\n",
       " 'https://en.wikipedia.org/wiki/Mike_Reiss',\n",
       " 'https://en.wikipedia.org/wiki/David_Mirkin',\n",
       " 'https://en.wikipedia.org/wiki/Bill_Oakley',\n",
       " 'https://en.wikipedia.org/wiki/Josh_Weinstein',\n",
       " 'https://en.wikipedia.org/wiki/Mike_Scully',\n",
       " 'https://en.wikipedia.org/wiki/George_Meyer',\n",
       " 'https://en.wikipedia.org/wiki/Carolyn_Omine',\n",
       " 'https://en.wikipedia.org/wiki/Tim_Long',\n",
       " 'https://en.wikipedia.org/wiki/Ian_Maxtone-Graham',\n",
       " 'https://en.wikipedia.org/wiki/Gracie_Films',\n",
       " 'https://en.wikipedia.org/wiki/20th_Television',\n",
       " 'https://en.wikipedia.org#cite_note-1',\n",
       " 'https://en.wikipedia.org/wiki/20th_Television_Animation',\n",
       " 'https://en.wikipedia.org/wiki/Fox_Broadcasting_Company',\n",
       " 'https://en.wikipedia.org/wiki/NTSC',\n",
       " 'https://en.wikipedia.org/wiki/HDTV',\n",
       " 'https://en.wikipedia.org/wiki/720p',\n",
       " 'https://en.wikipedia.org/wiki/Dolby_Surround',\n",
       " 'https://en.wikipedia.org/wiki/Dolby_Digital',\n",
       " 'https://en.wikipedia.org/wiki/The_Simpsons_shorts',\n",
       " 'https://en.wikipedia.org/wiki/The_Tracey_Ullman_Show',\n",
       " 'https://en.wikipedia.orghttps://www.fox.com/the-simpsons/']"
      ]
     },
     "execution_count": 54,
     "metadata": {},
     "output_type": "execute_result"
    }
   ],
   "source": [
    "links = html_soup.table.find_all('a')\n",
    "listOfURLS = []\n",
    "\n",
    "for link in links:\n",
    "  listOfURLS.append('https://en.wikipedia.org' + link['href'])\n",
    "\n",
    "listOfURLS"
   ]
  },
  {
   "cell_type": "markdown",
   "metadata": {
    "id": "3TkJJQQJLd3u"
   },
   "source": [
    "Doesn't look like all of these worked but you should get the general idea!  We could visit each of these sites just like we did above!"
   ]
  },
  {
   "cell_type": "markdown",
   "metadata": {
    "id": "FUrLnRixILVJ"
   },
   "source": [
    "## Developer Tools"
   ]
  },
  {
   "cell_type": "markdown",
   "metadata": {
    "id": "gLCMQs1qy-E7"
   },
   "source": [
    "Your favorite web browser will have developer tools! These will allow you to examine the raw html code while also hightlighting the rendered output with your browser. This is very useful for webscrapping and figuring out how a website has been constructed! I acessed the developer tools with F12 key but it may vary for you!\n",
    "\n",
    "Here is a screen shot of me highlighting the first table. \n",
    "\n",
    "![simpsonsDevTools](https://raw.githubusercontent.com/nurfnick/Data_Viz/main/Content/devtools.png)"
   ]
  },
  {
   "cell_type": "markdown",
   "metadata": {
    "id": "Gvh1mL5VJUKv"
   },
   "source": [
    "The developer tools are at the bottom and I have grabbed the first table that we have also scrapped.  The html is well organized in the developer tools but it also might have called a server and gotten external data from somewhere.  So be aware what you see here and on your `requests.get` may not be the same."
   ]
  },
  {
   "cell_type": "markdown",
   "metadata": {
    "id": "Fc3r6g-LL8Ar"
   },
   "source": [
    "## Your Turn"
   ]
  },
  {
   "cell_type": "markdown",
   "metadata": {
    "id": "eOPCzF-KL91V"
   },
   "source": [
    "Navigate you the wikipedia page for your favorite television show or sports club. \n",
    "\n",
    "1. Display the title for the page\n",
    "2. Within an interesting table, retrieve all links and store them in a list"
   ]
  }
 ],
 "metadata": {
  "colab": {
   "authorship_tag": "ABX9TyNVPMaATxgg++GisGG3KZbs",
   "include_colab_link": true,
   "name": "Untitled73.ipynb",
   "provenance": []
  },
  "kernelspec": {
   "display_name": "Python 3",
   "name": "python3"
  },
  "language_info": {
   "name": "python"
  }
 },
 "nbformat": 4,
 "nbformat_minor": 0
}