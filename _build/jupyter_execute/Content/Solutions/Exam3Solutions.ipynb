{
 "cells": [
  {
   "cell_type": "markdown",
   "metadata": {
    "colab_type": "text",
    "id": "view-in-github"
   },
   "source": [
    "<a href=\"https://colab.research.google.com/github/nurfnick/Data_Viz/blob/main/Exam3Solutions.ipynb\" target=\"_parent\"><img src=\"https://colab.research.google.com/assets/colab-badge.svg\" alt=\"Open In Colab\"/></a>"
   ]
  },
  {
   "cell_type": "markdown",
   "metadata": {
    "id": "hAO2R-c5dBOQ"
   },
   "source": [
    "# Exam 3 Solutions Data Visualization and Preprocessing"
   ]
  },
  {
   "cell_type": "code",
   "execution_count": null,
   "metadata": {
    "id": "u_rZgjLzc7M3"
   },
   "outputs": [],
   "source": [
    "import numpy as np\n",
    "import pandas as pa\n",
    "import seaborn as sns\n",
    "import matplotlib.pyplot as plt\n",
    "\n",
    "df = pa.read_csv('https://raw.githubusercontent.com/nurfnick/Data_Viz/main/worldCupPlayer.csv')"
   ]
  },
  {
   "cell_type": "code",
   "execution_count": null,
   "metadata": {
    "colab": {
     "base_uri": "https://localhost:8080/",
     "height": 206
    },
    "id": "FqCHp8f3dewy",
    "outputId": "bfc69649-27c5-44f5-92c0-00610d07f980"
   },
   "outputs": [
    {
     "data": {
      "text/html": [
       "\n",
       "  <div id=\"df-76543185-97dd-4604-a378-3dcd530a5c2f\">\n",
       "    <div class=\"colab-df-container\">\n",
       "      <div>\n",
       "<style scoped>\n",
       "    .dataframe tbody tr th:only-of-type {\n",
       "        vertical-align: middle;\n",
       "    }\n",
       "\n",
       "    .dataframe tbody tr th {\n",
       "        vertical-align: top;\n",
       "    }\n",
       "\n",
       "    .dataframe thead th {\n",
       "        text-align: right;\n",
       "    }\n",
       "</style>\n",
       "<table border=\"1\" class=\"dataframe\">\n",
       "  <thead>\n",
       "    <tr style=\"text-align: right;\">\n",
       "      <th></th>\n",
       "      <th>Unnamed: 0</th>\n",
       "      <th>Rank</th>\n",
       "      <th>player</th>\n",
       "      <th>club</th>\n",
       "      <th>age</th>\n",
       "      <th>Apps</th>\n",
       "      <th>Mins</th>\n",
       "      <th>Goals</th>\n",
       "      <th>Assists</th>\n",
       "      <th>Yel</th>\n",
       "      <th>Red</th>\n",
       "      <th>SpG</th>\n",
       "      <th>PS</th>\n",
       "      <th>AerialsWon</th>\n",
       "      <th>MotM</th>\n",
       "      <th>Rating</th>\n",
       "      <th>nationality</th>\n",
       "    </tr>\n",
       "  </thead>\n",
       "  <tbody>\n",
       "    <tr>\n",
       "      <th>0</th>\n",
       "      <td>0</td>\n",
       "      <td>1</td>\n",
       "      <td>Hakim Ziyech</td>\n",
       "      <td>Ajax</td>\n",
       "      <td>25</td>\n",
       "      <td>34</td>\n",
       "      <td>3043</td>\n",
       "      <td>9</td>\n",
       "      <td>15</td>\n",
       "      <td>4</td>\n",
       "      <td>0</td>\n",
       "      <td>4.9</td>\n",
       "      <td>75.4</td>\n",
       "      <td>0.2</td>\n",
       "      <td>9</td>\n",
       "      <td>8.21</td>\n",
       "      <td>Morocco</td>\n",
       "    </tr>\n",
       "    <tr>\n",
       "      <th>1</th>\n",
       "      <td>2</td>\n",
       "      <td>2</td>\n",
       "      <td>Alireza Jahanbakhsh</td>\n",
       "      <td>AZ Alkmaar</td>\n",
       "      <td>24</td>\n",
       "      <td>33</td>\n",
       "      <td>2840</td>\n",
       "      <td>21</td>\n",
       "      <td>12</td>\n",
       "      <td>3</td>\n",
       "      <td>0</td>\n",
       "      <td>4.3</td>\n",
       "      <td>73.4</td>\n",
       "      <td>0.7</td>\n",
       "      <td>14</td>\n",
       "      <td>8.20</td>\n",
       "      <td>Iran</td>\n",
       "    </tr>\n",
       "    <tr>\n",
       "      <th>2</th>\n",
       "      <td>4</td>\n",
       "      <td>3</td>\n",
       "      <td>Hirving Lozano</td>\n",
       "      <td>PSV Eindhoven</td>\n",
       "      <td>22</td>\n",
       "      <td>29</td>\n",
       "      <td>2350</td>\n",
       "      <td>17</td>\n",
       "      <td>8</td>\n",
       "      <td>4</td>\n",
       "      <td>2</td>\n",
       "      <td>3.4</td>\n",
       "      <td>75.3</td>\n",
       "      <td>0.6</td>\n",
       "      <td>8</td>\n",
       "      <td>7.90</td>\n",
       "      <td>Mexico</td>\n",
       "    </tr>\n",
       "    <tr>\n",
       "      <th>3</th>\n",
       "      <td>6</td>\n",
       "      <td>11</td>\n",
       "      <td>Lasse Schone</td>\n",
       "      <td>Ajax</td>\n",
       "      <td>32</td>\n",
       "      <td>27(3)</td>\n",
       "      <td>2350</td>\n",
       "      <td>10</td>\n",
       "      <td>3</td>\n",
       "      <td>6</td>\n",
       "      <td>0</td>\n",
       "      <td>1.9</td>\n",
       "      <td>87.0</td>\n",
       "      <td>1.9</td>\n",
       "      <td>2</td>\n",
       "      <td>7.45</td>\n",
       "      <td>Denmark</td>\n",
       "    </tr>\n",
       "    <tr>\n",
       "      <th>4</th>\n",
       "      <td>10</td>\n",
       "      <td>25</td>\n",
       "      <td>Santiago Arias</td>\n",
       "      <td>PSV Eindhoven</td>\n",
       "      <td>26</td>\n",
       "      <td>30</td>\n",
       "      <td>2664</td>\n",
       "      <td>3</td>\n",
       "      <td>6</td>\n",
       "      <td>5</td>\n",
       "      <td>0</td>\n",
       "      <td>1.5</td>\n",
       "      <td>82.3</td>\n",
       "      <td>1</td>\n",
       "      <td>2</td>\n",
       "      <td>7.25</td>\n",
       "      <td>Colombia</td>\n",
       "    </tr>\n",
       "  </tbody>\n",
       "</table>\n",
       "</div>\n",
       "      <button class=\"colab-df-convert\" onclick=\"convertToInteractive('df-76543185-97dd-4604-a378-3dcd530a5c2f')\"\n",
       "              title=\"Convert this dataframe to an interactive table.\"\n",
       "              style=\"display:none;\">\n",
       "        \n",
       "  <svg xmlns=\"http://www.w3.org/2000/svg\" height=\"24px\"viewBox=\"0 0 24 24\"\n",
       "       width=\"24px\">\n",
       "    <path d=\"M0 0h24v24H0V0z\" fill=\"none\"/>\n",
       "    <path d=\"M18.56 5.44l.94 2.06.94-2.06 2.06-.94-2.06-.94-.94-2.06-.94 2.06-2.06.94zm-11 1L8.5 8.5l.94-2.06 2.06-.94-2.06-.94L8.5 2.5l-.94 2.06-2.06.94zm10 10l.94 2.06.94-2.06 2.06-.94-2.06-.94-.94-2.06-.94 2.06-2.06.94z\"/><path d=\"M17.41 7.96l-1.37-1.37c-.4-.4-.92-.59-1.43-.59-.52 0-1.04.2-1.43.59L10.3 9.45l-7.72 7.72c-.78.78-.78 2.05 0 2.83L4 21.41c.39.39.9.59 1.41.59.51 0 1.02-.2 1.41-.59l7.78-7.78 2.81-2.81c.8-.78.8-2.07 0-2.86zM5.41 20L4 18.59l7.72-7.72 1.47 1.35L5.41 20z\"/>\n",
       "  </svg>\n",
       "      </button>\n",
       "      \n",
       "  <style>\n",
       "    .colab-df-container {\n",
       "      display:flex;\n",
       "      flex-wrap:wrap;\n",
       "      gap: 12px;\n",
       "    }\n",
       "\n",
       "    .colab-df-convert {\n",
       "      background-color: #E8F0FE;\n",
       "      border: none;\n",
       "      border-radius: 50%;\n",
       "      cursor: pointer;\n",
       "      display: none;\n",
       "      fill: #1967D2;\n",
       "      height: 32px;\n",
       "      padding: 0 0 0 0;\n",
       "      width: 32px;\n",
       "    }\n",
       "\n",
       "    .colab-df-convert:hover {\n",
       "      background-color: #E2EBFA;\n",
       "      box-shadow: 0px 1px 2px rgba(60, 64, 67, 0.3), 0px 1px 3px 1px rgba(60, 64, 67, 0.15);\n",
       "      fill: #174EA6;\n",
       "    }\n",
       "\n",
       "    [theme=dark] .colab-df-convert {\n",
       "      background-color: #3B4455;\n",
       "      fill: #D2E3FC;\n",
       "    }\n",
       "\n",
       "    [theme=dark] .colab-df-convert:hover {\n",
       "      background-color: #434B5C;\n",
       "      box-shadow: 0px 1px 3px 1px rgba(0, 0, 0, 0.15);\n",
       "      filter: drop-shadow(0px 1px 2px rgba(0, 0, 0, 0.3));\n",
       "      fill: #FFFFFF;\n",
       "    }\n",
       "  </style>\n",
       "\n",
       "      <script>\n",
       "        const buttonEl =\n",
       "          document.querySelector('#df-76543185-97dd-4604-a378-3dcd530a5c2f button.colab-df-convert');\n",
       "        buttonEl.style.display =\n",
       "          google.colab.kernel.accessAllowed ? 'block' : 'none';\n",
       "\n",
       "        async function convertToInteractive(key) {\n",
       "          const element = document.querySelector('#df-76543185-97dd-4604-a378-3dcd530a5c2f');\n",
       "          const dataTable =\n",
       "            await google.colab.kernel.invokeFunction('convertToInteractive',\n",
       "                                                     [key], {});\n",
       "          if (!dataTable) return;\n",
       "\n",
       "          const docLinkHtml = 'Like what you see? Visit the ' +\n",
       "            '<a target=\"_blank\" href=https://colab.research.google.com/notebooks/data_table.ipynb>data table notebook</a>'\n",
       "            + ' to learn more about interactive tables.';\n",
       "          element.innerHTML = '';\n",
       "          dataTable['output_type'] = 'display_data';\n",
       "          await google.colab.output.renderOutput(dataTable, element);\n",
       "          const docLink = document.createElement('div');\n",
       "          docLink.innerHTML = docLinkHtml;\n",
       "          element.appendChild(docLink);\n",
       "        }\n",
       "      </script>\n",
       "    </div>\n",
       "  </div>\n",
       "  "
      ],
      "text/plain": [
       "   Unnamed: 0  Rank               player           club  age   Apps  Mins  \\\n",
       "0           0     1         Hakim Ziyech           Ajax   25     34  3043   \n",
       "1           2     2  Alireza Jahanbakhsh     AZ Alkmaar   24     33  2840   \n",
       "2           4     3       Hirving Lozano  PSV Eindhoven   22     29  2350   \n",
       "3           6    11         Lasse Schone           Ajax   32  27(3)  2350   \n",
       "4          10    25       Santiago Arias  PSV Eindhoven   26     30  2664   \n",
       "\n",
       "   Goals  Assists  Yel  Red  SpG    PS AerialsWon  MotM  Rating nationality  \n",
       "0      9       15    4    0  4.9  75.4        0.2     9    8.21     Morocco  \n",
       "1     21       12    3    0  4.3  73.4        0.7    14    8.20        Iran  \n",
       "2     17        8    4    2  3.4  75.3        0.6     8    7.90      Mexico  \n",
       "3     10        3    6    0  1.9  87.0        1.9     2    7.45     Denmark  \n",
       "4      3        6    5    0  1.5  82.3          1     2    7.25    Colombia  "
      ]
     },
     "execution_count": 2,
     "metadata": {},
     "output_type": "execute_result"
    }
   ],
   "source": [
    "df.head()"
   ]
  },
  {
   "cell_type": "markdown",
   "metadata": {
    "id": "7f4kIAqpfFzQ"
   },
   "source": [
    "## COYS!\n",
    "\n",
    "![Rooster](https://upload.wikimedia.org/wikipedia/en/thumb/b/b4/Tottenham_Hotspur.svg/800px-Tottenham_Hotspur.svg.png)"
   ]
  },
  {
   "cell_type": "code",
   "execution_count": null,
   "metadata": {
    "colab": {
     "base_uri": "https://localhost:8080/",
     "height": 614
    },
    "id": "xPz98a2Odhcl",
    "outputId": "92090ef8-d968-464b-9933-c66404f3dc0c"
   },
   "outputs": [
    {
     "data": {
      "text/html": [
       "\n",
       "  <div id=\"df-9f86502c-b13b-4225-90d3-d5ddd1afcc89\">\n",
       "    <div class=\"colab-df-container\">\n",
       "      <div>\n",
       "<style scoped>\n",
       "    .dataframe tbody tr th:only-of-type {\n",
       "        vertical-align: middle;\n",
       "    }\n",
       "\n",
       "    .dataframe tbody tr th {\n",
       "        vertical-align: top;\n",
       "    }\n",
       "\n",
       "    .dataframe thead th {\n",
       "        text-align: right;\n",
       "    }\n",
       "</style>\n",
       "<table border=\"1\" class=\"dataframe\">\n",
       "  <thead>\n",
       "    <tr style=\"text-align: right;\">\n",
       "      <th></th>\n",
       "      <th>Unnamed: 0</th>\n",
       "      <th>Rank</th>\n",
       "      <th>player</th>\n",
       "      <th>club</th>\n",
       "      <th>age</th>\n",
       "      <th>Apps</th>\n",
       "      <th>Mins</th>\n",
       "      <th>Goals</th>\n",
       "      <th>Assists</th>\n",
       "      <th>Yel</th>\n",
       "      <th>Red</th>\n",
       "      <th>SpG</th>\n",
       "      <th>PS</th>\n",
       "      <th>AerialsWon</th>\n",
       "      <th>MotM</th>\n",
       "      <th>Rating</th>\n",
       "      <th>nationality</th>\n",
       "    </tr>\n",
       "  </thead>\n",
       "  <tbody>\n",
       "    <tr>\n",
       "      <th>414</th>\n",
       "      <td>795</td>\n",
       "      <td>5</td>\n",
       "      <td>Harry Kane</td>\n",
       "      <td>Tottenham</td>\n",
       "      <td>24</td>\n",
       "      <td>35(2)</td>\n",
       "      <td>3083</td>\n",
       "      <td>30</td>\n",
       "      <td>2</td>\n",
       "      <td>5</td>\n",
       "      <td>0</td>\n",
       "      <td>5</td>\n",
       "      <td>71.2</td>\n",
       "      <td>1.6</td>\n",
       "      <td>9</td>\n",
       "      <td>7.60</td>\n",
       "      <td>England</td>\n",
       "    </tr>\n",
       "    <tr>\n",
       "      <th>415</th>\n",
       "      <td>796</td>\n",
       "      <td>2</td>\n",
       "      <td>Harry Kane</td>\n",
       "      <td>Tottenham</td>\n",
       "      <td>24</td>\n",
       "      <td>7</td>\n",
       "      <td>597</td>\n",
       "      <td>7</td>\n",
       "      <td>2</td>\n",
       "      <td>0</td>\n",
       "      <td>0</td>\n",
       "      <td>4.6</td>\n",
       "      <td>78.6</td>\n",
       "      <td>1.6</td>\n",
       "      <td>2</td>\n",
       "      <td>8.34</td>\n",
       "      <td>England</td>\n",
       "    </tr>\n",
       "    <tr>\n",
       "      <th>422</th>\n",
       "      <td>806</td>\n",
       "      <td>11</td>\n",
       "      <td>Christian Eriksen</td>\n",
       "      <td>Tottenham</td>\n",
       "      <td>26</td>\n",
       "      <td>37</td>\n",
       "      <td>3226</td>\n",
       "      <td>10</td>\n",
       "      <td>10</td>\n",
       "      <td>0</td>\n",
       "      <td>0</td>\n",
       "      <td>2.6</td>\n",
       "      <td>82.4</td>\n",
       "      <td>0.5</td>\n",
       "      <td>4</td>\n",
       "      <td>7.40</td>\n",
       "      <td>Denmark</td>\n",
       "    </tr>\n",
       "    <tr>\n",
       "      <th>423</th>\n",
       "      <td>808</td>\n",
       "      <td>95</td>\n",
       "      <td>Christian Eriksen</td>\n",
       "      <td>Tottenham</td>\n",
       "      <td>26</td>\n",
       "      <td>6</td>\n",
       "      <td>535</td>\n",
       "      <td>2</td>\n",
       "      <td>1</td>\n",
       "      <td>0</td>\n",
       "      <td>0</td>\n",
       "      <td>3.3</td>\n",
       "      <td>83.1</td>\n",
       "      <td>0.5</td>\n",
       "      <td>0</td>\n",
       "      <td>7.08</td>\n",
       "      <td>Denmark</td>\n",
       "    </tr>\n",
       "    <tr>\n",
       "      <th>430</th>\n",
       "      <td>820</td>\n",
       "      <td>22</td>\n",
       "      <td>Jan Vertonghen</td>\n",
       "      <td>Tottenham</td>\n",
       "      <td>31</td>\n",
       "      <td>36</td>\n",
       "      <td>3205</td>\n",
       "      <td>0</td>\n",
       "      <td>0</td>\n",
       "      <td>4</td>\n",
       "      <td>0</td>\n",
       "      <td>0.7</td>\n",
       "      <td>86.3</td>\n",
       "      <td>3.3</td>\n",
       "      <td>3</td>\n",
       "      <td>7.26</td>\n",
       "      <td>Belgium</td>\n",
       "    </tr>\n",
       "    <tr>\n",
       "      <th>431</th>\n",
       "      <td>822</td>\n",
       "      <td>231</td>\n",
       "      <td>Jan Vertonghen</td>\n",
       "      <td>Tottenham</td>\n",
       "      <td>31</td>\n",
       "      <td>6</td>\n",
       "      <td>540</td>\n",
       "      <td>0</td>\n",
       "      <td>1</td>\n",
       "      <td>1</td>\n",
       "      <td>1</td>\n",
       "      <td>0.3</td>\n",
       "      <td>86.5</td>\n",
       "      <td>2</td>\n",
       "      <td>0</td>\n",
       "      <td>6.75</td>\n",
       "      <td>Belgium</td>\n",
       "    </tr>\n",
       "    <tr>\n",
       "      <th>446</th>\n",
       "      <td>852</td>\n",
       "      <td>44</td>\n",
       "      <td>Dele Alli</td>\n",
       "      <td>Tottenham</td>\n",
       "      <td>22</td>\n",
       "      <td>34(2)</td>\n",
       "      <td>2972</td>\n",
       "      <td>9</td>\n",
       "      <td>10</td>\n",
       "      <td>7</td>\n",
       "      <td>0</td>\n",
       "      <td>1.9</td>\n",
       "      <td>77.2</td>\n",
       "      <td>0.8</td>\n",
       "      <td>1</td>\n",
       "      <td>7.09</td>\n",
       "      <td>England</td>\n",
       "    </tr>\n",
       "    <tr>\n",
       "      <th>447</th>\n",
       "      <td>854</td>\n",
       "      <td>13</td>\n",
       "      <td>Dele Alli</td>\n",
       "      <td>Tottenham</td>\n",
       "      <td>22</td>\n",
       "      <td>5</td>\n",
       "      <td>427</td>\n",
       "      <td>2</td>\n",
       "      <td>4</td>\n",
       "      <td>1</td>\n",
       "      <td>0</td>\n",
       "      <td>1.6</td>\n",
       "      <td>80.7</td>\n",
       "      <td>0.6</td>\n",
       "      <td>1</td>\n",
       "      <td>7.73</td>\n",
       "      <td>England</td>\n",
       "    </tr>\n",
       "    <tr>\n",
       "      <th>455</th>\n",
       "      <td>870</td>\n",
       "      <td>57</td>\n",
       "      <td>Kieran Trippier</td>\n",
       "      <td>Tottenham</td>\n",
       "      <td>27</td>\n",
       "      <td>21(3)</td>\n",
       "      <td>1914</td>\n",
       "      <td>0</td>\n",
       "      <td>5</td>\n",
       "      <td>1</td>\n",
       "      <td>0</td>\n",
       "      <td>0.3</td>\n",
       "      <td>81.4</td>\n",
       "      <td>1.5</td>\n",
       "      <td>0</td>\n",
       "      <td>7.04</td>\n",
       "      <td>England</td>\n",
       "    </tr>\n",
       "    <tr>\n",
       "      <th>464</th>\n",
       "      <td>888</td>\n",
       "      <td>75</td>\n",
       "      <td>Eric Dier</td>\n",
       "      <td>Tottenham</td>\n",
       "      <td>24</td>\n",
       "      <td>32(2)</td>\n",
       "      <td>2827</td>\n",
       "      <td>0</td>\n",
       "      <td>2</td>\n",
       "      <td>4</td>\n",
       "      <td>0</td>\n",
       "      <td>0.9</td>\n",
       "      <td>86.3</td>\n",
       "      <td>2.4</td>\n",
       "      <td>0</td>\n",
       "      <td>6.96</td>\n",
       "      <td>England</td>\n",
       "    </tr>\n",
       "    <tr>\n",
       "      <th>465</th>\n",
       "      <td>890</td>\n",
       "      <td>179</td>\n",
       "      <td>Eric Dier</td>\n",
       "      <td>Tottenham</td>\n",
       "      <td>24</td>\n",
       "      <td>7</td>\n",
       "      <td>614</td>\n",
       "      <td>0</td>\n",
       "      <td>1</td>\n",
       "      <td>1</td>\n",
       "      <td>0</td>\n",
       "      <td>0.4</td>\n",
       "      <td>80.9</td>\n",
       "      <td>1.6</td>\n",
       "      <td>0</td>\n",
       "      <td>6.86</td>\n",
       "      <td>England</td>\n",
       "    </tr>\n",
       "    <tr>\n",
       "      <th>468</th>\n",
       "      <td>896</td>\n",
       "      <td>78</td>\n",
       "      <td>Davinson Sanchez</td>\n",
       "      <td>Tottenham</td>\n",
       "      <td>21</td>\n",
       "      <td>29(2)</td>\n",
       "      <td>2535</td>\n",
       "      <td>0</td>\n",
       "      <td>0</td>\n",
       "      <td>1</td>\n",
       "      <td>1</td>\n",
       "      <td>0.3</td>\n",
       "      <td>89.4</td>\n",
       "      <td>2.4</td>\n",
       "      <td>0</td>\n",
       "      <td>6.94</td>\n",
       "      <td>Colombia</td>\n",
       "    </tr>\n",
       "    <tr>\n",
       "      <th>469</th>\n",
       "      <td>898</td>\n",
       "      <td>236</td>\n",
       "      <td>Davinson Sanchez</td>\n",
       "      <td>Tottenham</td>\n",
       "      <td>21</td>\n",
       "      <td>8</td>\n",
       "      <td>720</td>\n",
       "      <td>0</td>\n",
       "      <td>0</td>\n",
       "      <td>0</td>\n",
       "      <td>0</td>\n",
       "      <td>0.4</td>\n",
       "      <td>89.7</td>\n",
       "      <td>1.3</td>\n",
       "      <td>0</td>\n",
       "      <td>6.74</td>\n",
       "      <td>Colombia</td>\n",
       "    </tr>\n",
       "    <tr>\n",
       "      <th>475</th>\n",
       "      <td>910</td>\n",
       "      <td>94</td>\n",
       "      <td>Mousa Dembele</td>\n",
       "      <td>Tottenham</td>\n",
       "      <td>30</td>\n",
       "      <td>21(7)</td>\n",
       "      <td>1886</td>\n",
       "      <td>0</td>\n",
       "      <td>0</td>\n",
       "      <td>6</td>\n",
       "      <td>0</td>\n",
       "      <td>0.4</td>\n",
       "      <td>92.2</td>\n",
       "      <td>0.3</td>\n",
       "      <td>0</td>\n",
       "      <td>6.90</td>\n",
       "      <td>Belgium</td>\n",
       "    </tr>\n",
       "    <tr>\n",
       "      <th>476</th>\n",
       "      <td>912</td>\n",
       "      <td>268</td>\n",
       "      <td>Mousa Dembele</td>\n",
       "      <td>Tottenham</td>\n",
       "      <td>30</td>\n",
       "      <td>3(3)</td>\n",
       "      <td>328</td>\n",
       "      <td>0</td>\n",
       "      <td>0</td>\n",
       "      <td>2</td>\n",
       "      <td>0</td>\n",
       "      <td>-</td>\n",
       "      <td>92.7</td>\n",
       "      <td>0.2</td>\n",
       "      <td>0</td>\n",
       "      <td>6.66</td>\n",
       "      <td>Belgium</td>\n",
       "    </tr>\n",
       "    <tr>\n",
       "      <th>495</th>\n",
       "      <td>950</td>\n",
       "      <td>171</td>\n",
       "      <td>Hugo Lloris</td>\n",
       "      <td>Tottenham</td>\n",
       "      <td>31</td>\n",
       "      <td>36</td>\n",
       "      <td>3240</td>\n",
       "      <td>0</td>\n",
       "      <td>0</td>\n",
       "      <td>1</td>\n",
       "      <td>0</td>\n",
       "      <td>-</td>\n",
       "      <td>75.2</td>\n",
       "      <td>0.3</td>\n",
       "      <td>1</td>\n",
       "      <td>6.74</td>\n",
       "      <td>France</td>\n",
       "    </tr>\n",
       "    <tr>\n",
       "      <th>496</th>\n",
       "      <td>952</td>\n",
       "      <td>100</td>\n",
       "      <td>Hugo Lloris</td>\n",
       "      <td>Tottenham</td>\n",
       "      <td>31</td>\n",
       "      <td>7</td>\n",
       "      <td>630</td>\n",
       "      <td>0</td>\n",
       "      <td>0</td>\n",
       "      <td>0</td>\n",
       "      <td>0</td>\n",
       "      <td>-</td>\n",
       "      <td>60.2</td>\n",
       "      <td>0.4</td>\n",
       "      <td>0</td>\n",
       "      <td>7.07</td>\n",
       "      <td>France</td>\n",
       "    </tr>\n",
       "    <tr>\n",
       "      <th>558</th>\n",
       "      <td>1072</td>\n",
       "      <td>134</td>\n",
       "      <td>Toby Alderweireld</td>\n",
       "      <td>Tottenham</td>\n",
       "      <td>29</td>\n",
       "      <td>4</td>\n",
       "      <td>294</td>\n",
       "      <td>0</td>\n",
       "      <td>1</td>\n",
       "      <td>0</td>\n",
       "      <td>0</td>\n",
       "      <td>0.5</td>\n",
       "      <td>81.3</td>\n",
       "      <td>1.3</td>\n",
       "      <td>0</td>\n",
       "      <td>7.00</td>\n",
       "      <td>Belgium</td>\n",
       "    </tr>\n",
       "  </tbody>\n",
       "</table>\n",
       "</div>\n",
       "      <button class=\"colab-df-convert\" onclick=\"convertToInteractive('df-9f86502c-b13b-4225-90d3-d5ddd1afcc89')\"\n",
       "              title=\"Convert this dataframe to an interactive table.\"\n",
       "              style=\"display:none;\">\n",
       "        \n",
       "  <svg xmlns=\"http://www.w3.org/2000/svg\" height=\"24px\"viewBox=\"0 0 24 24\"\n",
       "       width=\"24px\">\n",
       "    <path d=\"M0 0h24v24H0V0z\" fill=\"none\"/>\n",
       "    <path d=\"M18.56 5.44l.94 2.06.94-2.06 2.06-.94-2.06-.94-.94-2.06-.94 2.06-2.06.94zm-11 1L8.5 8.5l.94-2.06 2.06-.94-2.06-.94L8.5 2.5l-.94 2.06-2.06.94zm10 10l.94 2.06.94-2.06 2.06-.94-2.06-.94-.94-2.06-.94 2.06-2.06.94z\"/><path d=\"M17.41 7.96l-1.37-1.37c-.4-.4-.92-.59-1.43-.59-.52 0-1.04.2-1.43.59L10.3 9.45l-7.72 7.72c-.78.78-.78 2.05 0 2.83L4 21.41c.39.39.9.59 1.41.59.51 0 1.02-.2 1.41-.59l7.78-7.78 2.81-2.81c.8-.78.8-2.07 0-2.86zM5.41 20L4 18.59l7.72-7.72 1.47 1.35L5.41 20z\"/>\n",
       "  </svg>\n",
       "      </button>\n",
       "      \n",
       "  <style>\n",
       "    .colab-df-container {\n",
       "      display:flex;\n",
       "      flex-wrap:wrap;\n",
       "      gap: 12px;\n",
       "    }\n",
       "\n",
       "    .colab-df-convert {\n",
       "      background-color: #E8F0FE;\n",
       "      border: none;\n",
       "      border-radius: 50%;\n",
       "      cursor: pointer;\n",
       "      display: none;\n",
       "      fill: #1967D2;\n",
       "      height: 32px;\n",
       "      padding: 0 0 0 0;\n",
       "      width: 32px;\n",
       "    }\n",
       "\n",
       "    .colab-df-convert:hover {\n",
       "      background-color: #E2EBFA;\n",
       "      box-shadow: 0px 1px 2px rgba(60, 64, 67, 0.3), 0px 1px 3px 1px rgba(60, 64, 67, 0.15);\n",
       "      fill: #174EA6;\n",
       "    }\n",
       "\n",
       "    [theme=dark] .colab-df-convert {\n",
       "      background-color: #3B4455;\n",
       "      fill: #D2E3FC;\n",
       "    }\n",
       "\n",
       "    [theme=dark] .colab-df-convert:hover {\n",
       "      background-color: #434B5C;\n",
       "      box-shadow: 0px 1px 3px 1px rgba(0, 0, 0, 0.15);\n",
       "      filter: drop-shadow(0px 1px 2px rgba(0, 0, 0, 0.3));\n",
       "      fill: #FFFFFF;\n",
       "    }\n",
       "  </style>\n",
       "\n",
       "      <script>\n",
       "        const buttonEl =\n",
       "          document.querySelector('#df-9f86502c-b13b-4225-90d3-d5ddd1afcc89 button.colab-df-convert');\n",
       "        buttonEl.style.display =\n",
       "          google.colab.kernel.accessAllowed ? 'block' : 'none';\n",
       "\n",
       "        async function convertToInteractive(key) {\n",
       "          const element = document.querySelector('#df-9f86502c-b13b-4225-90d3-d5ddd1afcc89');\n",
       "          const dataTable =\n",
       "            await google.colab.kernel.invokeFunction('convertToInteractive',\n",
       "                                                     [key], {});\n",
       "          if (!dataTable) return;\n",
       "\n",
       "          const docLinkHtml = 'Like what you see? Visit the ' +\n",
       "            '<a target=\"_blank\" href=https://colab.research.google.com/notebooks/data_table.ipynb>data table notebook</a>'\n",
       "            + ' to learn more about interactive tables.';\n",
       "          element.innerHTML = '';\n",
       "          dataTable['output_type'] = 'display_data';\n",
       "          await google.colab.output.renderOutput(dataTable, element);\n",
       "          const docLink = document.createElement('div');\n",
       "          docLink.innerHTML = docLinkHtml;\n",
       "          element.appendChild(docLink);\n",
       "        }\n",
       "      </script>\n",
       "    </div>\n",
       "  </div>\n",
       "  "
      ],
      "text/plain": [
       "     Unnamed: 0  Rank             player       club  age   Apps  Mins  Goals  \\\n",
       "414         795     5         Harry Kane  Tottenham   24  35(2)  3083     30   \n",
       "415         796     2         Harry Kane  Tottenham   24      7   597      7   \n",
       "422         806    11  Christian Eriksen  Tottenham   26     37  3226     10   \n",
       "423         808    95  Christian Eriksen  Tottenham   26      6   535      2   \n",
       "430         820    22     Jan Vertonghen  Tottenham   31     36  3205      0   \n",
       "431         822   231     Jan Vertonghen  Tottenham   31      6   540      0   \n",
       "446         852    44          Dele Alli  Tottenham   22  34(2)  2972      9   \n",
       "447         854    13          Dele Alli  Tottenham   22      5   427      2   \n",
       "455         870    57    Kieran Trippier  Tottenham   27  21(3)  1914      0   \n",
       "464         888    75          Eric Dier  Tottenham   24  32(2)  2827      0   \n",
       "465         890   179          Eric Dier  Tottenham   24      7   614      0   \n",
       "468         896    78   Davinson Sanchez  Tottenham   21  29(2)  2535      0   \n",
       "469         898   236   Davinson Sanchez  Tottenham   21      8   720      0   \n",
       "475         910    94      Mousa Dembele  Tottenham   30  21(7)  1886      0   \n",
       "476         912   268      Mousa Dembele  Tottenham   30   3(3)   328      0   \n",
       "495         950   171        Hugo Lloris  Tottenham   31     36  3240      0   \n",
       "496         952   100        Hugo Lloris  Tottenham   31      7   630      0   \n",
       "558        1072   134  Toby Alderweireld  Tottenham   29      4   294      0   \n",
       "\n",
       "     Assists  Yel  Red  SpG    PS AerialsWon  MotM  Rating nationality  \n",
       "414        2    5    0    5  71.2        1.6     9    7.60     England  \n",
       "415        2    0    0  4.6  78.6        1.6     2    8.34     England  \n",
       "422       10    0    0  2.6  82.4        0.5     4    7.40     Denmark  \n",
       "423        1    0    0  3.3  83.1        0.5     0    7.08     Denmark  \n",
       "430        0    4    0  0.7  86.3        3.3     3    7.26     Belgium  \n",
       "431        1    1    1  0.3  86.5          2     0    6.75     Belgium  \n",
       "446       10    7    0  1.9  77.2        0.8     1    7.09     England  \n",
       "447        4    1    0  1.6  80.7        0.6     1    7.73     England  \n",
       "455        5    1    0  0.3  81.4        1.5     0    7.04     England  \n",
       "464        2    4    0  0.9  86.3        2.4     0    6.96     England  \n",
       "465        1    1    0  0.4  80.9        1.6     0    6.86     England  \n",
       "468        0    1    1  0.3  89.4        2.4     0    6.94    Colombia  \n",
       "469        0    0    0  0.4  89.7        1.3     0    6.74    Colombia  \n",
       "475        0    6    0  0.4  92.2        0.3     0    6.90     Belgium  \n",
       "476        0    2    0    -  92.7        0.2     0    6.66     Belgium  \n",
       "495        0    1    0    -  75.2        0.3     1    6.74      France  \n",
       "496        0    0    0    -  60.2        0.4     0    7.07      France  \n",
       "558        1    0    0  0.5  81.3        1.3     0    7.00     Belgium  "
      ]
     },
     "execution_count": 7,
     "metadata": {},
     "output_type": "execute_result"
    }
   ],
   "source": [
    "df.query('club == \"Tottenham\"')"
   ]
  },
  {
   "cell_type": "code",
   "execution_count": null,
   "metadata": {
    "colab": {
     "base_uri": "https://localhost:8080/",
     "height": 295
    },
    "id": "NB7RI4gzdp58",
    "outputId": "fb2e04c0-b5c7-42a0-d108-f375047a2ce7"
   },
   "outputs": [
    {
     "data": {
      "image/png": "[encoded data removed]",
      "text/plain": [
       "<Figure size 432x288 with 1 Axes>"
      ]
     },
     "metadata": {
      "needs_background": "light"
     },
     "output_type": "display_data"
    }
   ],
   "source": [
    "ax = df.Goals.plot.hist(title = 'Histogram of Goals', bins = 25)\n",
    "ax.set(xlabel = 'Goals')\n",
    "plt.show()"
   ]
  },
  {
   "cell_type": "code",
   "execution_count": null,
   "metadata": {
    "colab": {
     "base_uri": "https://localhost:8080/",
     "height": 313
    },
    "id": "f7BK7tw9feYw",
    "outputId": "99a5b86d-7d1b-4f99-f5be-b2d227495af2"
   },
   "outputs": [
    {
     "data": {
      "text/plain": [
       "[Text(0.5, 1.0, 'Histogram of Goals')]"
      ]
     },
     "execution_count": 19,
     "metadata": {},
     "output_type": "execute_result"
    },
    {
     "data": {
      "image/png": "[encoded data removed]",
      "text/plain": [
       "<Figure size 432x288 with 1 Axes>"
      ]
     },
     "metadata": {
      "needs_background": "light"
     },
     "output_type": "display_data"
    }
   ],
   "source": [
    "ax = sns.histplot(data = df, x = 'Goals')\n",
    "ax.set(title = 'Histogram of Goals')"
   ]
  },
  {
   "cell_type": "code",
   "execution_count": null,
   "metadata": {
    "colab": {
     "base_uri": "https://localhost:8080/",
     "height": 281
    },
    "id": "nPrzI32agApg",
    "outputId": "947c3958-564b-45ec-d9cf-4c6f4372d587"
   },
   "outputs": [
    {
     "data": {
      "image/png": "[encoded data removed]",
      "text/plain": [
       "<Figure size 432x288 with 1 Axes>"
      ]
     },
     "metadata": {
      "needs_background": "light"
     },
     "output_type": "display_data"
    }
   ],
   "source": [
    "ax = df[['Goals','Assists']].plot.hist(alpha = .7, bins = 25)\n",
    "ax.set(title = 'Goals and Assists Histogram')\n",
    "plt.show()"
   ]
  },
  {
   "cell_type": "code",
   "execution_count": null,
   "metadata": {
    "colab": {
     "base_uri": "https://localhost:8080/",
     "height": 344
    },
    "id": "AGg1E9H2gr4E",
    "outputId": "385a0e84-3650-4efc-faa0-487a07ce3731"
   },
   "outputs": [
    {
     "data": {
      "image/png": "[encoded data removed]",
      "text/plain": [
       "<Figure size 432x288 with 1 Axes>"
      ]
     },
     "metadata": {
      "needs_background": "light"
     },
     "output_type": "display_data"
    }
   ],
   "source": [
    "ax = df.groupby('nationality').Goals.agg('max').reset_index().plot(kind = 'bar', x = 'nationality', legend = False)\n",
    "ax.set(title = 'Most Goals Scored by Nationality')\n",
    "ax.set(ylabel = 'Max Goals')\n",
    "plt.show()"
   ]
  },
  {
   "cell_type": "code",
   "execution_count": null,
   "metadata": {
    "colab": {
     "base_uri": "https://localhost:8080/",
     "height": 414
    },
    "id": "OFfONhTShXo7",
    "outputId": "d4764307-1279-418d-a95c-de8938f7baaf"
   },
   "outputs": [
    {
     "name": "stderr",
     "output_type": "stream",
     "text": [
      "/usr/local/lib/python3.7/dist-packages/matplotlib/cbook/__init__.py:1376: VisibleDeprecationWarning: Creating an ndarray from ragged nested sequences (which is a list-or-tuple of lists-or-tuples-or ndarrays with different lengths or shapes) is deprecated. If you meant to do this, you must specify 'dtype=object' when creating the ndarray.\n",
      "  X = np.atleast_1d(X.T if isinstance(X, np.ndarray) else np.asarray(X))\n"
     ]
    },
    {
     "data": {
      "text/plain": [
       "<matplotlib.axes._subplots.AxesSubplot at 0x7ff1c9c30090>"
      ]
     },
     "execution_count": 46,
     "metadata": {},
     "output_type": "execute_result"
    },
    {
     "data": {
      "image/png": "[encoded data removed]",
      "text/plain": [
       "<Figure size 432x288 with 1 Axes>"
      ]
     },
     "metadata": {
      "needs_background": "light"
     },
     "output_type": "display_data"
    }
   ],
   "source": [
    "df.boxplot(by = 'nationality', column = 'Yel', rot = 45)"
   ]
  },
  {
   "cell_type": "code",
   "execution_count": null,
   "metadata": {
    "id": "l6CE9scclJRM"
   },
   "outputs": [],
   "source": [
    "df.club == 'Tottenham'\n",
    "\n",
    "df['Tottenham'] = df.club == 'Tottenham'"
   ]
  },
  {
   "cell_type": "code",
   "execution_count": null,
   "metadata": {
    "colab": {
     "base_uri": "https://localhost:8080/",
     "height": 297
    },
    "id": "IXIwrDJlinbT",
    "outputId": "d4874133-086b-4c1a-e643-f3a078d6f053"
   },
   "outputs": [
    {
     "data": {
      "text/plain": [
       "<matplotlib.axes._subplots.AxesSubplot at 0x7ff1c9584610>"
      ]
     },
     "execution_count": 58,
     "metadata": {},
     "output_type": "execute_result"
    },
    {
     "data": {
      "image/png": "[encoded data removed]",
      "text/plain": [
       "<Figure size 432x288 with 1 Axes>"
      ]
     },
     "metadata": {
      "needs_background": "light"
     },
     "output_type": "display_data"
    }
   ],
   "source": [
    "sns.scatterplot(data = df, x = 'Goals', y = 'Assists', hue = 'Tottenham', alpha = .7)"
   ]
  },
  {
   "cell_type": "code",
   "execution_count": null,
   "metadata": {
    "colab": {
     "base_uri": "https://localhost:8080/",
     "height": 879
    },
    "id": "nqBaedP8j2P9",
    "outputId": "b5df30ee-0481-480c-f412-e5f62e246f82"
   },
   "outputs": [
    {
     "data": {
      "image/png": "[encoded data removed]",
      "text/plain": [
       "<Figure size 360x1080 with 1 Axes>"
      ]
     },
     "metadata": {
      "needs_background": "light"
     },
     "output_type": "display_data"
    }
   ],
   "source": [
    "plt.rcParams[\"figure.figsize\"] = (5,15)\n",
    "ax = df[df.nationality == 'France'].plot.barh(x = 'player', y = ['Goals','Assists'], stacked = True, color = ['blue','red'])\n",
    "ax.set(title = 'Goals and Assists of the French National Team')\n",
    "plt.show()"
   ]
  },
  {
   "cell_type": "code",
   "execution_count": null,
   "metadata": {
    "colab": {
     "base_uri": "https://localhost:8080/",
     "height": 879
    },
    "id": "mZyYsWSSl12D",
    "outputId": "1c4bbc44-8bf6-4b2a-e0c1-a0c865f9d6f2"
   },
   "outputs": [
    {
     "data": {
      "image/png": "[encoded data removed]",
      "text/plain": [
       "<Figure size 1080x1080 with 2 Axes>"
      ]
     },
     "metadata": {
      "needs_background": "light"
     },
     "output_type": "display_data"
    }
   ],
   "source": [
    "plt.rcParams[\"figure.figsize\"] = (15,15)\n",
    "ax = sns.heatmap(df.corr(),vmin = -1)\n",
    "ax.set(title = 'Heatmap of the World Cup Players')\n",
    "plt.show()"
   ]
  },
  {
   "cell_type": "code",
   "execution_count": null,
   "metadata": {
    "id": "jy17YoLVoeEV"
   },
   "outputs": [],
   "source": []
  }
 ],
 "metadata": {
  "colab": {
   "authorship_tag": "ABX9TyNY7k5Vj9ssbfUYdK5IjPiJ",
   "collapsed_sections": [],
   "include_colab_link": true,
   "name": "Exam3Solutions.ipynb",
   "provenance": []
  },
  "kernelspec": {
   "display_name": "Python 3",
   "name": "python3"
  },
  "language_info": {
   "name": "python"
  }
 },
 "nbformat": 4,
 "nbformat_minor": 0
}