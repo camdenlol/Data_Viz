{
 "cells": [
  {
   "cell_type": "markdown",
   "metadata": {
    "colab_type": "text",
    "id": "view-in-github"
   },
   "source": [
    "<a href=\"https://colab.research.google.com/github/nurfnick/Data_Viz/blob/main/Content/Data_Visualization/29_Uncertainty.ipynb\" target=\"_parent\"><img src=\"https://colab.research.google.com/assets/colab-badge.svg\" alt=\"Open In Colab\"/></a>"
   ]
  },
  {
   "cell_type": "markdown",
   "metadata": {
    "id": "z2wSVGyv6lCe"
   },
   "source": [
    "# Uncertainty"
   ]
  },
  {
   "cell_type": "markdown",
   "metadata": {
    "id": "xI8gVGSu6n7r"
   },
   "source": [
    "Uncertainty is one of the most important topics in statistics.  Visualizing that uncertainty is very critical to expressing these statistical ideas.  We'll explore several ways to display this crutical concept."
   ]
  },
  {
   "cell_type": "markdown",
   "metadata": {
    "id": "2DdA6XyabjhS"
   },
   "source": [
    "## Waffle Charts"
   ]
  },
  {
   "cell_type": "markdown",
   "metadata": {
    "id": "CNSSnaEPbmaa"
   },
   "source": [
    "### With Random Chance"
   ]
  },
  {
   "cell_type": "code",
   "execution_count": 4,
   "metadata": {
    "colab": {
     "base_uri": "https://localhost:8080/"
    },
    "id": "JequsmoeI_EZ",
    "outputId": "31e4578e-b76a-4a3f-c2f4-cbdb4dcde4ca"
   },
   "outputs": [
    {
     "data": {
      "text/plain": [
       "array([0, 1, 1, 0, 0, 0, 0, 0, 0, 0, 0, 0, 1, 0, 0, 0, 0, 0, 0, 0, 0, 1,\n",
       "       0, 0, 1])"
      ]
     },
     "execution_count": 4,
     "metadata": {},
     "output_type": "execute_result"
    }
   ],
   "source": [
    "import numpy as np\n",
    "\n",
    "\n",
    "truths = np.random.binomial(1,.25,25)\n",
    "\n",
    "truths"
   ]
  },
  {
   "cell_type": "code",
   "execution_count": 5,
   "metadata": {
    "colab": {
     "base_uri": "https://localhost:8080/",
     "height": 169
    },
    "id": "g-1ZBUqcHKlG",
    "outputId": "3a457c17-4649-4a1a-c3e8-33bc27407fe0"
   },
   "outputs": [
    {
     "data": {
      "image/png": "[encoded data removed]",
      "text/plain": [
       "<Figure size 144x144 with 25 Axes>"
      ]
     },
     "metadata": {
      "needs_background": "light"
     },
     "output_type": "display_data"
    }
   ],
   "source": [
    "import matplotlib.pyplot as plt\n",
    "from matplotlib.patches import Rectangle\n",
    "\n",
    "fig, axs = plt.subplots(5, 5, constrained_layout=True, figsize=(2, 2))\n",
    "\n",
    "\n",
    "def hatches_plot(ax,h):\n",
    "    ax.add_patch(Rectangle((0, 0), 1, 1, fill=h))\n",
    "    ax.axis('equal')\n",
    "    ax.axis('off')\n",
    "\n",
    "for ax, h in zip(axs.flat,truths):\n",
    "    hatches_plot(ax,h)\n",
    "\n",
    "fig.suptitle('25% Chance')\n",
    "\n",
    "plt.show()"
   ]
  },
  {
   "cell_type": "markdown",
   "metadata": {
    "id": "0h2onFyzbrn3"
   },
   "source": [
    "### With Package"
   ]
  },
  {
   "cell_type": "code",
   "execution_count": 3,
   "metadata": {
    "colab": {
     "base_uri": "https://localhost:8080/"
    },
    "id": "bK3nuBz-btsH",
    "outputId": "e64e2649-7bb8-4799-c0fa-d3e5668421db"
   },
   "outputs": [
    {
     "name": "stdout",
     "output_type": "stream",
     "text": [
      "Collecting pywaffle\n",
      "  Downloading pywaffle-0.6.4-py2.py3-none-any.whl (565 kB)\n",
      "\u001b[?25l\r",
      "\u001b[K     |▋                               | 10 kB 21.6 MB/s eta 0:00:01\r",
      "\u001b[K     |█▏                              | 20 kB 11.3 MB/s eta 0:00:01\r",
      "\u001b[K     |█▊                              | 30 kB 8.8 MB/s eta 0:00:01\r",
      "\u001b[K     |██▎                             | 40 kB 7.9 MB/s eta 0:00:01\r",
      "\u001b[K     |███                             | 51 kB 6.0 MB/s eta 0:00:01\r",
      "\u001b[K     |███▌                            | 61 kB 7.1 MB/s eta 0:00:01\r",
      "\u001b[K     |████                            | 71 kB 6.6 MB/s eta 0:00:01\r",
      "\u001b[K     |████▋                           | 81 kB 6.5 MB/s eta 0:00:01\r",
      "\u001b[K     |█████▏                          | 92 kB 7.3 MB/s eta 0:00:01\r",
      "\u001b[K     |█████▉                          | 102 kB 7.0 MB/s eta 0:00:01\r",
      "\u001b[K     |██████▍                         | 112 kB 7.0 MB/s eta 0:00:01\r",
      "\u001b[K     |███████                         | 122 kB 7.0 MB/s eta 0:00:01\r",
      "\u001b[K     |███████▌                        | 133 kB 7.0 MB/s eta 0:00:01\r",
      "\u001b[K     |████████                        | 143 kB 7.0 MB/s eta 0:00:01\r",
      "\u001b[K     |████████▊                       | 153 kB 7.0 MB/s eta 0:00:01\r",
      "\u001b[K     |█████████▎                      | 163 kB 7.0 MB/s eta 0:00:01\r",
      "\u001b[K     |█████████▉                      | 174 kB 7.0 MB/s eta 0:00:01\r",
      "\u001b[K     |██████████▍                     | 184 kB 7.0 MB/s eta 0:00:01\r",
      "\u001b[K     |███████████                     | 194 kB 7.0 MB/s eta 0:00:01\r",
      "\u001b[K     |███████████▋                    | 204 kB 7.0 MB/s eta 0:00:01\r",
      "\u001b[K     |████████████▏                   | 215 kB 7.0 MB/s eta 0:00:01\r",
      "\u001b[K     |████████████▊                   | 225 kB 7.0 MB/s eta 0:00:01\r",
      "\u001b[K     |█████████████▎                  | 235 kB 7.0 MB/s eta 0:00:01\r",
      "\u001b[K     |██████████████                  | 245 kB 7.0 MB/s eta 0:00:01\r",
      "\u001b[K     |██████████████▌                 | 256 kB 7.0 MB/s eta 0:00:01\r",
      "\u001b[K     |███████████████                 | 266 kB 7.0 MB/s eta 0:00:01\r",
      "\u001b[K     |███████████████▋                | 276 kB 7.0 MB/s eta 0:00:01\r",
      "\u001b[K     |████████████████▏               | 286 kB 7.0 MB/s eta 0:00:01\r",
      "\u001b[K     |████████████████▉               | 296 kB 7.0 MB/s eta 0:00:01\r",
      "\u001b[K     |█████████████████▍              | 307 kB 7.0 MB/s eta 0:00:01\r",
      "\u001b[K     |██████████████████              | 317 kB 7.0 MB/s eta 0:00:01\r",
      "\u001b[K     |██████████████████▌             | 327 kB 7.0 MB/s eta 0:00:01\r",
      "\u001b[K     |███████████████████             | 337 kB 7.0 MB/s eta 0:00:01\r",
      "\u001b[K     |███████████████████▊            | 348 kB 7.0 MB/s eta 0:00:01\r",
      "\u001b[K     |████████████████████▎           | 358 kB 7.0 MB/s eta 0:00:01\r",
      "\u001b[K     |████████████████████▉           | 368 kB 7.0 MB/s eta 0:00:01\r",
      "\u001b[K     |█████████████████████▍          | 378 kB 7.0 MB/s eta 0:00:01\r",
      "\u001b[K     |██████████████████████          | 389 kB 7.0 MB/s eta 0:00:01\r",
      "\u001b[K     |██████████████████████▋         | 399 kB 7.0 MB/s eta 0:00:01\r",
      "\u001b[K     |███████████████████████▏        | 409 kB 7.0 MB/s eta 0:00:01\r",
      "\u001b[K     |███████████████████████▊        | 419 kB 7.0 MB/s eta 0:00:01\r",
      "\u001b[K     |████████████████████████▎       | 430 kB 7.0 MB/s eta 0:00:01\r",
      "\u001b[K     |█████████████████████████       | 440 kB 7.0 MB/s eta 0:00:01\r",
      "\u001b[K     |█████████████████████████▌      | 450 kB 7.0 MB/s eta 0:00:01\r",
      "\u001b[K     |██████████████████████████      | 460 kB 7.0 MB/s eta 0:00:01\r",
      "\u001b[K     |██████████████████████████▋     | 471 kB 7.0 MB/s eta 0:00:01\r",
      "\u001b[K     |███████████████████████████▏    | 481 kB 7.0 MB/s eta 0:00:01\r",
      "\u001b[K     |███████████████████████████▉    | 491 kB 7.0 MB/s eta 0:00:01\r",
      "\u001b[K     |████████████████████████████▍   | 501 kB 7.0 MB/s eta 0:00:01\r",
      "\u001b[K     |█████████████████████████████   | 512 kB 7.0 MB/s eta 0:00:01\r",
      "\u001b[K     |█████████████████████████████▌  | 522 kB 7.0 MB/s eta 0:00:01\r",
      "\u001b[K     |██████████████████████████████▏ | 532 kB 7.0 MB/s eta 0:00:01\r",
      "\u001b[K     |██████████████████████████████▊ | 542 kB 7.0 MB/s eta 0:00:01\r",
      "\u001b[K     |███████████████████████████████▎| 552 kB 7.0 MB/s eta 0:00:01\r",
      "\u001b[K     |███████████████████████████████▉| 563 kB 7.0 MB/s eta 0:00:01\r",
      "\u001b[K     |████████████████████████████████| 565 kB 7.0 MB/s \n",
      "\u001b[?25hRequirement already satisfied: matplotlib in /usr/local/lib/python3.7/dist-packages (from pywaffle) (3.2.2)\n",
      "Requirement already satisfied: kiwisolver>=1.0.1 in /usr/local/lib/python3.7/dist-packages (from matplotlib->pywaffle) (1.4.2)\n",
      "Requirement already satisfied: pyparsing!=2.0.4,!=2.1.2,!=2.1.6,>=2.0.1 in /usr/local/lib/python3.7/dist-packages (from matplotlib->pywaffle) (3.0.8)\n",
      "Requirement already satisfied: cycler>=0.10 in /usr/local/lib/python3.7/dist-packages (from matplotlib->pywaffle) (0.11.0)\n",
      "Requirement already satisfied: python-dateutil>=2.1 in /usr/local/lib/python3.7/dist-packages (from matplotlib->pywaffle) (2.8.2)\n",
      "Requirement already satisfied: numpy>=1.11 in /usr/local/lib/python3.7/dist-packages (from matplotlib->pywaffle) (1.21.6)\n",
      "Requirement already satisfied: typing-extensions in /usr/local/lib/python3.7/dist-packages (from kiwisolver>=1.0.1->matplotlib->pywaffle) (4.2.0)\n",
      "Requirement already satisfied: six>=1.5 in /usr/local/lib/python3.7/dist-packages (from python-dateutil>=2.1->matplotlib->pywaffle) (1.15.0)\n",
      "Installing collected packages: pywaffle\n",
      "Successfully installed pywaffle-0.6.4\n"
     ]
    }
   ],
   "source": [
    "!pip install pywaffle"
   ]
  },
  {
   "cell_type": "code",
   "execution_count": 7,
   "metadata": {
    "colab": {
     "base_uri": "https://localhost:8080/",
     "height": 197
    },
    "id": "WlnLx72Lb03u",
    "outputId": "840dcfac-2b28-4b87-dcc8-a62426308d5b"
   },
   "outputs": [
    {
     "data": {
      "image/png": "[encoded data removed]",
      "text/plain": [
       "<Waffle size 360x216 with 1 Axes>"
      ]
     },
     "metadata": {
      "needs_background": "light"
     },
     "output_type": "display_data"
    }
   ],
   "source": [
    "from pywaffle import Waffle\n",
    "\n",
    "fig = plt.figure(\n",
    "    FigureClass=Waffle, \n",
    "    rows=5, \n",
    "    columns=10, \n",
    "    values=[48, 46, 6],\n",
    "    figsize=(5, 3)\n",
    ")\n",
    "plt.show()"
   ]
  },
  {
   "cell_type": "markdown",
   "metadata": {
    "id": "i6OxkHKQb8sn"
   },
   "source": [
    "`pywaffle` is actually a pretty cool package for doing this sort of graphic!  For my 25% chance above, I'd do something like:"
   ]
  },
  {
   "cell_type": "code",
   "execution_count": 15,
   "metadata": {
    "colab": {
     "base_uri": "https://localhost:8080/",
     "height": 297
    },
    "id": "dCilhhvmcKj3",
    "outputId": "1b479968-a22c-4b62-da96-b28f66f36d29"
   },
   "outputs": [
    {
     "data": {
      "image/png": "[encoded data removed]",
      "text/plain": [
       "<Waffle size 432x288 with 1 Axes>"
      ]
     },
     "metadata": {},
     "output_type": "display_data"
    }
   ],
   "source": [
    "plt.figure(FigureClass = Waffle,\n",
    "           rows= 5,\n",
    "           columns = 5,\n",
    "           values = [5,20],\n",
    "           colors = ['blue','white'],\n",
    "           vertical = True,\n",
    "           facecolor='#DDDDDD' )\n",
    "plt.show()"
   ]
  },
  {
   "cell_type": "markdown",
   "metadata": {
    "id": "lu1xvp3leDT0"
   },
   "source": [
    "The package has lots of options to include some really cool graphics.  Here is how many times I biked versus driving this week."
   ]
  },
  {
   "cell_type": "code",
   "execution_count": 17,
   "metadata": {
    "colab": {
     "base_uri": "https://localhost:8080/",
     "height": 297
    },
    "id": "6KZSPOeldi6P",
    "outputId": "f52fc6ea-04e5-48d7-fd6b-f13836a831d9"
   },
   "outputs": [
    {
     "data": {
      "image/png": "[encoded data removed]",
      "text/plain": [
       "<Waffle size 432x288 with 1 Axes>"
      ]
     },
     "metadata": {
      "needs_background": "light"
     },
     "output_type": "display_data"
    }
   ],
   "source": [
    "plt.figure(FigureClass=Waffle,\n",
    "           rows = 5,\n",
    "           values = [2,3],\n",
    "           icons = ['bicycle','car'])\n",
    "\n",
    "plt.show()"
   ]
  },
  {
   "cell_type": "markdown",
   "metadata": {
    "id": "q3ws6HY065Xe"
   },
   "source": [
    "## Error Bars for Mean"
   ]
  },
  {
   "cell_type": "markdown",
   "metadata": {
    "id": "xglswNA76-Cq"
   },
   "source": [
    "Perhaps the most fundamental concept in error is the mean.  We know that the mean will be approximately distributed as normal for a large enough sample size with standard deviation $\\frac s{\\sqrt n}$ where $s$ is the sample standard deviation and $n$ the sample size.  Let's see that visualized in a bar graph."
   ]
  },
  {
   "cell_type": "code",
   "execution_count": null,
   "metadata": {
    "colab": {
     "base_uri": "https://localhost:8080/",
     "height": 371
    },
    "id": "GkYz6MMH6kQ7",
    "outputId": "c967a726-e616-4d73-d0aa-62c51400b370"
   },
   "outputs": [
    {
     "data": {
      "text/plain": [
       "<matplotlib.axes._subplots.AxesSubplot at 0x7f2a5c169fd0>"
      ]
     },
     "execution_count": 9,
     "metadata": {},
     "output_type": "execute_result"
    },
    {
     "data": {
      "image/png": "[encoded data removed]",
      "text/plain": [
       "<Figure size 432x288 with 1 Axes>"
      ]
     },
     "metadata": {
      "needs_background": "light"
     },
     "output_type": "display_data"
    }
   ],
   "source": [
    "import pandas as pa\n",
    "\n",
    "df = pa.read_csv('https://raw.githubusercontent.com/nurfnick/Data_Viz/main/Data_Sets/iris.csv')\n",
    "\n",
    "dfgrouped = df.groupby('Class').agg(['mean','std', 'count'])\n",
    "\n",
    "dfgrouped.SepalLength.plot.bar(y = 'mean',yerr = 'std', legend = False, color = ['purple','red', 'blue'], title = \"Error of Standard Deviation\")"
   ]
  },
  {
   "cell_type": "code",
   "execution_count": null,
   "metadata": {
    "colab": {
     "base_uri": "https://localhost:8080/",
     "height": 397
    },
    "id": "zV1Ym-sE9sYW",
    "outputId": "4fcae12f-3508-4f62-ee4a-276857fba34b"
   },
   "outputs": [
    {
     "name": "stderr",
     "output_type": "stream",
     "text": [
      "/usr/local/lib/python3.7/dist-packages/ipykernel_launcher.py:11: SettingWithCopyWarning: \n",
      "A value is trying to be set on a copy of a slice from a DataFrame.\n",
      "Try using .loc[row_indexer,col_indexer] = value instead\n",
      "\n",
      "See the caveats in the documentation: https://pandas.pydata.org/pandas-docs/stable/user_guide/indexing.html#returning-a-view-versus-a-copy\n",
      "  # This is added back by InteractiveShellApp.init_path()\n",
      "/usr/local/lib/python3.7/dist-packages/pandas/core/indexing.py:1667: SettingWithCopyWarning: \n",
      "A value is trying to be set on a copy of a slice from a DataFrame.\n",
      "Try using .loc[row_indexer,col_indexer] = value instead\n",
      "\n",
      "See the caveats in the documentation: https://pandas.pydata.org/pandas-docs/stable/user_guide/indexing.html#returning-a-view-versus-a-copy\n",
      "  self.obj[key] = value\n"
     ]
    },
    {
     "data": {
      "text/html": [
       "\n",
       "  <div id=\"df-3eb798e8-b185-49b6-b12b-8af6174a0a16\">\n",
       "    <div class=\"colab-df-container\">\n",
       "      <div>\n",
       "<style scoped>\n",
       "    .dataframe tbody tr th:only-of-type {\n",
       "        vertical-align: middle;\n",
       "    }\n",
       "\n",
       "    .dataframe tbody tr th {\n",
       "        vertical-align: top;\n",
       "    }\n",
       "\n",
       "    .dataframe thead th {\n",
       "        text-align: right;\n",
       "    }\n",
       "</style>\n",
       "<table border=\"1\" class=\"dataframe\">\n",
       "  <thead>\n",
       "    <tr style=\"text-align: right;\">\n",
       "      <th></th>\n",
       "      <th>mean</th>\n",
       "      <th>std</th>\n",
       "      <th>count</th>\n",
       "      <th>SE</th>\n",
       "      <th>95%</th>\n",
       "    </tr>\n",
       "    <tr>\n",
       "      <th>Class</th>\n",
       "      <th></th>\n",
       "      <th></th>\n",
       "      <th></th>\n",
       "      <th></th>\n",
       "      <th></th>\n",
       "    </tr>\n",
       "  </thead>\n",
       "  <tbody>\n",
       "    <tr>\n",
       "      <th>Iris-setosa</th>\n",
       "      <td>5.006</td>\n",
       "      <td>0.352490</td>\n",
       "      <td>50</td>\n",
       "      <td>0.049850</td>\n",
       "      <td>0.100176</td>\n",
       "    </tr>\n",
       "    <tr>\n",
       "      <th>Iris-versicolor</th>\n",
       "      <td>5.936</td>\n",
       "      <td>0.516171</td>\n",
       "      <td>50</td>\n",
       "      <td>0.072998</td>\n",
       "      <td>0.146694</td>\n",
       "    </tr>\n",
       "    <tr>\n",
       "      <th>Iris-virginica</th>\n",
       "      <td>6.588</td>\n",
       "      <td>0.635880</td>\n",
       "      <td>50</td>\n",
       "      <td>0.089927</td>\n",
       "      <td>0.180715</td>\n",
       "    </tr>\n",
       "  </tbody>\n",
       "</table>\n",
       "</div>\n",
       "      <button class=\"colab-df-convert\" onclick=\"convertToInteractive('df-3eb798e8-b185-49b6-b12b-8af6174a0a16')\"\n",
       "              title=\"Convert this dataframe to an interactive table.\"\n",
       "              style=\"display:none;\">\n",
       "        \n",
       "  <svg xmlns=\"http://www.w3.org/2000/svg\" height=\"24px\"viewBox=\"0 0 24 24\"\n",
       "       width=\"24px\">\n",
       "    <path d=\"M0 0h24v24H0V0z\" fill=\"none\"/>\n",
       "    <path d=\"M18.56 5.44l.94 2.06.94-2.06 2.06-.94-2.06-.94-.94-2.06-.94 2.06-2.06.94zm-11 1L8.5 8.5l.94-2.06 2.06-.94-2.06-.94L8.5 2.5l-.94 2.06-2.06.94zm10 10l.94 2.06.94-2.06 2.06-.94-2.06-.94-.94-2.06-.94 2.06-2.06.94z\"/><path d=\"M17.41 7.96l-1.37-1.37c-.4-.4-.92-.59-1.43-.59-.52 0-1.04.2-1.43.59L10.3 9.45l-7.72 7.72c-.78.78-.78 2.05 0 2.83L4 21.41c.39.39.9.59 1.41.59.51 0 1.02-.2 1.41-.59l7.78-7.78 2.81-2.81c.8-.78.8-2.07 0-2.86zM5.41 20L4 18.59l7.72-7.72 1.47 1.35L5.41 20z\"/>\n",
       "  </svg>\n",
       "      </button>\n",
       "      \n",
       "  <style>\n",
       "    .colab-df-container {\n",
       "      display:flex;\n",
       "      flex-wrap:wrap;\n",
       "      gap: 12px;\n",
       "    }\n",
       "\n",
       "    .colab-df-convert {\n",
       "      background-color: #E8F0FE;\n",
       "      border: none;\n",
       "      border-radius: 50%;\n",
       "      cursor: pointer;\n",
       "      display: none;\n",
       "      fill: #1967D2;\n",
       "      height: 32px;\n",
       "      padding: 0 0 0 0;\n",
       "      width: 32px;\n",
       "    }\n",
       "\n",
       "    .colab-df-convert:hover {\n",
       "      background-color: #E2EBFA;\n",
       "      box-shadow: 0px 1px 2px rgba(60, 64, 67, 0.3), 0px 1px 3px 1px rgba(60, 64, 67, 0.15);\n",
       "      fill: #174EA6;\n",
       "    }\n",
       "\n",
       "    [theme=dark] .colab-df-convert {\n",
       "      background-color: #3B4455;\n",
       "      fill: #D2E3FC;\n",
       "    }\n",
       "\n",
       "    [theme=dark] .colab-df-convert:hover {\n",
       "      background-color: #434B5C;\n",
       "      box-shadow: 0px 1px 3px 1px rgba(0, 0, 0, 0.15);\n",
       "      filter: drop-shadow(0px 1px 2px rgba(0, 0, 0, 0.3));\n",
       "      fill: #FFFFFF;\n",
       "    }\n",
       "  </style>\n",
       "\n",
       "      <script>\n",
       "        const buttonEl =\n",
       "          document.querySelector('#df-3eb798e8-b185-49b6-b12b-8af6174a0a16 button.colab-df-convert');\n",
       "        buttonEl.style.display =\n",
       "          google.colab.kernel.accessAllowed ? 'block' : 'none';\n",
       "\n",
       "        async function convertToInteractive(key) {\n",
       "          const element = document.querySelector('#df-3eb798e8-b185-49b6-b12b-8af6174a0a16');\n",
       "          const dataTable =\n",
       "            await google.colab.kernel.invokeFunction('convertToInteractive',\n",
       "                                                     [key], {});\n",
       "          if (!dataTable) return;\n",
       "\n",
       "          const docLinkHtml = 'Like what you see? Visit the ' +\n",
       "            '<a target=\"_blank\" href=https://colab.research.google.com/notebooks/data_table.ipynb>data table notebook</a>'\n",
       "            + ' to learn more about interactive tables.';\n",
       "          element.innerHTML = '';\n",
       "          dataTable['output_type'] = 'display_data';\n",
       "          await google.colab.output.renderOutput(dataTable, element);\n",
       "          const docLink = document.createElement('div');\n",
       "          docLink.innerHTML = docLinkHtml;\n",
       "          element.appendChild(docLink);\n",
       "        }\n",
       "      </script>\n",
       "    </div>\n",
       "  </div>\n",
       "  "
      ],
      "text/plain": [
       "                  mean       std  count        SE       95%\n",
       "Class                                                      \n",
       "Iris-setosa      5.006  0.352490     50  0.049850  0.100176\n",
       "Iris-versicolor  5.936  0.516171     50  0.072998  0.146694\n",
       "Iris-virginica   6.588  0.635880     50  0.089927  0.180715"
      ]
     },
     "execution_count": 10,
     "metadata": {},
     "output_type": "execute_result"
    }
   ],
   "source": [
    "import numpy as np\n",
    "from scipy.stats import t\n",
    "\n",
    "def SE(std,n):\n",
    "  return std/np.sqrt(n)\n",
    "\n",
    "\n",
    "\n",
    "dfgroupedSepalLength = dfgrouped.SepalLength\n",
    "\n",
    "dfgroupedSepalLength['SE'] = dfgroupedSepalLength.apply(lambda x: SE(x['std'],x['count']), axis = 1)\n",
    "\n",
    "\n",
    "dfgroupedSepalLength.loc[:,'95%'] = dfgroupedSepalLength.loc[:,'SE']*t.ppf(.975,49)\n",
    "\n",
    "dfgroupedSepalLength\n"
   ]
  },
  {
   "cell_type": "code",
   "execution_count": null,
   "metadata": {
    "colab": {
     "base_uri": "https://localhost:8080/",
     "height": 371
    },
    "id": "3n6oqPbuBOnH",
    "outputId": "bfeed471-5413-47d4-b8b5-0c81138b1292"
   },
   "outputs": [
    {
     "data": {
      "text/plain": [
       "<matplotlib.axes._subplots.AxesSubplot at 0x7f2a5bb85d10>"
      ]
     },
     "execution_count": 11,
     "metadata": {},
     "output_type": "execute_result"
    },
    {
     "data": {
      "image/png": "[encoded data removed]",
      "text/plain": [
       "<Figure size 432x288 with 1 Axes>"
      ]
     },
     "metadata": {
      "needs_background": "light"
     },
     "output_type": "display_data"
    }
   ],
   "source": [
    "dfgroupedSepalLength.plot.bar(y = 'mean',yerr = 'SE', title = 'Graphed with Standard Error' )"
   ]
  },
  {
   "cell_type": "code",
   "execution_count": null,
   "metadata": {
    "colab": {
     "base_uri": "https://localhost:8080/",
     "height": 371
    },
    "id": "mOiVkOd6EjrH",
    "outputId": "0d9b47d9-694d-430f-e95b-3bfad6f1e20d"
   },
   "outputs": [
    {
     "data": {
      "text/plain": [
       "<matplotlib.axes._subplots.AxesSubplot at 0x7f2a5bb0ce90>"
      ]
     },
     "execution_count": 12,
     "metadata": {},
     "output_type": "execute_result"
    },
    {
     "data": {
      "image/png": "[encoded data removed]",
      "text/plain": [
       "<Figure size 432x288 with 1 Axes>"
      ]
     },
     "metadata": {
      "needs_background": "light"
     },
     "output_type": "display_data"
    }
   ],
   "source": [
    "dfgroupedSepalLength.plot.bar(y = 'mean',yerr = '95%', title = 'Graphed with 95% Confidence Interval' )"
   ]
  },
  {
   "cell_type": "markdown",
   "metadata": {
    "id": "_TrTteh49cEc"
   },
   "source": [
    "## Confidence Interval for Regression"
   ]
  },
  {
   "cell_type": "markdown",
   "metadata": {
    "id": "YlUEjP4d99r_"
   },
   "source": [
    "It is automatically generated with `seaborn`.  It is computed with a bootstrap(!)."
   ]
  },
  {
   "cell_type": "code",
   "execution_count": null,
   "metadata": {
    "colab": {
     "base_uri": "https://localhost:8080/",
     "height": 369
    },
    "id": "C8kEOB9as8uq",
    "outputId": "3f2949a1-e8e9-4de1-9a7f-0fcabb97db4d"
   },
   "outputs": [
    {
     "data": {
      "image/png": "[encoded data removed]",
      "text/plain": [
       "<Figure size 463.25x360 with 1 Axes>"
      ]
     },
     "metadata": {
      "needs_background": "light"
     },
     "output_type": "display_data"
    }
   ],
   "source": [
    "import seaborn as sns\n",
    "import matplotlib.pyplot as plt\n",
    "\n",
    "\n",
    "sns.lmplot(data = df, \n",
    "            x = 'SepalLength', \n",
    "            y = 'SepalWidth',\n",
    "            hue = 'Class')\n",
    "\n",
    "plt.show()"
   ]
  },
  {
   "cell_type": "markdown",
   "metadata": {
    "id": "jNz1ZH_FPiar"
   },
   "source": [
    "## Hypothesis Testing"
   ]
  },
  {
   "cell_type": "code",
   "execution_count": null,
   "metadata": {
    "colab": {
     "base_uri": "https://localhost:8080/",
     "height": 265
    },
    "id": "JRVSC8sf9shx",
    "outputId": "7352ff27-ae74-4e4d-950f-c26ad89fdbd6"
   },
   "outputs": [
    {
     "data": {
      "image/png": "[encoded data removed]",
      "text/plain": [
       "<Figure size 432x288 with 1 Axes>"
      ]
     },
     "metadata": {
      "needs_background": "light"
     },
     "output_type": "display_data"
    }
   ],
   "source": [
    "from scipy import stats\n",
    "\n",
    "x = [x for x in np.arange(-4,4,.1)]\n",
    "x_trunk = [i for i in x if i<2]\n",
    "\n",
    "plt.plot(x, stats.norm.pdf(x, 0, 1))\n",
    "plt.fill_between(x_trunk, 0, stats.norm.pdf(x_trunk,0,1))\n",
    "plt.annotate(r'$p$ value', xy = [2.5,.01],\n",
    "            xytext = [3,.15],\n",
    "            arrowprops = dict(facecolor = 'black', width = 3, headwidth = 12, headlength = 6))\n",
    "plt.show()\n"
   ]
  },
  {
   "cell_type": "markdown",
   "metadata": {
    "id": "cGRTC-tVnmHR"
   },
   "source": [
    "## Your Turn\n",
    "\n",
    "1. Explain the difference between standard error and confidence intervals.\n",
    "2. Use the workout data and graph the average calories by workout type and include the 95% confidence interval."
   ]
  },
  {
   "cell_type": "code",
   "execution_count": null,
   "metadata": {
    "id": "39r774BroJvy"
   },
   "outputs": [],
   "source": []
  }
 ],
 "metadata": {
  "colab": {
   "authorship_tag": "ABX9TyND+hcfb92pBaAi7AxLcdoy",
   "include_colab_link": true,
   "name": "Untitled102.ipynb",
   "provenance": []
  },
  "kernelspec": {
   "display_name": "Python 3",
   "name": "python3"
  },
  "language_info": {
   "name": "python"
  }
 },
 "nbformat": 4,
 "nbformat_minor": 0
}