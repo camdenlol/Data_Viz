{
 "cells": [
  {
   "cell_type": "markdown",
   "metadata": {
    "colab_type": "text",
    "id": "view-in-github"
   },
   "source": [
    "<a href=\"https://colab.research.google.com/github/nurfnick/Data_Viz/blob/main/Content/Data_Visualization/22_Graphical_Integrity.ipynb\" target=\"_parent\"><img src=\"https://colab.research.google.com/assets/colab-badge.svg\" alt=\"Open In Colab\"/></a>"
   ]
  },
  {
   "cell_type": "markdown",
   "metadata": {
    "id": "uwymuPOREyVh"
   },
   "source": [
    "# Graphical Integrity\n"
   ]
  },
  {
   "cell_type": "markdown",
   "metadata": {
    "id": "nqXyiHUeR5Lc"
   },
   "source": [
    "## Lie Factors"
   ]
  },
  {
   "cell_type": "markdown",
   "metadata": {
    "id": "iUYh0_aRE59b"
   },
   "source": [
    "\n",
    "$$\n",
    "Lie\\ Factor = \\frac{size\\ of\\ effect\\ shown\\ in \\ graphic}{size\\ of \\ effect\\ in \\ data}\n",
    "$$\n",
    "\n",
    "Look at [Buzz Feed #13](https://www.buzzfeednews.com/article/katienotopoulos/graphs-that-lied-to-us)  Compute the factor.\n",
    "\n",
    "![Lying?](https://img.buzzfeed.com/buzzfeed-static/static/2014-10/2/17/enhanced/webdr02/enhanced-buzz-19972-1412285325-16.jpg?downsize=800:*&output-format=auto&output-quality=auto)\n",
    "\n",
    "\n"
   ]
  },
  {
   "cell_type": "markdown",
   "metadata": {
    "id": "hmZvKLrKIbjo"
   },
   "source": [
    "On the graphic, we see one bar as 6mm and the other as 32 mm (measures with a ruler against the screen!).  We see this as:\n",
    "\n",
    "$$\n",
    "\\frac{32-6}6 = 433%\n",
    "$$\n"
   ]
  },
  {
   "cell_type": "code",
   "execution_count": null,
   "metadata": {
    "colab": {
     "base_uri": "https://localhost:8080/"
    },
    "id": "bxcqeRI6I3gV",
    "outputId": "e4a4f749-6472-43b7-987e-25b8d0460297"
   },
   "outputs": [
    {
     "data": {
      "text/plain": [
       "4.333333333333333"
      ]
     },
     "execution_count": 5,
     "metadata": {},
     "output_type": "execute_result"
    }
   ],
   "source": [
    "(32-6)/6"
   ]
  },
  {
   "cell_type": "code",
   "execution_count": null,
   "metadata": {
    "colab": {
     "base_uri": "https://localhost:8080/",
     "height": 280
    },
    "id": "5iSHIuRr9QxW",
    "outputId": "d56e94a3-3ecb-40e5-c8c8-57d0a8e98180"
   },
   "outputs": [
    {
     "data": {
      "text/plain": [
       "<matplotlib.axes._subplots.AxesSubplot at 0x7f3a0ebe0050>"
      ]
     },
     "execution_count": 2,
     "metadata": {},
     "output_type": "execute_result"
    },
    {
     "data": {
      "image/png": "[encoded data removed]",
      "text/plain": [
       "<Figure size 432x288 with 1 Axes>"
      ]
     },
     "metadata": {
      "needs_background": "light"
     },
     "output_type": "display_data"
    }
   ],
   "source": [
    "import pandas as pa\n",
    "\n",
    "x = [35,39.6]\n",
    "\n",
    "df = pa.DataFrame({'rate':x})\n",
    "\n",
    "df.plot.bar()"
   ]
  },
  {
   "cell_type": "code",
   "execution_count": null,
   "metadata": {
    "colab": {
     "base_uri": "https://localhost:8080/"
    },
    "id": "ueLtPsWQ_veo",
    "outputId": "bfe47e8a-239f-42ee-81f6-c76e283e194a"
   },
   "outputs": [
    {
     "data": {
      "text/plain": [
       "12.857142857142856"
      ]
     },
     "execution_count": 4,
     "metadata": {},
     "output_type": "execute_result"
    }
   ],
   "source": [
    "percentchange = (39.5-35)/35\n",
    "\n",
    "percentchange*100"
   ]
  },
  {
   "cell_type": "markdown",
   "metadata": {
    "id": "meRCocAPJAdm"
   },
   "source": [
    "So the 'Lie Factor' here is:\n",
    "\n",
    "$$\n",
    "\\frac{433}{12.8}\n",
    "$$"
   ]
  },
  {
   "cell_type": "code",
   "execution_count": null,
   "metadata": {
    "colab": {
     "base_uri": "https://localhost:8080/"
    },
    "id": "ZmyWspgJJLUQ",
    "outputId": "585cdd71-207f-4cb4-de2a-7980c6279dd0"
   },
   "outputs": [
    {
     "data": {
      "text/plain": [
       "33.828125"
      ]
     },
     "execution_count": 6,
     "metadata": {},
     "output_type": "execute_result"
    }
   ],
   "source": [
    "433/12.8"
   ]
  },
  {
   "cell_type": "markdown",
   "metadata": {
    "id": "WMXcjHDGJOOd"
   },
   "source": [
    "A lie factor of almost 34!"
   ]
  },
  {
   "cell_type": "markdown",
   "metadata": {
    "id": "P1TVHS0DRpPo"
   },
   "source": [
    "## Don't Go 3D"
   ]
  },
  {
   "cell_type": "markdown",
   "metadata": {
    "id": "v7SedpN5RsUV"
   },
   "source": [
    "Check out this [link](https://clauswilke.com/dataviz/no-3d.html)"
   ]
  },
  {
   "cell_type": "markdown",
   "metadata": {
    "id": "iXZU8q_4bwnR"
   },
   "source": [
    "[Here](https://www.urbanthree.com/case-study/minneapolis-mn/) is another great example where perhaps 3D did add something?  You decide!"
   ]
  },
  {
   "cell_type": "markdown",
   "metadata": {
    "id": "n1Rok38pHq4o"
   },
   "source": [
    "## Six Principles of Graphical Integrity From Tufte"
   ]
  },
  {
   "cell_type": "markdown",
   "metadata": {
    "id": "TT73abPuGr1y"
   },
   "source": [
    "\n",
    "\n",
    "* Representation of numbers, as physically measures on the surface of the graphic itself, should be directly proportional to the numerical quantities represented.\n",
    "* Clear, detailed, and thorough labeling should be used to defeat graphical distortion and ambiguity.  Write out explanations and label important events.\n",
    "* Show data variation not design variation\n",
    "* In time-series displays of money, adjust for inflation.\n",
    "* Graphics must not quote data out of context\n",
    "* The number of information carrying dimensions depicted should not exceed the number of dimensions in the data."
   ]
  },
  {
   "cell_type": "markdown",
   "metadata": {
    "id": "K3j40wMQaLLI"
   },
   "source": [
    "\n",
    "## Your Turn\n",
    "\n",
    "Head over to [Oklahaoma Research Day](https://symposium.foragerone.com/okrd22).  Spend some time looking at three posters that include statistical charts or graphs.  Include links to each.  Discuss the strengths and weaknesses of each.  Do they display excellence or do they lie?\n",
    "\n",
    "Check out the following graphic \n",
    "\n",
    "![Amazon](https://www.insiderintelligence.com/static/e529bc607df65baee952264ea448f211/Amazon-Retail-Ecommerce-Sales.png)\n",
    "\n",
    "The percent change is not to scale.  What is the lie factor of this graph?"
   ]
  },
  {
   "cell_type": "code",
   "execution_count": null,
   "metadata": {
    "id": "vramFxQlExn4"
   },
   "outputs": [],
   "source": []
  }
 ],
 "metadata": {
  "colab": {
   "authorship_tag": "ABX9TyNxbslrmbO8thqq7sHgqTW6",
   "include_colab_link": true,
   "name": "Untitled93.ipynb",
   "provenance": []
  },
  "kernelspec": {
   "display_name": "Python 3",
   "name": "python3"
  },
  "language_info": {
   "name": "python"
  }
 },
 "nbformat": 4,
 "nbformat_minor": 0
}