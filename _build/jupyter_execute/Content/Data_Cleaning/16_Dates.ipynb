{
 "cells": [
  {
   "cell_type": "markdown",
   "metadata": {
    "colab_type": "text",
    "id": "view-in-github"
   },
   "source": [
    "<a href=\"https://colab.research.google.com/github/nurfnick/Data_Viz/blob/main/16_Dates.ipynb\" target=\"_parent\"><img src=\"https://colab.research.google.com/assets/colab-badge.svg\" alt=\"Open In Colab\"/></a>"
   ]
  },
  {
   "cell_type": "markdown",
   "metadata": {
    "id": "HoHHAFoHQoeg"
   },
   "source": [
    "# Dates"
   ]
  },
  {
   "cell_type": "markdown",
   "metadata": {
    "id": "rkKRZejlQsB8"
   },
   "source": [
    "## Converting Seperate Columns into Datetime"
   ]
  },
  {
   "cell_type": "markdown",
   "metadata": {
    "id": "W9-rSXCxQ2pq"
   },
   "source": [
    "I gathered the folloiwng dataset from [this paper](https://www.sciencedirect.com/science/article/pii/S2352340918315191).  It looks at actual hotel stays and reservations.  It is interesting because it has dates in several formats."
   ]
  },
  {
   "cell_type": "code",
   "execution_count": 1,
   "metadata": {
    "colab": {
     "base_uri": "https://localhost:8080/",
     "height": 1000
    },
    "id": "8udT7ow6QntB",
    "outputId": "cf108c79-2cc7-4284-e0ec-44ca2687195d"
   },
   "outputs": [
    {
     "data": {
      "text/html": [
       "\n",
       "  <div id=\"df-4556be41-944d-4ae7-9306-d20257314e9a\">\n",
       "    <div class=\"colab-df-container\">\n",
       "      <div>\n",
       "<style scoped>\n",
       "    .dataframe tbody tr th:only-of-type {\n",
       "        vertical-align: middle;\n",
       "    }\n",
       "\n",
       "    .dataframe tbody tr th {\n",
       "        vertical-align: top;\n",
       "    }\n",
       "\n",
       "    .dataframe thead th {\n",
       "        text-align: right;\n",
       "    }\n",
       "</style>\n",
       "<table border=\"1\" class=\"dataframe\">\n",
       "  <thead>\n",
       "    <tr style=\"text-align: right;\">\n",
       "      <th></th>\n",
       "      <th>0</th>\n",
       "      <th>1</th>\n",
       "      <th>2</th>\n",
       "      <th>3</th>\n",
       "      <th>4</th>\n",
       "      <th>5</th>\n",
       "      <th>6</th>\n",
       "      <th>7</th>\n",
       "      <th>8</th>\n",
       "      <th>9</th>\n",
       "      <th>10</th>\n",
       "      <th>11</th>\n",
       "      <th>12</th>\n",
       "      <th>13</th>\n",
       "      <th>14</th>\n",
       "    </tr>\n",
       "  </thead>\n",
       "  <tbody>\n",
       "    <tr>\n",
       "      <th>IsCanceled</th>\n",
       "      <td>0</td>\n",
       "      <td>0</td>\n",
       "      <td>0</td>\n",
       "      <td>0</td>\n",
       "      <td>0</td>\n",
       "      <td>0</td>\n",
       "      <td>0</td>\n",
       "      <td>0</td>\n",
       "      <td>1</td>\n",
       "      <td>1</td>\n",
       "      <td>1</td>\n",
       "      <td>0</td>\n",
       "      <td>0</td>\n",
       "      <td>0</td>\n",
       "      <td>0</td>\n",
       "    </tr>\n",
       "    <tr>\n",
       "      <th>LeadTime</th>\n",
       "      <td>342</td>\n",
       "      <td>737</td>\n",
       "      <td>7</td>\n",
       "      <td>13</td>\n",
       "      <td>14</td>\n",
       "      <td>14</td>\n",
       "      <td>0</td>\n",
       "      <td>9</td>\n",
       "      <td>85</td>\n",
       "      <td>75</td>\n",
       "      <td>23</td>\n",
       "      <td>35</td>\n",
       "      <td>68</td>\n",
       "      <td>18</td>\n",
       "      <td>37</td>\n",
       "    </tr>\n",
       "    <tr>\n",
       "      <th>ArrivalDateYear</th>\n",
       "      <td>2015</td>\n",
       "      <td>2015</td>\n",
       "      <td>2015</td>\n",
       "      <td>2015</td>\n",
       "      <td>2015</td>\n",
       "      <td>2015</td>\n",
       "      <td>2015</td>\n",
       "      <td>2015</td>\n",
       "      <td>2015</td>\n",
       "      <td>2015</td>\n",
       "      <td>2015</td>\n",
       "      <td>2015</td>\n",
       "      <td>2015</td>\n",
       "      <td>2015</td>\n",
       "      <td>2015</td>\n",
       "    </tr>\n",
       "    <tr>\n",
       "      <th>ArrivalDateMonth</th>\n",
       "      <td>July</td>\n",
       "      <td>July</td>\n",
       "      <td>July</td>\n",
       "      <td>July</td>\n",
       "      <td>July</td>\n",
       "      <td>July</td>\n",
       "      <td>July</td>\n",
       "      <td>July</td>\n",
       "      <td>July</td>\n",
       "      <td>July</td>\n",
       "      <td>July</td>\n",
       "      <td>July</td>\n",
       "      <td>July</td>\n",
       "      <td>July</td>\n",
       "      <td>July</td>\n",
       "    </tr>\n",
       "    <tr>\n",
       "      <th>ArrivalDateWeekNumber</th>\n",
       "      <td>27</td>\n",
       "      <td>27</td>\n",
       "      <td>27</td>\n",
       "      <td>27</td>\n",
       "      <td>27</td>\n",
       "      <td>27</td>\n",
       "      <td>27</td>\n",
       "      <td>27</td>\n",
       "      <td>27</td>\n",
       "      <td>27</td>\n",
       "      <td>27</td>\n",
       "      <td>27</td>\n",
       "      <td>27</td>\n",
       "      <td>27</td>\n",
       "      <td>27</td>\n",
       "    </tr>\n",
       "    <tr>\n",
       "      <th>ArrivalDateDayOfMonth</th>\n",
       "      <td>1</td>\n",
       "      <td>1</td>\n",
       "      <td>1</td>\n",
       "      <td>1</td>\n",
       "      <td>1</td>\n",
       "      <td>1</td>\n",
       "      <td>1</td>\n",
       "      <td>1</td>\n",
       "      <td>1</td>\n",
       "      <td>1</td>\n",
       "      <td>1</td>\n",
       "      <td>1</td>\n",
       "      <td>1</td>\n",
       "      <td>1</td>\n",
       "      <td>1</td>\n",
       "    </tr>\n",
       "    <tr>\n",
       "      <th>StaysInWeekendNights</th>\n",
       "      <td>0</td>\n",
       "      <td>0</td>\n",
       "      <td>0</td>\n",
       "      <td>0</td>\n",
       "      <td>0</td>\n",
       "      <td>0</td>\n",
       "      <td>0</td>\n",
       "      <td>0</td>\n",
       "      <td>0</td>\n",
       "      <td>0</td>\n",
       "      <td>0</td>\n",
       "      <td>0</td>\n",
       "      <td>0</td>\n",
       "      <td>0</td>\n",
       "      <td>0</td>\n",
       "    </tr>\n",
       "    <tr>\n",
       "      <th>StaysInWeekNights</th>\n",
       "      <td>0</td>\n",
       "      <td>0</td>\n",
       "      <td>1</td>\n",
       "      <td>1</td>\n",
       "      <td>2</td>\n",
       "      <td>2</td>\n",
       "      <td>2</td>\n",
       "      <td>2</td>\n",
       "      <td>3</td>\n",
       "      <td>3</td>\n",
       "      <td>4</td>\n",
       "      <td>4</td>\n",
       "      <td>4</td>\n",
       "      <td>4</td>\n",
       "      <td>4</td>\n",
       "    </tr>\n",
       "    <tr>\n",
       "      <th>Adults</th>\n",
       "      <td>2</td>\n",
       "      <td>2</td>\n",
       "      <td>1</td>\n",
       "      <td>1</td>\n",
       "      <td>2</td>\n",
       "      <td>2</td>\n",
       "      <td>2</td>\n",
       "      <td>2</td>\n",
       "      <td>2</td>\n",
       "      <td>2</td>\n",
       "      <td>2</td>\n",
       "      <td>2</td>\n",
       "      <td>2</td>\n",
       "      <td>2</td>\n",
       "      <td>2</td>\n",
       "    </tr>\n",
       "    <tr>\n",
       "      <th>Children</th>\n",
       "      <td>0</td>\n",
       "      <td>0</td>\n",
       "      <td>0</td>\n",
       "      <td>0</td>\n",
       "      <td>0</td>\n",
       "      <td>0</td>\n",
       "      <td>0</td>\n",
       "      <td>0</td>\n",
       "      <td>0</td>\n",
       "      <td>0</td>\n",
       "      <td>0</td>\n",
       "      <td>0</td>\n",
       "      <td>0</td>\n",
       "      <td>1</td>\n",
       "      <td>0</td>\n",
       "    </tr>\n",
       "    <tr>\n",
       "      <th>Babies</th>\n",
       "      <td>0</td>\n",
       "      <td>0</td>\n",
       "      <td>0</td>\n",
       "      <td>0</td>\n",
       "      <td>0</td>\n",
       "      <td>0</td>\n",
       "      <td>0</td>\n",
       "      <td>0</td>\n",
       "      <td>0</td>\n",
       "      <td>0</td>\n",
       "      <td>0</td>\n",
       "      <td>0</td>\n",
       "      <td>0</td>\n",
       "      <td>0</td>\n",
       "      <td>0</td>\n",
       "    </tr>\n",
       "    <tr>\n",
       "      <th>Meal</th>\n",
       "      <td>BB</td>\n",
       "      <td>BB</td>\n",
       "      <td>BB</td>\n",
       "      <td>BB</td>\n",
       "      <td>BB</td>\n",
       "      <td>BB</td>\n",
       "      <td>BB</td>\n",
       "      <td>FB</td>\n",
       "      <td>BB</td>\n",
       "      <td>HB</td>\n",
       "      <td>BB</td>\n",
       "      <td>HB</td>\n",
       "      <td>BB</td>\n",
       "      <td>HB</td>\n",
       "      <td>BB</td>\n",
       "    </tr>\n",
       "    <tr>\n",
       "      <th>Country</th>\n",
       "      <td>PRT</td>\n",
       "      <td>PRT</td>\n",
       "      <td>GBR</td>\n",
       "      <td>GBR</td>\n",
       "      <td>GBR</td>\n",
       "      <td>GBR</td>\n",
       "      <td>PRT</td>\n",
       "      <td>PRT</td>\n",
       "      <td>PRT</td>\n",
       "      <td>PRT</td>\n",
       "      <td>PRT</td>\n",
       "      <td>PRT</td>\n",
       "      <td>USA</td>\n",
       "      <td>ESP</td>\n",
       "      <td>PRT</td>\n",
       "    </tr>\n",
       "    <tr>\n",
       "      <th>MarketSegment</th>\n",
       "      <td>Direct</td>\n",
       "      <td>Direct</td>\n",
       "      <td>Direct</td>\n",
       "      <td>Corporate</td>\n",
       "      <td>Online TA</td>\n",
       "      <td>Online TA</td>\n",
       "      <td>Direct</td>\n",
       "      <td>Direct</td>\n",
       "      <td>Online TA</td>\n",
       "      <td>Offline TA/TO</td>\n",
       "      <td>Online TA</td>\n",
       "      <td>Online TA</td>\n",
       "      <td>Online TA</td>\n",
       "      <td>Online TA</td>\n",
       "      <td>Online TA</td>\n",
       "    </tr>\n",
       "    <tr>\n",
       "      <th>DistributionChannel</th>\n",
       "      <td>Direct</td>\n",
       "      <td>Direct</td>\n",
       "      <td>Direct</td>\n",
       "      <td>Corporate</td>\n",
       "      <td>TA/TO</td>\n",
       "      <td>TA/TO</td>\n",
       "      <td>Direct</td>\n",
       "      <td>Direct</td>\n",
       "      <td>TA/TO</td>\n",
       "      <td>TA/TO</td>\n",
       "      <td>TA/TO</td>\n",
       "      <td>TA/TO</td>\n",
       "      <td>TA/TO</td>\n",
       "      <td>TA/TO</td>\n",
       "      <td>TA/TO</td>\n",
       "    </tr>\n",
       "    <tr>\n",
       "      <th>IsRepeatedGuest</th>\n",
       "      <td>0</td>\n",
       "      <td>0</td>\n",
       "      <td>0</td>\n",
       "      <td>0</td>\n",
       "      <td>0</td>\n",
       "      <td>0</td>\n",
       "      <td>0</td>\n",
       "      <td>0</td>\n",
       "      <td>0</td>\n",
       "      <td>0</td>\n",
       "      <td>0</td>\n",
       "      <td>0</td>\n",
       "      <td>0</td>\n",
       "      <td>0</td>\n",
       "      <td>0</td>\n",
       "    </tr>\n",
       "    <tr>\n",
       "      <th>PreviousCancellations</th>\n",
       "      <td>0</td>\n",
       "      <td>0</td>\n",
       "      <td>0</td>\n",
       "      <td>0</td>\n",
       "      <td>0</td>\n",
       "      <td>0</td>\n",
       "      <td>0</td>\n",
       "      <td>0</td>\n",
       "      <td>0</td>\n",
       "      <td>0</td>\n",
       "      <td>0</td>\n",
       "      <td>0</td>\n",
       "      <td>0</td>\n",
       "      <td>0</td>\n",
       "      <td>0</td>\n",
       "    </tr>\n",
       "    <tr>\n",
       "      <th>PreviousBookingsNotCanceled</th>\n",
       "      <td>0</td>\n",
       "      <td>0</td>\n",
       "      <td>0</td>\n",
       "      <td>0</td>\n",
       "      <td>0</td>\n",
       "      <td>0</td>\n",
       "      <td>0</td>\n",
       "      <td>0</td>\n",
       "      <td>0</td>\n",
       "      <td>0</td>\n",
       "      <td>0</td>\n",
       "      <td>0</td>\n",
       "      <td>0</td>\n",
       "      <td>0</td>\n",
       "      <td>0</td>\n",
       "    </tr>\n",
       "    <tr>\n",
       "      <th>ReservedRoomType</th>\n",
       "      <td>C</td>\n",
       "      <td>C</td>\n",
       "      <td>A</td>\n",
       "      <td>A</td>\n",
       "      <td>A</td>\n",
       "      <td>A</td>\n",
       "      <td>C</td>\n",
       "      <td>C</td>\n",
       "      <td>A</td>\n",
       "      <td>D</td>\n",
       "      <td>E</td>\n",
       "      <td>D</td>\n",
       "      <td>D</td>\n",
       "      <td>G</td>\n",
       "      <td>E</td>\n",
       "    </tr>\n",
       "    <tr>\n",
       "      <th>AssignedRoomType</th>\n",
       "      <td>C</td>\n",
       "      <td>C</td>\n",
       "      <td>C</td>\n",
       "      <td>A</td>\n",
       "      <td>A</td>\n",
       "      <td>A</td>\n",
       "      <td>C</td>\n",
       "      <td>C</td>\n",
       "      <td>A</td>\n",
       "      <td>D</td>\n",
       "      <td>E</td>\n",
       "      <td>D</td>\n",
       "      <td>E</td>\n",
       "      <td>G</td>\n",
       "      <td>E</td>\n",
       "    </tr>\n",
       "    <tr>\n",
       "      <th>BookingChanges</th>\n",
       "      <td>3</td>\n",
       "      <td>4</td>\n",
       "      <td>0</td>\n",
       "      <td>0</td>\n",
       "      <td>0</td>\n",
       "      <td>0</td>\n",
       "      <td>0</td>\n",
       "      <td>0</td>\n",
       "      <td>0</td>\n",
       "      <td>0</td>\n",
       "      <td>0</td>\n",
       "      <td>0</td>\n",
       "      <td>0</td>\n",
       "      <td>1</td>\n",
       "      <td>0</td>\n",
       "    </tr>\n",
       "    <tr>\n",
       "      <th>DepositType</th>\n",
       "      <td>No Deposit</td>\n",
       "      <td>No Deposit</td>\n",
       "      <td>No Deposit</td>\n",
       "      <td>No Deposit</td>\n",
       "      <td>No Deposit</td>\n",
       "      <td>No Deposit</td>\n",
       "      <td>No Deposit</td>\n",
       "      <td>No Deposit</td>\n",
       "      <td>No Deposit</td>\n",
       "      <td>No Deposit</td>\n",
       "      <td>No Deposit</td>\n",
       "      <td>No Deposit</td>\n",
       "      <td>No Deposit</td>\n",
       "      <td>No Deposit</td>\n",
       "      <td>No Deposit</td>\n",
       "    </tr>\n",
       "    <tr>\n",
       "      <th>Agent</th>\n",
       "      <td>NULL</td>\n",
       "      <td>NULL</td>\n",
       "      <td>NULL</td>\n",
       "      <td>304</td>\n",
       "      <td>240</td>\n",
       "      <td>240</td>\n",
       "      <td>NULL</td>\n",
       "      <td>303</td>\n",
       "      <td>240</td>\n",
       "      <td>15</td>\n",
       "      <td>240</td>\n",
       "      <td>240</td>\n",
       "      <td>240</td>\n",
       "      <td>241</td>\n",
       "      <td>241</td>\n",
       "    </tr>\n",
       "    <tr>\n",
       "      <th>Company</th>\n",
       "      <td>NULL</td>\n",
       "      <td>NULL</td>\n",
       "      <td>NULL</td>\n",
       "      <td>NULL</td>\n",
       "      <td>NULL</td>\n",
       "      <td>NULL</td>\n",
       "      <td>NULL</td>\n",
       "      <td>NULL</td>\n",
       "      <td>NULL</td>\n",
       "      <td>NULL</td>\n",
       "      <td>NULL</td>\n",
       "      <td>NULL</td>\n",
       "      <td>NULL</td>\n",
       "      <td>NULL</td>\n",
       "      <td>NULL</td>\n",
       "    </tr>\n",
       "    <tr>\n",
       "      <th>DaysInWaitingList</th>\n",
       "      <td>0</td>\n",
       "      <td>0</td>\n",
       "      <td>0</td>\n",
       "      <td>0</td>\n",
       "      <td>0</td>\n",
       "      <td>0</td>\n",
       "      <td>0</td>\n",
       "      <td>0</td>\n",
       "      <td>0</td>\n",
       "      <td>0</td>\n",
       "      <td>0</td>\n",
       "      <td>0</td>\n",
       "      <td>0</td>\n",
       "      <td>0</td>\n",
       "      <td>0</td>\n",
       "    </tr>\n",
       "    <tr>\n",
       "      <th>CustomerType</th>\n",
       "      <td>Transient</td>\n",
       "      <td>Transient</td>\n",
       "      <td>Transient</td>\n",
       "      <td>Transient</td>\n",
       "      <td>Transient</td>\n",
       "      <td>Transient</td>\n",
       "      <td>Transient</td>\n",
       "      <td>Transient</td>\n",
       "      <td>Transient</td>\n",
       "      <td>Transient</td>\n",
       "      <td>Transient</td>\n",
       "      <td>Transient</td>\n",
       "      <td>Transient</td>\n",
       "      <td>Transient</td>\n",
       "      <td>Transient</td>\n",
       "    </tr>\n",
       "    <tr>\n",
       "      <th>ADR</th>\n",
       "      <td>0.0</td>\n",
       "      <td>0.0</td>\n",
       "      <td>75.0</td>\n",
       "      <td>75.0</td>\n",
       "      <td>98.0</td>\n",
       "      <td>98.0</td>\n",
       "      <td>107.0</td>\n",
       "      <td>103.0</td>\n",
       "      <td>82.0</td>\n",
       "      <td>105.5</td>\n",
       "      <td>123.0</td>\n",
       "      <td>145.0</td>\n",
       "      <td>97.0</td>\n",
       "      <td>154.77</td>\n",
       "      <td>94.71</td>\n",
       "    </tr>\n",
       "    <tr>\n",
       "      <th>RequiredCarParkingSpaces</th>\n",
       "      <td>0</td>\n",
       "      <td>0</td>\n",
       "      <td>0</td>\n",
       "      <td>0</td>\n",
       "      <td>0</td>\n",
       "      <td>0</td>\n",
       "      <td>0</td>\n",
       "      <td>0</td>\n",
       "      <td>0</td>\n",
       "      <td>0</td>\n",
       "      <td>0</td>\n",
       "      <td>0</td>\n",
       "      <td>0</td>\n",
       "      <td>0</td>\n",
       "      <td>0</td>\n",
       "    </tr>\n",
       "    <tr>\n",
       "      <th>TotalOfSpecialRequests</th>\n",
       "      <td>0</td>\n",
       "      <td>0</td>\n",
       "      <td>0</td>\n",
       "      <td>0</td>\n",
       "      <td>1</td>\n",
       "      <td>1</td>\n",
       "      <td>0</td>\n",
       "      <td>1</td>\n",
       "      <td>1</td>\n",
       "      <td>0</td>\n",
       "      <td>0</td>\n",
       "      <td>0</td>\n",
       "      <td>3</td>\n",
       "      <td>1</td>\n",
       "      <td>0</td>\n",
       "    </tr>\n",
       "    <tr>\n",
       "      <th>ReservationStatus</th>\n",
       "      <td>Check-Out</td>\n",
       "      <td>Check-Out</td>\n",
       "      <td>Check-Out</td>\n",
       "      <td>Check-Out</td>\n",
       "      <td>Check-Out</td>\n",
       "      <td>Check-Out</td>\n",
       "      <td>Check-Out</td>\n",
       "      <td>Check-Out</td>\n",
       "      <td>Canceled</td>\n",
       "      <td>Canceled</td>\n",
       "      <td>Canceled</td>\n",
       "      <td>Check-Out</td>\n",
       "      <td>Check-Out</td>\n",
       "      <td>Check-Out</td>\n",
       "      <td>Check-Out</td>\n",
       "    </tr>\n",
       "    <tr>\n",
       "      <th>ReservationStatusDate</th>\n",
       "      <td>7/1/2015</td>\n",
       "      <td>7/1/2015</td>\n",
       "      <td>7/2/2015</td>\n",
       "      <td>7/2/2015</td>\n",
       "      <td>7/3/2015</td>\n",
       "      <td>7/3/2015</td>\n",
       "      <td>7/3/2015</td>\n",
       "      <td>7/3/2015</td>\n",
       "      <td>5/6/2015</td>\n",
       "      <td>4/22/2015</td>\n",
       "      <td>6/23/2015</td>\n",
       "      <td>7/5/2015</td>\n",
       "      <td>7/5/2015</td>\n",
       "      <td>7/5/2015</td>\n",
       "      <td>7/5/2015</td>\n",
       "    </tr>\n",
       "  </tbody>\n",
       "</table>\n",
       "</div>\n",
       "      <button class=\"colab-df-convert\" onclick=\"convertToInteractive('df-4556be41-944d-4ae7-9306-d20257314e9a')\"\n",
       "              title=\"Convert this dataframe to an interactive table.\"\n",
       "              style=\"display:none;\">\n",
       "        \n",
       "  <svg xmlns=\"http://www.w3.org/2000/svg\" height=\"24px\"viewBox=\"0 0 24 24\"\n",
       "       width=\"24px\">\n",
       "    <path d=\"M0 0h24v24H0V0z\" fill=\"none\"/>\n",
       "    <path d=\"M18.56 5.44l.94 2.06.94-2.06 2.06-.94-2.06-.94-.94-2.06-.94 2.06-2.06.94zm-11 1L8.5 8.5l.94-2.06 2.06-.94-2.06-.94L8.5 2.5l-.94 2.06-2.06.94zm10 10l.94 2.06.94-2.06 2.06-.94-2.06-.94-.94-2.06-.94 2.06-2.06.94z\"/><path d=\"M17.41 7.96l-1.37-1.37c-.4-.4-.92-.59-1.43-.59-.52 0-1.04.2-1.43.59L10.3 9.45l-7.72 7.72c-.78.78-.78 2.05 0 2.83L4 21.41c.39.39.9.59 1.41.59.51 0 1.02-.2 1.41-.59l7.78-7.78 2.81-2.81c.8-.78.8-2.07 0-2.86zM5.41 20L4 18.59l7.72-7.72 1.47 1.35L5.41 20z\"/>\n",
       "  </svg>\n",
       "      </button>\n",
       "      \n",
       "  <style>\n",
       "    .colab-df-container {\n",
       "      display:flex;\n",
       "      flex-wrap:wrap;\n",
       "      gap: 12px;\n",
       "    }\n",
       "\n",
       "    .colab-df-convert {\n",
       "      background-color: #E8F0FE;\n",
       "      border: none;\n",
       "      border-radius: 50%;\n",
       "      cursor: pointer;\n",
       "      display: none;\n",
       "      fill: #1967D2;\n",
       "      height: 32px;\n",
       "      padding: 0 0 0 0;\n",
       "      width: 32px;\n",
       "    }\n",
       "\n",
       "    .colab-df-convert:hover {\n",
       "      background-color: #E2EBFA;\n",
       "      box-shadow: 0px 1px 2px rgba(60, 64, 67, 0.3), 0px 1px 3px 1px rgba(60, 64, 67, 0.15);\n",
       "      fill: #174EA6;\n",
       "    }\n",
       "\n",
       "    [theme=dark] .colab-df-convert {\n",
       "      background-color: #3B4455;\n",
       "      fill: #D2E3FC;\n",
       "    }\n",
       "\n",
       "    [theme=dark] .colab-df-convert:hover {\n",
       "      background-color: #434B5C;\n",
       "      box-shadow: 0px 1px 3px 1px rgba(0, 0, 0, 0.15);\n",
       "      filter: drop-shadow(0px 1px 2px rgba(0, 0, 0, 0.3));\n",
       "      fill: #FFFFFF;\n",
       "    }\n",
       "  </style>\n",
       "\n",
       "      <script>\n",
       "        const buttonEl =\n",
       "          document.querySelector('#df-4556be41-944d-4ae7-9306-d20257314e9a button.colab-df-convert');\n",
       "        buttonEl.style.display =\n",
       "          google.colab.kernel.accessAllowed ? 'block' : 'none';\n",
       "\n",
       "        async function convertToInteractive(key) {\n",
       "          const element = document.querySelector('#df-4556be41-944d-4ae7-9306-d20257314e9a');\n",
       "          const dataTable =\n",
       "            await google.colab.kernel.invokeFunction('convertToInteractive',\n",
       "                                                     [key], {});\n",
       "          if (!dataTable) return;\n",
       "\n",
       "          const docLinkHtml = 'Like what you see? Visit the ' +\n",
       "            '<a target=\"_blank\" href=https://colab.research.google.com/notebooks/data_table.ipynb>data table notebook</a>'\n",
       "            + ' to learn more about interactive tables.';\n",
       "          element.innerHTML = '';\n",
       "          dataTable['output_type'] = 'display_data';\n",
       "          await google.colab.output.renderOutput(dataTable, element);\n",
       "          const docLink = document.createElement('div');\n",
       "          docLink.innerHTML = docLinkHtml;\n",
       "          element.appendChild(docLink);\n",
       "        }\n",
       "      </script>\n",
       "    </div>\n",
       "  </div>\n",
       "  "
      ],
      "text/plain": [
       "                                           0   ...                14\n",
       "IsCanceled                                  0  ...                 0\n",
       "LeadTime                                  342  ...                37\n",
       "ArrivalDateYear                          2015  ...              2015\n",
       "ArrivalDateMonth                         July  ...              July\n",
       "ArrivalDateWeekNumber                      27  ...                27\n",
       "ArrivalDateDayOfMonth                       1  ...                 1\n",
       "StaysInWeekendNights                        0  ...                 0\n",
       "StaysInWeekNights                           0  ...                 4\n",
       "Adults                                      2  ...                 2\n",
       "Children                                    0  ...                 0\n",
       "Babies                                      0  ...                 0\n",
       "Meal                                BB         ...         BB       \n",
       "Country                                   PRT  ...               PRT\n",
       "MarketSegment                          Direct  ...         Online TA\n",
       "DistributionChannel                    Direct  ...             TA/TO\n",
       "IsRepeatedGuest                             0  ...                 0\n",
       "PreviousCancellations                       0  ...                 0\n",
       "PreviousBookingsNotCanceled                 0  ...                 0\n",
       "ReservedRoomType             C                 ...  E               \n",
       "AssignedRoomType             C                 ...  E               \n",
       "BookingChanges                              3  ...                 0\n",
       "DepositType                   No Deposit       ...   No Deposit     \n",
       "Agent                                    NULL  ...               241\n",
       "Company                                  NULL  ...              NULL\n",
       "DaysInWaitingList                           0  ...                 0\n",
       "CustomerType                        Transient  ...         Transient\n",
       "ADR                                       0.0  ...             94.71\n",
       "RequiredCarParkingSpaces                    0  ...                 0\n",
       "TotalOfSpecialRequests                      0  ...                 0\n",
       "ReservationStatus                   Check-Out  ...         Check-Out\n",
       "ReservationStatusDate                7/1/2015  ...          7/5/2015\n",
       "\n",
       "[31 rows x 15 columns]"
      ]
     },
     "execution_count": 1,
     "metadata": {},
     "output_type": "execute_result"
    }
   ],
   "source": [
    "import pandas as pa\n",
    "\n",
    "df = pa.read_csv('https://raw.githubusercontent.com/nurfnick/Data_Viz/main/H1.csv')\n",
    "\n",
    "df.head(15).T"
   ]
  },
  {
   "cell_type": "code",
   "execution_count": 2,
   "metadata": {
    "colab": {
     "base_uri": "https://localhost:8080/"
    },
    "id": "rPU7QYrFRUgi",
    "outputId": "4cd1eb2e-8875-4eb3-aa73-c9073086bf8a"
   },
   "outputs": [
    {
     "data": {
      "text/plain": [
       "IsCanceled                       int64\n",
       "LeadTime                         int64\n",
       "ArrivalDateYear                  int64\n",
       "ArrivalDateMonth                object\n",
       "ArrivalDateWeekNumber            int64\n",
       "ArrivalDateDayOfMonth            int64\n",
       "StaysInWeekendNights             int64\n",
       "StaysInWeekNights                int64\n",
       "Adults                           int64\n",
       "Children                         int64\n",
       "Babies                           int64\n",
       "Meal                            object\n",
       "Country                         object\n",
       "MarketSegment                   object\n",
       "DistributionChannel             object\n",
       "IsRepeatedGuest                  int64\n",
       "PreviousCancellations            int64\n",
       "PreviousBookingsNotCanceled      int64\n",
       "ReservedRoomType                object\n",
       "AssignedRoomType                object\n",
       "BookingChanges                   int64\n",
       "DepositType                     object\n",
       "Agent                           object\n",
       "Company                         object\n",
       "DaysInWaitingList                int64\n",
       "CustomerType                    object\n",
       "ADR                            float64\n",
       "RequiredCarParkingSpaces         int64\n",
       "TotalOfSpecialRequests           int64\n",
       "ReservationStatus               object\n",
       "ReservationStatusDate           object\n",
       "dtype: object"
      ]
     },
     "execution_count": 2,
     "metadata": {},
     "output_type": "execute_result"
    }
   ],
   "source": [
    "df.dtypes"
   ]
  },
  {
   "cell_type": "markdown",
   "metadata": {
    "id": "_ys8PNd1RyA-"
   },
   "source": [
    "We can see nothing has been interpreted as a date yet!  Let's grab the low hanging fruit and convert the *ReservationStatusDate* into datetime.  I'll have to give it the correct format of the date.  In this case it is in the Month/Day/Year.  "
   ]
  },
  {
   "cell_type": "code",
   "execution_count": 3,
   "metadata": {
    "colab": {
     "base_uri": "https://localhost:8080/"
    },
    "id": "Y6qgtjMZRvNC",
    "outputId": "9a513dc9-bc73-4113-d7a3-75cecae85d89"
   },
   "outputs": [
    {
     "data": {
      "text/plain": [
       "0       2015-07-01\n",
       "1       2015-07-01\n",
       "2       2015-07-02\n",
       "3       2015-07-02\n",
       "4       2015-07-03\n",
       "           ...    \n",
       "40055   2017-09-10\n",
       "40056   2017-09-10\n",
       "40057   2017-09-12\n",
       "40058   2017-09-14\n",
       "40059   2017-09-14\n",
       "Name: ReservationStatusDate, Length: 40060, dtype: datetime64[ns]"
      ]
     },
     "execution_count": 3,
     "metadata": {},
     "output_type": "execute_result"
    }
   ],
   "source": [
    "pa.to_datetime(df.ReservationStatusDate, format='%m/%d/%Y')"
   ]
  },
  {
   "cell_type": "markdown",
   "metadata": {
    "id": "lsAP9K02U2eT"
   },
   "source": [
    "I'll add that to the dataframe converting it's current column."
   ]
  },
  {
   "cell_type": "code",
   "execution_count": 4,
   "metadata": {
    "id": "8StfJObFU9fj"
   },
   "outputs": [],
   "source": [
    "df.ReservationStatusDate = pa.to_datetime(df.ReservationStatusDate, format='%m/%d/%Y')"
   ]
  },
  {
   "cell_type": "markdown",
   "metadata": {
    "id": "z3wtZ2z7RYRp"
   },
   "source": [
    "If I'd like to do is get the Arrival Date into a date format.  To do that I'll first convert the month into a numeric using a dictionary."
   ]
  },
  {
   "cell_type": "code",
   "execution_count": 5,
   "metadata": {
    "colab": {
     "base_uri": "https://localhost:8080/"
    },
    "id": "YLiRGoPbT2CE",
    "outputId": "8c27242f-6a44-4a09-b37a-522f273e0ef3"
   },
   "outputs": [
    {
     "data": {
      "text/plain": [
       "array(['July', 'August', 'September', 'October', 'November', 'December',\n",
       "       'January', 'February', 'March', 'April', 'May', 'June'],\n",
       "      dtype=object)"
      ]
     },
     "execution_count": 5,
     "metadata": {},
     "output_type": "execute_result"
    }
   ],
   "source": [
    "df.ArrivalDateMonth.unique()"
   ]
  },
  {
   "cell_type": "code",
   "execution_count": 6,
   "metadata": {
    "id": "SME0iJRCTrfa"
   },
   "outputs": [],
   "source": [
    "monthConvert = {\n",
    "    'January':1,\n",
    "    'February':2,\n",
    "    'March':3,\n",
    "    'April':4,\n",
    "    'May':5,\n",
    "    'June':6,\n",
    "    'July':7,\n",
    "    'August':8,\n",
    "    'September':9,\n",
    "    'October':10,\n",
    "    'November':11,\n",
    "    'December':12\n",
    "}"
   ]
  },
  {
   "cell_type": "code",
   "execution_count": 7,
   "metadata": {
    "colab": {
     "base_uri": "https://localhost:8080/"
    },
    "id": "781IFCioUUxq",
    "outputId": "495ea460-3ea6-4ad2-e5ff-f55e87cd41c9"
   },
   "outputs": [
    {
     "data": {
      "text/plain": [
       "0        7\n",
       "1        7\n",
       "2        7\n",
       "3        7\n",
       "4        7\n",
       "        ..\n",
       "40055    8\n",
       "40056    8\n",
       "40057    8\n",
       "40058    8\n",
       "40059    8\n",
       "Name: ArrivalDateMonth, Length: 40060, dtype: int64"
      ]
     },
     "execution_count": 7,
     "metadata": {},
     "output_type": "execute_result"
    }
   ],
   "source": [
    "df.ArrivalDateMonth.apply(lambda s: monthConvert[s])"
   ]
  },
  {
   "cell_type": "code",
   "execution_count": 8,
   "metadata": {
    "colab": {
     "base_uri": "https://localhost:8080/"
    },
    "id": "Z8l2W19MSMia",
    "outputId": "e2263e63-8309-4fd0-d82c-92141b78a10e"
   },
   "outputs": [
    {
     "data": {
      "text/plain": [
       "IsCanceled                              int64\n",
       "LeadTime                                int64\n",
       "ArrivalDateYear                         int64\n",
       "ArrivalDateMonth                       object\n",
       "ArrivalDateWeekNumber                   int64\n",
       "ArrivalDateDayOfMonth                   int64\n",
       "StaysInWeekendNights                    int64\n",
       "StaysInWeekNights                       int64\n",
       "Adults                                  int64\n",
       "Children                                int64\n",
       "Babies                                  int64\n",
       "Meal                                   object\n",
       "Country                                object\n",
       "MarketSegment                          object\n",
       "DistributionChannel                    object\n",
       "IsRepeatedGuest                         int64\n",
       "PreviousCancellations                   int64\n",
       "PreviousBookingsNotCanceled             int64\n",
       "ReservedRoomType                       object\n",
       "AssignedRoomType                       object\n",
       "BookingChanges                          int64\n",
       "DepositType                            object\n",
       "Agent                                  object\n",
       "Company                                object\n",
       "DaysInWaitingList                       int64\n",
       "CustomerType                           object\n",
       "ADR                                   float64\n",
       "RequiredCarParkingSpaces                int64\n",
       "TotalOfSpecialRequests                  int64\n",
       "ReservationStatus                      object\n",
       "ReservationStatusDate          datetime64[ns]\n",
       "ArrivalDate                    datetime64[ns]\n",
       "dtype: object"
      ]
     },
     "execution_count": 8,
     "metadata": {},
     "output_type": "execute_result"
    }
   ],
   "source": [
    "df['ArrivalDate'] = pa.to_datetime(dict(year = df.ArrivalDateYear, month = df.ArrivalDateMonth.apply(lambda s: monthConvert[s]), day = df.ArrivalDateDayOfMonth))\n",
    "\n",
    "df.dtypes"
   ]
  },
  {
   "cell_type": "markdown",
   "metadata": {
    "id": "3pzV2R7Cae8l"
   },
   "source": [
    "## Date Differences"
   ]
  },
  {
   "cell_type": "markdown",
   "metadata": {
    "id": "ZUeUIg_pVFmS"
   },
   "source": [
    "I am curious if these two dates have any differences..."
   ]
  },
  {
   "cell_type": "code",
   "execution_count": 9,
   "metadata": {
    "colab": {
     "base_uri": "https://localhost:8080/"
    },
    "id": "UdSOOo1nTCxI",
    "outputId": "1c23d482-3f84-4237-c73e-fa5c31f5c8d6"
   },
   "outputs": [
    {
     "data": {
      "text/plain": [
       "count                         40060\n",
       "mean     18 days 01:33:23.275087369\n",
       "std      54 days 20:29:21.893473870\n",
       "min              -69 days +00:00:00\n",
       "25%               -5 days +00:00:00\n",
       "50%               -2 days +00:00:00\n",
       "75%                 3 days 00:00:00\n",
       "max               411 days 00:00:00\n",
       "dtype: object"
      ]
     },
     "execution_count": 9,
     "metadata": {},
     "output_type": "execute_result"
    }
   ],
   "source": [
    "differenceInDates =  df.ArrivalDate -df.ReservationStatusDate\n",
    "\n",
    "differenceInDates.describe()"
   ]
  },
  {
   "cell_type": "markdown",
   "metadata": {
    "id": "lyuWm5AwV14P"
   },
   "source": [
    "We see that on average people make their reservation about 18 days ahead of time and some more than a year!  Not so sure what is going on with all the negative times...\n",
    "\n",
    "If graphed this in terms of days.  Of course there are other options found [here](https://docs.scipy.org/doc/numpy-1.13.0/reference/arrays.datetime.html#datetime-units) "
   ]
  },
  {
   "cell_type": "code",
   "execution_count": 10,
   "metadata": {
    "colab": {
     "base_uri": "https://localhost:8080/",
     "height": 283
    },
    "id": "n7Nsft43VU96",
    "outputId": "b6066b83-8511-4406-8a9c-374a3eee596a"
   },
   "outputs": [
    {
     "data": {
      "text/plain": [
       "<matplotlib.axes._subplots.AxesSubplot at 0x7f3d7c013a10>"
      ]
     },
     "execution_count": 10,
     "metadata": {},
     "output_type": "execute_result"
    },
    {
     "data": {
      "image/png": "[encoded data removed]",
      "text/plain": [
       "<Figure size 432x288 with 1 Axes>"
      ]
     },
     "metadata": {
      "needs_background": "light"
     },
     "output_type": "display_data"
    }
   ],
   "source": [
    "differenceInDates.astype('timedelta64[D]').plot(kind = 'hist')"
   ]
  },
  {
   "cell_type": "code",
   "execution_count": 11,
   "metadata": {
    "colab": {
     "base_uri": "https://localhost:8080/",
     "height": 283
    },
    "id": "yd490bEwWKho",
    "outputId": "bd8411e5-dd93-438e-ae75-eb37fb91d62f"
   },
   "outputs": [
    {
     "data": {
      "text/plain": [
       "<matplotlib.axes._subplots.AxesSubplot at 0x7f3d7bf89410>"
      ]
     },
     "execution_count": 11,
     "metadata": {},
     "output_type": "execute_result"
    },
    {
     "data": {
      "image/png": "[encoded data removed]",
      "text/plain": [
       "<Figure size 432x288 with 1 Axes>"
      ]
     },
     "metadata": {
      "needs_background": "light"
     },
     "output_type": "display_data"
    }
   ],
   "source": [
    "differenceInDates.astype('timedelta64[D]').plot.box()"
   ]
  },
  {
   "cell_type": "markdown",
   "metadata": {
    "id": "H70UmwDxaa-H"
   },
   "source": [
    "## Extracting Peices"
   ]
  },
  {
   "cell_type": "markdown",
   "metadata": {
    "id": "xs3kwX0lai0k"
   },
   "source": [
    "What if we wanted to get the day from the datetime?  To get it you'll need to convert it to `datetime` it is shortened to `dt` here."
   ]
  },
  {
   "cell_type": "code",
   "execution_count": 12,
   "metadata": {
    "colab": {
     "base_uri": "https://localhost:8080/"
    },
    "id": "jFOjFxblW4ZP",
    "outputId": "2cd7a967-050c-48db-9221-4acd32122e6e"
   },
   "outputs": [
    {
     "data": {
      "text/plain": [
       "0         1\n",
       "1         1\n",
       "2         1\n",
       "3         1\n",
       "4         1\n",
       "         ..\n",
       "40055    31\n",
       "40056    30\n",
       "40057    29\n",
       "40058    31\n",
       "40059    31\n",
       "Name: ArrivalDate, Length: 40060, dtype: int64"
      ]
     },
     "execution_count": 12,
     "metadata": {},
     "output_type": "execute_result"
    }
   ],
   "source": [
    "df.ArrivalDate.dt.day"
   ]
  },
  {
   "cell_type": "code",
   "execution_count": 13,
   "metadata": {
    "colab": {
     "base_uri": "https://localhost:8080/"
    },
    "id": "fNtQ2EwVap_u",
    "outputId": "993da0db-a5ad-4937-f90b-3edf4316ebf7"
   },
   "outputs": [
    {
     "name": "stderr",
     "output_type": "stream",
     "text": [
      "/usr/local/lib/python3.7/dist-packages/ipykernel_launcher.py:1: FutureWarning: Series.dt.weekofyear and Series.dt.week have been deprecated.  Please use Series.dt.isocalendar().week instead.\n",
      "  \"\"\"Entry point for launching an IPython kernel.\n"
     ]
    },
    {
     "data": {
      "text/plain": [
       "0        27\n",
       "1        27\n",
       "2        27\n",
       "3        27\n",
       "4        27\n",
       "         ..\n",
       "40055    35\n",
       "40056    35\n",
       "40057    35\n",
       "40058    35\n",
       "40059    35\n",
       "Name: ArrivalDate, Length: 40060, dtype: int64"
      ]
     },
     "execution_count": 13,
     "metadata": {},
     "output_type": "execute_result"
    }
   ],
   "source": [
    "df.ArrivalDate.dt.week"
   ]
  },
  {
   "cell_type": "code",
   "execution_count": 14,
   "metadata": {
    "colab": {
     "base_uri": "https://localhost:8080/"
    },
    "id": "kVJESIpVbbJl",
    "outputId": "e643bf4b-b876-4fcc-c1c1-be4b2af89209"
   },
   "outputs": [
    {
     "data": {
      "text/plain": [
       "0        2015\n",
       "1        2015\n",
       "2        2015\n",
       "3        2015\n",
       "4        2015\n",
       "         ... \n",
       "40055    2017\n",
       "40056    2017\n",
       "40057    2017\n",
       "40058    2017\n",
       "40059    2017\n",
       "Name: ArrivalDate, Length: 40060, dtype: int64"
      ]
     },
     "execution_count": 14,
     "metadata": {},
     "output_type": "execute_result"
    }
   ],
   "source": [
    "df.ArrivalDate.dt.year"
   ]
  },
  {
   "cell_type": "code",
   "execution_count": 15,
   "metadata": {
    "colab": {
     "base_uri": "https://localhost:8080/"
    },
    "id": "cI0ptMC8jzej",
    "outputId": "1c8fdd7b-014c-4b7a-c545-73a0e6868298"
   },
   "outputs": [
    {
     "data": {
      "text/plain": [
       "0        7\n",
       "1        7\n",
       "2        7\n",
       "3        7\n",
       "4        7\n",
       "        ..\n",
       "40055    8\n",
       "40056    8\n",
       "40057    8\n",
       "40058    8\n",
       "40059    8\n",
       "Name: ArrivalDate, Length: 40060, dtype: int64"
      ]
     },
     "execution_count": 15,
     "metadata": {},
     "output_type": "execute_result"
    }
   ],
   "source": [
    "df.ArrivalDate.dt.month"
   ]
  },
  {
   "cell_type": "markdown",
   "metadata": {
    "id": "fLb-J0wNj3f7"
   },
   "source": [
    "We could also ask what day of the week it was."
   ]
  },
  {
   "cell_type": "code",
   "execution_count": 16,
   "metadata": {
    "colab": {
     "base_uri": "https://localhost:8080/"
    },
    "id": "iI1IMyKcj1RS",
    "outputId": "b1137a82-3e98-42d1-a50e-1e43f477f9f6"
   },
   "outputs": [
    {
     "data": {
      "text/plain": [
       "0        2\n",
       "1        2\n",
       "2        2\n",
       "3        2\n",
       "4        2\n",
       "        ..\n",
       "40055    3\n",
       "40056    2\n",
       "40057    1\n",
       "40058    3\n",
       "40059    3\n",
       "Name: ArrivalDate, Length: 40060, dtype: int64"
      ]
     },
     "execution_count": 16,
     "metadata": {},
     "output_type": "execute_result"
    }
   ],
   "source": [
    "df.ArrivalDate.dt.dayofweek"
   ]
  },
  {
   "cell_type": "code",
   "execution_count": 17,
   "metadata": {
    "colab": {
     "base_uri": "https://localhost:8080/"
    },
    "id": "s7k4a-PLj9AD",
    "outputId": "a455bbb2-f0c1-4850-b9de-a3f422476933"
   },
   "outputs": [
    {
     "data": {
      "text/plain": [
       "0        Wednesday\n",
       "1        Wednesday\n",
       "2        Wednesday\n",
       "3        Wednesday\n",
       "4        Wednesday\n",
       "           ...    \n",
       "40055     Thursday\n",
       "40056    Wednesday\n",
       "40057      Tuesday\n",
       "40058     Thursday\n",
       "40059     Thursday\n",
       "Name: ArrivalDate, Length: 40060, dtype: object"
      ]
     },
     "execution_count": 17,
     "metadata": {},
     "output_type": "execute_result"
    }
   ],
   "source": [
    "df.ArrivalDate.dt.day_name()"
   ]
  },
  {
   "cell_type": "code",
   "execution_count": 18,
   "metadata": {
    "colab": {
     "base_uri": "https://localhost:8080/"
    },
    "id": "EreeSOIUkvSq",
    "outputId": "4a79ea13-7eaa-4132-db63-054f1bda82c7"
   },
   "outputs": [
    {
     "data": {
      "text/plain": [
       "0        2\n",
       "1        2\n",
       "2        2\n",
       "3        2\n",
       "4        2\n",
       "        ..\n",
       "40055    3\n",
       "40056    2\n",
       "40057    1\n",
       "40058    3\n",
       "40059    3\n",
       "Name: ArrivalDate, Length: 40060, dtype: int64"
      ]
     },
     "execution_count": 18,
     "metadata": {},
     "output_type": "execute_result"
    }
   ],
   "source": [
    "df.ArrivalDate.dt.weekday"
   ]
  },
  {
   "cell_type": "markdown",
   "metadata": {
    "id": "OQQFBQdmlNsQ"
   },
   "source": [
    "The weekend is 5 and 6 for Saturday and Sunday so we can ask how many were then by the following"
   ]
  },
  {
   "cell_type": "code",
   "execution_count": 19,
   "metadata": {
    "colab": {
     "base_uri": "https://localhost:8080/"
    },
    "id": "ZffdIcdHk8dc",
    "outputId": "be28690b-4340-45e3-b4fb-394e3fe845cc"
   },
   "outputs": [
    {
     "data": {
      "text/plain": [
       "12009"
      ]
     },
     "execution_count": 19,
     "metadata": {},
     "output_type": "execute_result"
    }
   ],
   "source": [
    "df.ArrivalDate.dt.weekday[df.ArrivalDate.dt.weekday>4].count()"
   ]
  },
  {
   "cell_type": "markdown",
   "metadata": {
    "id": "0Zk31XqFlvWW"
   },
   "source": [
    "We might wonder if that is an appropriate amount, it aappears to be about "
   ]
  },
  {
   "cell_type": "code",
   "execution_count": 20,
   "metadata": {
    "colab": {
     "base_uri": "https://localhost:8080/"
    },
    "id": "4F1Ov_Ysl174",
    "outputId": "943bb6a6-047b-4de6-f112-f4f72716fd0f"
   },
   "outputs": [
    {
     "data": {
      "text/plain": [
       "0.29977533699450826"
      ]
     },
     "execution_count": 20,
     "metadata": {},
     "output_type": "execute_result"
    }
   ],
   "source": [
    "12009/40060"
   ]
  },
  {
   "cell_type": "code",
   "execution_count": 21,
   "metadata": {
    "colab": {
     "base_uri": "https://localhost:8080/"
    },
    "id": "jNM1zbHWl5oQ",
    "outputId": "e89c983c-e4ad-4dd2-b0ad-cefcad0a1038"
   },
   "outputs": [
    {
     "data": {
      "text/plain": [
       "0.2857142857142857"
      ]
     },
     "execution_count": 21,
     "metadata": {},
     "output_type": "execute_result"
    }
   ],
   "source": [
    "2/7"
   ]
  },
  {
   "cell_type": "markdown",
   "metadata": {
    "id": "LPIj0BqAl7ob"
   },
   "source": [
    "Yeah thos proportions look similar but we'd have to do a hypothesis test to verify it statistically."
   ]
  },
  {
   "cell_type": "markdown",
   "metadata": {
    "id": "L_YgM7VSaYIw"
   },
   "source": [
    "## Numpy Can Handle Dates"
   ]
  },
  {
   "cell_type": "markdown",
   "metadata": {
    "id": "QWKh7JkGac7e"
   },
   "source": [
    "Sometimes you might need to know several dates in a row.  `Numpy` can handle that with `np.arange`."
   ]
  },
  {
   "cell_type": "code",
   "execution_count": 22,
   "metadata": {
    "colab": {
     "base_uri": "https://localhost:8080/"
    },
    "id": "Bu8M1BWxampV",
    "outputId": "f998b6f5-6899-4b45-c12c-d5bc1e9e722b"
   },
   "outputs": [
    {
     "data": {
      "text/plain": [
       "array(['2018-01-01', '2018-01-02', '2018-01-03', '2018-01-04',\n",
       "       '2018-01-05', '2018-01-06', '2018-01-07'], dtype='datetime64[D]')"
      ]
     },
     "execution_count": 22,
     "metadata": {},
     "output_type": "execute_result"
    }
   ],
   "source": [
    "import numpy as np\n",
    "\n",
    "np.arange('2018-01-01','2018-01-08', dtype='datetime64[D]')"
   ]
  },
  {
   "cell_type": "code",
   "execution_count": 23,
   "metadata": {
    "colab": {
     "base_uri": "https://localhost:8080/"
    },
    "id": "XvHV4oP5bDJF",
    "outputId": "b6647cc1-88a2-4a55-811b-c974f9ad079d"
   },
   "outputs": [
    {
     "data": {
      "text/plain": [
       "DatetimeIndex(['2018-01-01', '2018-01-02', '2018-01-03', '2018-01-04',\n",
       "               '2018-01-05', '2018-01-06', '2018-01-07', '2018-01-08'],\n",
       "              dtype='datetime64[ns]', freq='D')"
      ]
     },
     "execution_count": 23,
     "metadata": {},
     "output_type": "execute_result"
    }
   ],
   "source": [
    "pa.date_range(start='1/1/2018', end='1/08/2018')"
   ]
  },
  {
   "cell_type": "markdown",
   "metadata": {
    "id": "c4-DAbwxbujC"
   },
   "source": [
    "Actually `pandas` did have a similar call and was less picky about the input style of the dates."
   ]
  },
  {
   "cell_type": "markdown",
   "metadata": {
    "id": "yGT6dCLxbzRA"
   },
   "source": [
    "If you want to check for business days in a range, week days!  Use `bdate_range`.  We see the weekend was the 6th and 7th."
   ]
  },
  {
   "cell_type": "code",
   "execution_count": 24,
   "metadata": {
    "colab": {
     "base_uri": "https://localhost:8080/"
    },
    "id": "VscxXaj_co8X",
    "outputId": "4bbcb1f2-8d40-4eac-aaf5-0ef051195e01"
   },
   "outputs": [
    {
     "data": {
      "text/plain": [
       "DatetimeIndex(['2018-01-01', '2018-01-02', '2018-01-03', '2018-01-04',\n",
       "               '2018-01-05', '2018-01-08'],\n",
       "              dtype='datetime64[ns]', freq='B')"
      ]
     },
     "execution_count": 24,
     "metadata": {},
     "output_type": "execute_result"
    }
   ],
   "source": [
    "pa.bdate_range(start='1/1/2018', end='1/08/2018')"
   ]
  },
  {
   "cell_type": "markdown",
   "metadata": {
    "id": "Jqudi_6Rd8aV"
   },
   "source": [
    "## Lag For TimeSeries Data"
   ]
  },
  {
   "cell_type": "markdown",
   "metadata": {
    "id": "GZlFRjaueDy9"
   },
   "source": [
    "Sometimes our data is set in order in a time series and we are interested in knowing what came before it.  To look at this we would use the [`shift` function.](https://pandas.pydata.org/docs/reference/api/pandas.DataFrame.shift.html) "
   ]
  },
  {
   "cell_type": "code",
   "execution_count": 25,
   "metadata": {
    "colab": {
     "base_uri": "https://localhost:8080/"
    },
    "id": "QoswzvZfewl4",
    "outputId": "dc978f25-5894-45d1-eb2e-a9209eeecbcd"
   },
   "outputs": [
    {
     "data": {
      "text/plain": [
       "0        NaN\n",
       "1        0.0\n",
       "2        0.0\n",
       "3        0.0\n",
       "4        0.0\n",
       "        ... \n",
       "40055    2.0\n",
       "40056    2.0\n",
       "40057    2.0\n",
       "40058    4.0\n",
       "40059    4.0\n",
       "Name: StaysInWeekendNights, Length: 40060, dtype: float64"
      ]
     },
     "execution_count": 25,
     "metadata": {},
     "output_type": "execute_result"
    }
   ],
   "source": [
    "df.StaysInWeekendNights.shift()"
   ]
  },
  {
   "cell_type": "markdown",
   "metadata": {
    "id": "oQedFi5mfPhS"
   },
   "source": [
    " We can then ask about the difference of those columns.  I'll force the first to be filled with a zero."
   ]
  },
  {
   "cell_type": "code",
   "execution_count": 26,
   "metadata": {
    "colab": {
     "base_uri": "https://localhost:8080/"
    },
    "id": "PkHze0pOfWX_",
    "outputId": "547bf7d0-8031-4f6b-89c2-d6a2fa30bf99"
   },
   "outputs": [
    {
     "data": {
      "text/plain": [
       "0        0\n",
       "1        0\n",
       "2        0\n",
       "3        0\n",
       "4        0\n",
       "        ..\n",
       "40055    0\n",
       "40056    0\n",
       "40057   -2\n",
       "40058    0\n",
       "40059    0\n",
       "Name: StaysInWeekendNights, Length: 40060, dtype: int64"
      ]
     },
     "execution_count": 26,
     "metadata": {},
     "output_type": "execute_result"
    }
   ],
   "source": [
    "df.StaysInWeekendNights.shift(fill_value=0)-df.StaysInWeekendNights"
   ]
  },
  {
   "cell_type": "markdown",
   "metadata": {
    "id": "zT4lFkFsfk0A"
   },
   "source": [
    "This might be excellent for something like a moving average!  My example is a 5 step moveing average but that can be changed easily."
   ]
  },
  {
   "cell_type": "code",
   "execution_count": 27,
   "metadata": {
    "id": "tOGljyARgky9"
   },
   "outputs": [],
   "source": [
    "cols = df.StaysInWeekendNights"
   ]
  },
  {
   "cell_type": "code",
   "execution_count": 29,
   "metadata": {
    "colab": {
     "base_uri": "https://localhost:8080/"
    },
    "id": "HTUvL0oSf0n2",
    "outputId": "b2cd3a30-5f65-4ef9-fa55-322170b3ab8c"
   },
   "outputs": [
    {
     "data": {
      "text/plain": [
       "0         NaN\n",
       "1         NaN\n",
       "2         NaN\n",
       "3         NaN\n",
       "4         NaN\n",
       "         ... \n",
       "40055    10.0\n",
       "40056    10.0\n",
       "40057    10.0\n",
       "40058    10.0\n",
       "40059    10.0\n",
       "Name: StaysInWeekendNights, Length: 40060, dtype: float64"
      ]
     },
     "execution_count": 29,
     "metadata": {},
     "output_type": "execute_result"
    }
   ],
   "source": [
    "for i in range(1,5):\n",
    "  cols += df.StaysInWeekendNights.shift(periods = i)\n",
    "\n",
    "cols/5"
   ]
  },
  {
   "cell_type": "markdown",
   "metadata": {
    "id": "YcDzNFfIhSVV"
   },
   "source": [
    "I had some issues making this code do what I expected so be warry!"
   ]
  },
  {
   "cell_type": "markdown",
   "metadata": {
    "id": "qGrRFudh0rTj"
   },
   "source": [
    "## Selecting Dates"
   ]
  },
  {
   "cell_type": "markdown",
   "metadata": {
    "id": "x5v12Ith0ub4"
   },
   "source": [
    "Some times we want to select certain dates from a dataset.  Perhaps I wanted to gather the fourth of July week from the dataset, 01-07-18 to 07-07-18."
   ]
  },
  {
   "cell_type": "code",
   "execution_count": 32,
   "metadata": {
    "colab": {
     "base_uri": "https://localhost:8080/"
    },
    "id": "QiN9g4001JDx",
    "outputId": "555be3be-ee2e-461d-d9c6-1f1b383425ff"
   },
   "outputs": [
    {
     "data": {
      "text/plain": [
       "0         True\n",
       "1         True\n",
       "2         True\n",
       "3         True\n",
       "4         True\n",
       "         ...  \n",
       "40055    False\n",
       "40056    False\n",
       "40057    False\n",
       "40058    False\n",
       "40059    False\n",
       "Name: ArrivalDate, Length: 40060, dtype: bool"
      ]
     },
     "execution_count": 32,
     "metadata": {},
     "output_type": "execute_result"
    }
   ],
   "source": [
    "df.ArrivalDate.between('01-07-15','07-07-15')"
   ]
  },
  {
   "cell_type": "markdown",
   "metadata": {
    "id": "aaJWieuu1ou5"
   },
   "source": [
    "Then to get at that data, we can pass the booleen values into the dataframe."
   ]
  },
  {
   "cell_type": "code",
   "execution_count": 35,
   "metadata": {
    "colab": {
     "base_uri": "https://localhost:8080/",
     "height": 488
    },
    "id": "h2xXBld_10Ro",
    "outputId": "d44ec74b-5e87-4c15-8f51-32f67bae54e9"
   },
   "outputs": [
    {
     "data": {
      "text/html": [
       "\n",
       "  <div id=\"df-2ce88a45-4b2d-4684-aace-134777ff7a02\">\n",
       "    <div class=\"colab-df-container\">\n",
       "      <div>\n",
       "<style scoped>\n",
       "    .dataframe tbody tr th:only-of-type {\n",
       "        vertical-align: middle;\n",
       "    }\n",
       "\n",
       "    .dataframe tbody tr th {\n",
       "        vertical-align: top;\n",
       "    }\n",
       "\n",
       "    .dataframe thead th {\n",
       "        text-align: right;\n",
       "    }\n",
       "</style>\n",
       "<table border=\"1\" class=\"dataframe\">\n",
       "  <thead>\n",
       "    <tr style=\"text-align: right;\">\n",
       "      <th></th>\n",
       "      <th>IsCanceled</th>\n",
       "      <th>LeadTime</th>\n",
       "      <th>ArrivalDateYear</th>\n",
       "      <th>ArrivalDateMonth</th>\n",
       "      <th>ArrivalDateWeekNumber</th>\n",
       "      <th>ArrivalDateDayOfMonth</th>\n",
       "      <th>StaysInWeekendNights</th>\n",
       "      <th>StaysInWeekNights</th>\n",
       "      <th>Adults</th>\n",
       "      <th>Children</th>\n",
       "      <th>Babies</th>\n",
       "      <th>Meal</th>\n",
       "      <th>Country</th>\n",
       "      <th>MarketSegment</th>\n",
       "      <th>DistributionChannel</th>\n",
       "      <th>IsRepeatedGuest</th>\n",
       "      <th>PreviousCancellations</th>\n",
       "      <th>PreviousBookingsNotCanceled</th>\n",
       "      <th>ReservedRoomType</th>\n",
       "      <th>AssignedRoomType</th>\n",
       "      <th>BookingChanges</th>\n",
       "      <th>DepositType</th>\n",
       "      <th>Agent</th>\n",
       "      <th>Company</th>\n",
       "      <th>DaysInWaitingList</th>\n",
       "      <th>CustomerType</th>\n",
       "      <th>ADR</th>\n",
       "      <th>RequiredCarParkingSpaces</th>\n",
       "      <th>TotalOfSpecialRequests</th>\n",
       "      <th>ReservationStatus</th>\n",
       "      <th>ReservationStatusDate</th>\n",
       "      <th>ArrivalDate</th>\n",
       "    </tr>\n",
       "  </thead>\n",
       "  <tbody>\n",
       "    <tr>\n",
       "      <th>202</th>\n",
       "      <td>0</td>\n",
       "      <td>66</td>\n",
       "      <td>2015</td>\n",
       "      <td>July</td>\n",
       "      <td>28</td>\n",
       "      <td>7</td>\n",
       "      <td>0</td>\n",
       "      <td>4</td>\n",
       "      <td>2</td>\n",
       "      <td>0</td>\n",
       "      <td>0</td>\n",
       "      <td>BB</td>\n",
       "      <td>PRT</td>\n",
       "      <td>Online TA</td>\n",
       "      <td>TA/TO</td>\n",
       "      <td>0</td>\n",
       "      <td>0</td>\n",
       "      <td>0</td>\n",
       "      <td>D</td>\n",
       "      <td>D</td>\n",
       "      <td>0</td>\n",
       "      <td>No Deposit</td>\n",
       "      <td>240</td>\n",
       "      <td>NULL</td>\n",
       "      <td>0</td>\n",
       "      <td>Transient</td>\n",
       "      <td>97.00</td>\n",
       "      <td>0</td>\n",
       "      <td>2</td>\n",
       "      <td>Check-Out</td>\n",
       "      <td>2015-07-11</td>\n",
       "      <td>2015-07-07</td>\n",
       "    </tr>\n",
       "    <tr>\n",
       "      <th>203</th>\n",
       "      <td>0</td>\n",
       "      <td>88</td>\n",
       "      <td>2015</td>\n",
       "      <td>July</td>\n",
       "      <td>28</td>\n",
       "      <td>7</td>\n",
       "      <td>0</td>\n",
       "      <td>4</td>\n",
       "      <td>3</td>\n",
       "      <td>0</td>\n",
       "      <td>0</td>\n",
       "      <td>HB</td>\n",
       "      <td>USA</td>\n",
       "      <td>Offline TA/TO</td>\n",
       "      <td>TA/TO</td>\n",
       "      <td>0</td>\n",
       "      <td>0</td>\n",
       "      <td>0</td>\n",
       "      <td>D</td>\n",
       "      <td>E</td>\n",
       "      <td>0</td>\n",
       "      <td>No Deposit</td>\n",
       "      <td>95</td>\n",
       "      <td>NULL</td>\n",
       "      <td>0</td>\n",
       "      <td>Transient</td>\n",
       "      <td>150.00</td>\n",
       "      <td>0</td>\n",
       "      <td>1</td>\n",
       "      <td>Check-Out</td>\n",
       "      <td>2015-07-11</td>\n",
       "      <td>2015-07-07</td>\n",
       "    </tr>\n",
       "    <tr>\n",
       "      <th>204</th>\n",
       "      <td>0</td>\n",
       "      <td>0</td>\n",
       "      <td>2015</td>\n",
       "      <td>July</td>\n",
       "      <td>28</td>\n",
       "      <td>7</td>\n",
       "      <td>0</td>\n",
       "      <td>4</td>\n",
       "      <td>2</td>\n",
       "      <td>0</td>\n",
       "      <td>0</td>\n",
       "      <td>BB</td>\n",
       "      <td>NLD</td>\n",
       "      <td>Direct</td>\n",
       "      <td>Direct</td>\n",
       "      <td>0</td>\n",
       "      <td>0</td>\n",
       "      <td>0</td>\n",
       "      <td>A</td>\n",
       "      <td>A</td>\n",
       "      <td>2</td>\n",
       "      <td>No Deposit</td>\n",
       "      <td>NULL</td>\n",
       "      <td>NULL</td>\n",
       "      <td>0</td>\n",
       "      <td>Transient</td>\n",
       "      <td>98.00</td>\n",
       "      <td>0</td>\n",
       "      <td>0</td>\n",
       "      <td>Check-Out</td>\n",
       "      <td>2015-07-11</td>\n",
       "      <td>2015-07-07</td>\n",
       "    </tr>\n",
       "    <tr>\n",
       "      <th>205</th>\n",
       "      <td>1</td>\n",
       "      <td>43</td>\n",
       "      <td>2015</td>\n",
       "      <td>July</td>\n",
       "      <td>28</td>\n",
       "      <td>7</td>\n",
       "      <td>0</td>\n",
       "      <td>5</td>\n",
       "      <td>2</td>\n",
       "      <td>0</td>\n",
       "      <td>0</td>\n",
       "      <td>HB</td>\n",
       "      <td>PRT</td>\n",
       "      <td>Offline TA/TO</td>\n",
       "      <td>TA/TO</td>\n",
       "      <td>0</td>\n",
       "      <td>0</td>\n",
       "      <td>0</td>\n",
       "      <td>A</td>\n",
       "      <td>A</td>\n",
       "      <td>0</td>\n",
       "      <td>No Deposit</td>\n",
       "      <td>134</td>\n",
       "      <td>NULL</td>\n",
       "      <td>0</td>\n",
       "      <td>Transient</td>\n",
       "      <td>91.50</td>\n",
       "      <td>0</td>\n",
       "      <td>0</td>\n",
       "      <td>Canceled</td>\n",
       "      <td>2015-05-28</td>\n",
       "      <td>2015-07-07</td>\n",
       "    </tr>\n",
       "    <tr>\n",
       "      <th>206</th>\n",
       "      <td>1</td>\n",
       "      <td>88</td>\n",
       "      <td>2015</td>\n",
       "      <td>July</td>\n",
       "      <td>28</td>\n",
       "      <td>7</td>\n",
       "      <td>2</td>\n",
       "      <td>5</td>\n",
       "      <td>2</td>\n",
       "      <td>0</td>\n",
       "      <td>0</td>\n",
       "      <td>HB</td>\n",
       "      <td>PRT</td>\n",
       "      <td>Online TA</td>\n",
       "      <td>TA/TO</td>\n",
       "      <td>0</td>\n",
       "      <td>0</td>\n",
       "      <td>0</td>\n",
       "      <td>E</td>\n",
       "      <td>E</td>\n",
       "      <td>0</td>\n",
       "      <td>No Deposit</td>\n",
       "      <td>240</td>\n",
       "      <td>NULL</td>\n",
       "      <td>0</td>\n",
       "      <td>Transient</td>\n",
       "      <td>139.00</td>\n",
       "      <td>0</td>\n",
       "      <td>2</td>\n",
       "      <td>Canceled</td>\n",
       "      <td>2015-04-13</td>\n",
       "      <td>2015-07-07</td>\n",
       "    </tr>\n",
       "    <tr>\n",
       "      <th>...</th>\n",
       "      <td>...</td>\n",
       "      <td>...</td>\n",
       "      <td>...</td>\n",
       "      <td>...</td>\n",
       "      <td>...</td>\n",
       "      <td>...</td>\n",
       "      <td>...</td>\n",
       "      <td>...</td>\n",
       "      <td>...</td>\n",
       "      <td>...</td>\n",
       "      <td>...</td>\n",
       "      <td>...</td>\n",
       "      <td>...</td>\n",
       "      <td>...</td>\n",
       "      <td>...</td>\n",
       "      <td>...</td>\n",
       "      <td>...</td>\n",
       "      <td>...</td>\n",
       "      <td>...</td>\n",
       "      <td>...</td>\n",
       "      <td>...</td>\n",
       "      <td>...</td>\n",
       "      <td>...</td>\n",
       "      <td>...</td>\n",
       "      <td>...</td>\n",
       "      <td>...</td>\n",
       "      <td>...</td>\n",
       "      <td>...</td>\n",
       "      <td>...</td>\n",
       "      <td>...</td>\n",
       "      <td>...</td>\n",
       "      <td>...</td>\n",
       "    </tr>\n",
       "    <tr>\n",
       "      <th>15443</th>\n",
       "      <td>0</td>\n",
       "      <td>185</td>\n",
       "      <td>2015</td>\n",
       "      <td>July</td>\n",
       "      <td>28</td>\n",
       "      <td>6</td>\n",
       "      <td>3</td>\n",
       "      <td>8</td>\n",
       "      <td>2</td>\n",
       "      <td>0</td>\n",
       "      <td>0</td>\n",
       "      <td>BB</td>\n",
       "      <td>NLD</td>\n",
       "      <td>Offline TA/TO</td>\n",
       "      <td>TA/TO</td>\n",
       "      <td>0</td>\n",
       "      <td>0</td>\n",
       "      <td>0</td>\n",
       "      <td>A</td>\n",
       "      <td>A</td>\n",
       "      <td>0</td>\n",
       "      <td>No Deposit</td>\n",
       "      <td>128</td>\n",
       "      <td>NULL</td>\n",
       "      <td>0</td>\n",
       "      <td>Contract</td>\n",
       "      <td>90.95</td>\n",
       "      <td>0</td>\n",
       "      <td>0</td>\n",
       "      <td>Check-Out</td>\n",
       "      <td>2015-07-17</td>\n",
       "      <td>2015-07-06</td>\n",
       "    </tr>\n",
       "    <tr>\n",
       "      <th>15447</th>\n",
       "      <td>0</td>\n",
       "      <td>184</td>\n",
       "      <td>2015</td>\n",
       "      <td>July</td>\n",
       "      <td>28</td>\n",
       "      <td>7</td>\n",
       "      <td>2</td>\n",
       "      <td>9</td>\n",
       "      <td>2</td>\n",
       "      <td>0</td>\n",
       "      <td>0</td>\n",
       "      <td>HB</td>\n",
       "      <td>GBR</td>\n",
       "      <td>Offline TA/TO</td>\n",
       "      <td>TA/TO</td>\n",
       "      <td>0</td>\n",
       "      <td>0</td>\n",
       "      <td>0</td>\n",
       "      <td>A</td>\n",
       "      <td>A</td>\n",
       "      <td>0</td>\n",
       "      <td>No Deposit</td>\n",
       "      <td>143</td>\n",
       "      <td>NULL</td>\n",
       "      <td>0</td>\n",
       "      <td>Contract</td>\n",
       "      <td>110.50</td>\n",
       "      <td>0</td>\n",
       "      <td>0</td>\n",
       "      <td>Check-Out</td>\n",
       "      <td>2015-07-18</td>\n",
       "      <td>2015-07-07</td>\n",
       "    </tr>\n",
       "    <tr>\n",
       "      <th>15459</th>\n",
       "      <td>0</td>\n",
       "      <td>184</td>\n",
       "      <td>2015</td>\n",
       "      <td>July</td>\n",
       "      <td>27</td>\n",
       "      <td>4</td>\n",
       "      <td>4</td>\n",
       "      <td>11</td>\n",
       "      <td>2</td>\n",
       "      <td>0</td>\n",
       "      <td>0</td>\n",
       "      <td>BB</td>\n",
       "      <td>IRL</td>\n",
       "      <td>Offline TA/TO</td>\n",
       "      <td>TA/TO</td>\n",
       "      <td>0</td>\n",
       "      <td>0</td>\n",
       "      <td>0</td>\n",
       "      <td>A</td>\n",
       "      <td>A</td>\n",
       "      <td>0</td>\n",
       "      <td>No Deposit</td>\n",
       "      <td>156</td>\n",
       "      <td>NULL</td>\n",
       "      <td>0</td>\n",
       "      <td>Contract</td>\n",
       "      <td>90.95</td>\n",
       "      <td>0</td>\n",
       "      <td>0</td>\n",
       "      <td>Check-Out</td>\n",
       "      <td>2015-07-19</td>\n",
       "      <td>2015-07-04</td>\n",
       "    </tr>\n",
       "    <tr>\n",
       "      <th>15460</th>\n",
       "      <td>0</td>\n",
       "      <td>93</td>\n",
       "      <td>2015</td>\n",
       "      <td>July</td>\n",
       "      <td>28</td>\n",
       "      <td>5</td>\n",
       "      <td>4</td>\n",
       "      <td>10</td>\n",
       "      <td>2</td>\n",
       "      <td>0</td>\n",
       "      <td>0</td>\n",
       "      <td>BB</td>\n",
       "      <td>GBR</td>\n",
       "      <td>Offline TA/TO</td>\n",
       "      <td>TA/TO</td>\n",
       "      <td>0</td>\n",
       "      <td>0</td>\n",
       "      <td>0</td>\n",
       "      <td>A</td>\n",
       "      <td>A</td>\n",
       "      <td>0</td>\n",
       "      <td>No Deposit</td>\n",
       "      <td>243</td>\n",
       "      <td>NULL</td>\n",
       "      <td>0</td>\n",
       "      <td>Contract</td>\n",
       "      <td>88.40</td>\n",
       "      <td>0</td>\n",
       "      <td>1</td>\n",
       "      <td>Check-Out</td>\n",
       "      <td>2015-07-19</td>\n",
       "      <td>2015-07-05</td>\n",
       "    </tr>\n",
       "    <tr>\n",
       "      <th>15470</th>\n",
       "      <td>0</td>\n",
       "      <td>125</td>\n",
       "      <td>2015</td>\n",
       "      <td>July</td>\n",
       "      <td>28</td>\n",
       "      <td>5</td>\n",
       "      <td>4</td>\n",
       "      <td>10</td>\n",
       "      <td>2</td>\n",
       "      <td>0</td>\n",
       "      <td>0</td>\n",
       "      <td>HB</td>\n",
       "      <td>DEU</td>\n",
       "      <td>Offline TA/TO</td>\n",
       "      <td>TA/TO</td>\n",
       "      <td>0</td>\n",
       "      <td>0</td>\n",
       "      <td>0</td>\n",
       "      <td>A</td>\n",
       "      <td>A</td>\n",
       "      <td>1</td>\n",
       "      <td>No Deposit</td>\n",
       "      <td>69</td>\n",
       "      <td>NULL</td>\n",
       "      <td>0</td>\n",
       "      <td>Contract</td>\n",
       "      <td>113.05</td>\n",
       "      <td>0</td>\n",
       "      <td>0</td>\n",
       "      <td>Check-Out</td>\n",
       "      <td>2015-07-19</td>\n",
       "      <td>2015-07-05</td>\n",
       "    </tr>\n",
       "  </tbody>\n",
       "</table>\n",
       "<p>100 rows × 32 columns</p>\n",
       "</div>\n",
       "      <button class=\"colab-df-convert\" onclick=\"convertToInteractive('df-2ce88a45-4b2d-4684-aace-134777ff7a02')\"\n",
       "              title=\"Convert this dataframe to an interactive table.\"\n",
       "              style=\"display:none;\">\n",
       "        \n",
       "  <svg xmlns=\"http://www.w3.org/2000/svg\" height=\"24px\"viewBox=\"0 0 24 24\"\n",
       "       width=\"24px\">\n",
       "    <path d=\"M0 0h24v24H0V0z\" fill=\"none\"/>\n",
       "    <path d=\"M18.56 5.44l.94 2.06.94-2.06 2.06-.94-2.06-.94-.94-2.06-.94 2.06-2.06.94zm-11 1L8.5 8.5l.94-2.06 2.06-.94-2.06-.94L8.5 2.5l-.94 2.06-2.06.94zm10 10l.94 2.06.94-2.06 2.06-.94-2.06-.94-.94-2.06-.94 2.06-2.06.94z\"/><path d=\"M17.41 7.96l-1.37-1.37c-.4-.4-.92-.59-1.43-.59-.52 0-1.04.2-1.43.59L10.3 9.45l-7.72 7.72c-.78.78-.78 2.05 0 2.83L4 21.41c.39.39.9.59 1.41.59.51 0 1.02-.2 1.41-.59l7.78-7.78 2.81-2.81c.8-.78.8-2.07 0-2.86zM5.41 20L4 18.59l7.72-7.72 1.47 1.35L5.41 20z\"/>\n",
       "  </svg>\n",
       "      </button>\n",
       "      \n",
       "  <style>\n",
       "    .colab-df-container {\n",
       "      display:flex;\n",
       "      flex-wrap:wrap;\n",
       "      gap: 12px;\n",
       "    }\n",
       "\n",
       "    .colab-df-convert {\n",
       "      background-color: #E8F0FE;\n",
       "      border: none;\n",
       "      border-radius: 50%;\n",
       "      cursor: pointer;\n",
       "      display: none;\n",
       "      fill: #1967D2;\n",
       "      height: 32px;\n",
       "      padding: 0 0 0 0;\n",
       "      width: 32px;\n",
       "    }\n",
       "\n",
       "    .colab-df-convert:hover {\n",
       "      background-color: #E2EBFA;\n",
       "      box-shadow: 0px 1px 2px rgba(60, 64, 67, 0.3), 0px 1px 3px 1px rgba(60, 64, 67, 0.15);\n",
       "      fill: #174EA6;\n",
       "    }\n",
       "\n",
       "    [theme=dark] .colab-df-convert {\n",
       "      background-color: #3B4455;\n",
       "      fill: #D2E3FC;\n",
       "    }\n",
       "\n",
       "    [theme=dark] .colab-df-convert:hover {\n",
       "      background-color: #434B5C;\n",
       "      box-shadow: 0px 1px 3px 1px rgba(0, 0, 0, 0.15);\n",
       "      filter: drop-shadow(0px 1px 2px rgba(0, 0, 0, 0.3));\n",
       "      fill: #FFFFFF;\n",
       "    }\n",
       "  </style>\n",
       "\n",
       "      <script>\n",
       "        const buttonEl =\n",
       "          document.querySelector('#df-2ce88a45-4b2d-4684-aace-134777ff7a02 button.colab-df-convert');\n",
       "        buttonEl.style.display =\n",
       "          google.colab.kernel.accessAllowed ? 'block' : 'none';\n",
       "\n",
       "        async function convertToInteractive(key) {\n",
       "          const element = document.querySelector('#df-2ce88a45-4b2d-4684-aace-134777ff7a02');\n",
       "          const dataTable =\n",
       "            await google.colab.kernel.invokeFunction('convertToInteractive',\n",
       "                                                     [key], {});\n",
       "          if (!dataTable) return;\n",
       "\n",
       "          const docLinkHtml = 'Like what you see? Visit the ' +\n",
       "            '<a target=\"_blank\" href=https://colab.research.google.com/notebooks/data_table.ipynb>data table notebook</a>'\n",
       "            + ' to learn more about interactive tables.';\n",
       "          element.innerHTML = '';\n",
       "          dataTable['output_type'] = 'display_data';\n",
       "          await google.colab.output.renderOutput(dataTable, element);\n",
       "          const docLink = document.createElement('div');\n",
       "          docLink.innerHTML = docLinkHtml;\n",
       "          element.appendChild(docLink);\n",
       "        }\n",
       "      </script>\n",
       "    </div>\n",
       "  </div>\n",
       "  "
      ],
      "text/plain": [
       "       IsCanceled  LeadTime  ...  ReservationStatusDate ArrivalDate\n",
       "202             0        66  ...             2015-07-11  2015-07-07\n",
       "203             0        88  ...             2015-07-11  2015-07-07\n",
       "204             0         0  ...             2015-07-11  2015-07-07\n",
       "205             1        43  ...             2015-05-28  2015-07-07\n",
       "206             1        88  ...             2015-04-13  2015-07-07\n",
       "...           ...       ...  ...                    ...         ...\n",
       "15443           0       185  ...             2015-07-17  2015-07-06\n",
       "15447           0       184  ...             2015-07-18  2015-07-07\n",
       "15459           0       184  ...             2015-07-19  2015-07-04\n",
       "15460           0        93  ...             2015-07-19  2015-07-05\n",
       "15470           0       125  ...             2015-07-19  2015-07-05\n",
       "\n",
       "[100 rows x 32 columns]"
      ]
     },
     "execution_count": 35,
     "metadata": {},
     "output_type": "execute_result"
    }
   ],
   "source": [
    "df[df.ArrivalDate.between('01-07-15','07-07-15')].tail(100)"
   ]
  },
  {
   "cell_type": "markdown",
   "metadata": {
    "id": "MtagPsu12Qpn"
   },
   "source": [
    "The one strange thing about the `between` command is that it is inclusive so both the 1st and the 7th are included.  If times are included only exactly at midnight on the 7th is included.  You can change the inclusion with the command `inclusive` it can be `both`, `neither`, `left` or `right`."
   ]
  },
  {
   "cell_type": "markdown",
   "metadata": {
    "id": "bI6DGE-CmGWX"
   },
   "source": [
    "## Your Turn"
   ]
  },
  {
   "cell_type": "markdown",
   "metadata": {
    "id": "P0ZHHjr2mI8m"
   },
   "source": [
    "Using the dataset from an IOT device retreived from [here](https://www.kaggle.com/atulanandjha/temperature-readings-iot-devices) and introduced to [here](https://analyticsindiamag.com/10-datasets-for-data-cleaning-practice-for-beginners/).  Uploaded to the web for you to retrieve easily here https://raw.githubusercontent.com/nurfnick/Data_Viz/main/IOT-temp.csv Answer the folloiwng questions.\n",
    "\n",
    "1. Convert the *noted_date* into DateTime, it is in day-month-Year Hour:Minute format.\n",
    "1. What is the minimum and maximum date and time?\n",
    "2. What is the largest interval inbetween temperature checks?\n",
    "3. What is the average datetime?\n",
    "4. What was the average outside temperature on '09-11-2018'?"
   ]
  }
 ],
 "metadata": {
  "colab": {
   "authorship_tag": "ABX9TyOGtzvJ0UZ3UM4iTfySCDHz",
   "include_colab_link": true,
   "name": "Untitled84.ipynb",
   "provenance": []
  },
  "kernelspec": {
   "display_name": "Python 3",
   "name": "python3"
  },
  "language_info": {
   "name": "python"
  }
 },
 "nbformat": 4,
 "nbformat_minor": 0
}