{
  "nbformat": 4,
  "nbformat_minor": 0,
  "metadata": {
    "colab": {
      "name": "Untitled84.ipynb",
      "provenance": [],
      "authorship_tag": "ABX9TyN6fbXD0tmowyP/GpS0G/hn",
      "include_colab_link": true
    },
    "kernelspec": {
      "name": "python3",
      "display_name": "Python 3"
    },
    "language_info": {
      "name": "python"
    }
  },
  "cells": [
    {
      "cell_type": "markdown",
      "metadata": {
        "id": "view-in-github",
        "colab_type": "text"
      },
      "source": [
        "<a href=\"https://colab.research.google.com/github/nurfnick/Data_Viz/blob/main/Content/Data_Cleaning/16_Dates.ipynb\" target=\"_parent\"><img src=\"https://colab.research.google.com/assets/colab-badge.svg\" alt=\"Open In Colab\"/></a>"
      ]
    },
    {
      "cell_type": "markdown",
      "source": [
        "# Dates"
      ],
      "metadata": {
        "id": "HoHHAFoHQoeg"
      }
    },
    {
      "cell_type": "markdown",
      "source": [
        "## Converting Seperate Columns into Datetime"
      ],
      "metadata": {
        "id": "rkKRZejlQsB8"
      }
    },
    {
      "cell_type": "markdown",
      "source": [
        "I gathered the folloiwng dataset from [this paper](https://www.sciencedirect.com/science/article/pii/S2352340918315191).  It looks at actual hotel stays and reservations.  It is interesting because it has dates in several formats."
      ],
      "metadata": {
        "id": "W9-rSXCxQ2pq"
      }
    },
    {
      "cell_type": "code",
      "execution_count": 2,
      "metadata": {
        "colab": {
          "base_uri": "https://localhost:8080/",
          "height": 1000
        },
        "id": "8udT7ow6QntB",
        "outputId": "5505b865-4077-4b44-ef7a-b217d0ffad83"
      },
      "outputs": [
        {
          "output_type": "execute_result",
          "data": {
            "text/plain": [
              "                                           0                 1   \\\n",
              "IsCanceled                                  0                 0   \n",
              "LeadTime                                  342               737   \n",
              "ArrivalDateYear                          2015              2015   \n",
              "ArrivalDateMonth                         July              July   \n",
              "ArrivalDateWeekNumber                      27                27   \n",
              "ArrivalDateDayOfMonth                       1                 1   \n",
              "StaysInWeekendNights                        0                 0   \n",
              "StaysInWeekNights                           0                 0   \n",
              "Adults                                      2                 2   \n",
              "Children                                    0                 0   \n",
              "Babies                                      0                 0   \n",
              "Meal                                BB                BB          \n",
              "Country                                   PRT               PRT   \n",
              "MarketSegment                          Direct            Direct   \n",
              "DistributionChannel                    Direct            Direct   \n",
              "IsRepeatedGuest                             0                 0   \n",
              "PreviousCancellations                       0                 0   \n",
              "PreviousBookingsNotCanceled                 0                 0   \n",
              "ReservedRoomType             C                 C                  \n",
              "AssignedRoomType             C                 C                  \n",
              "BookingChanges                              3                 4   \n",
              "DepositType                   No Deposit        No Deposit        \n",
              "Agent                                    NULL              NULL   \n",
              "Company                                  NULL              NULL   \n",
              "DaysInWaitingList                           0                 0   \n",
              "CustomerType                        Transient         Transient   \n",
              "ADR                                       0.0               0.0   \n",
              "RequiredCarParkingSpaces                    0                 0   \n",
              "TotalOfSpecialRequests                      0                 0   \n",
              "ReservationStatus                   Check-Out         Check-Out   \n",
              "ReservationStatusDate                7/1/2015          7/1/2015   \n",
              "\n",
              "                                           2                 3   \\\n",
              "IsCanceled                                  0                 0   \n",
              "LeadTime                                    7                13   \n",
              "ArrivalDateYear                          2015              2015   \n",
              "ArrivalDateMonth                         July              July   \n",
              "ArrivalDateWeekNumber                      27                27   \n",
              "ArrivalDateDayOfMonth                       1                 1   \n",
              "StaysInWeekendNights                        0                 0   \n",
              "StaysInWeekNights                           1                 1   \n",
              "Adults                                      1                 1   \n",
              "Children                                    0                 0   \n",
              "Babies                                      0                 0   \n",
              "Meal                                BB                BB          \n",
              "Country                                   GBR               GBR   \n",
              "MarketSegment                          Direct         Corporate   \n",
              "DistributionChannel                    Direct         Corporate   \n",
              "IsRepeatedGuest                             0                 0   \n",
              "PreviousCancellations                       0                 0   \n",
              "PreviousBookingsNotCanceled                 0                 0   \n",
              "ReservedRoomType             A                 A                  \n",
              "AssignedRoomType             C                 A                  \n",
              "BookingChanges                              0                 0   \n",
              "DepositType                   No Deposit        No Deposit        \n",
              "Agent                                    NULL               304   \n",
              "Company                                  NULL              NULL   \n",
              "DaysInWaitingList                           0                 0   \n",
              "CustomerType                        Transient         Transient   \n",
              "ADR                                      75.0              75.0   \n",
              "RequiredCarParkingSpaces                    0                 0   \n",
              "TotalOfSpecialRequests                      0                 0   \n",
              "ReservationStatus                   Check-Out         Check-Out   \n",
              "ReservationStatusDate                7/2/2015          7/2/2015   \n",
              "\n",
              "                                           4                 5   \\\n",
              "IsCanceled                                  0                 0   \n",
              "LeadTime                                   14                14   \n",
              "ArrivalDateYear                          2015              2015   \n",
              "ArrivalDateMonth                         July              July   \n",
              "ArrivalDateWeekNumber                      27                27   \n",
              "ArrivalDateDayOfMonth                       1                 1   \n",
              "StaysInWeekendNights                        0                 0   \n",
              "StaysInWeekNights                           2                 2   \n",
              "Adults                                      2                 2   \n",
              "Children                                    0                 0   \n",
              "Babies                                      0                 0   \n",
              "Meal                                BB                BB          \n",
              "Country                                   GBR               GBR   \n",
              "MarketSegment                       Online TA         Online TA   \n",
              "DistributionChannel                     TA/TO             TA/TO   \n",
              "IsRepeatedGuest                             0                 0   \n",
              "PreviousCancellations                       0                 0   \n",
              "PreviousBookingsNotCanceled                 0                 0   \n",
              "ReservedRoomType             A                 A                  \n",
              "AssignedRoomType             A                 A                  \n",
              "BookingChanges                              0                 0   \n",
              "DepositType                   No Deposit        No Deposit        \n",
              "Agent                                     240               240   \n",
              "Company                                  NULL              NULL   \n",
              "DaysInWaitingList                           0                 0   \n",
              "CustomerType                        Transient         Transient   \n",
              "ADR                                      98.0              98.0   \n",
              "RequiredCarParkingSpaces                    0                 0   \n",
              "TotalOfSpecialRequests                      1                 1   \n",
              "ReservationStatus                   Check-Out         Check-Out   \n",
              "ReservationStatusDate                7/3/2015          7/3/2015   \n",
              "\n",
              "                                           6                 7   \\\n",
              "IsCanceled                                  0                 0   \n",
              "LeadTime                                    0                 9   \n",
              "ArrivalDateYear                          2015              2015   \n",
              "ArrivalDateMonth                         July              July   \n",
              "ArrivalDateWeekNumber                      27                27   \n",
              "ArrivalDateDayOfMonth                       1                 1   \n",
              "StaysInWeekendNights                        0                 0   \n",
              "StaysInWeekNights                           2                 2   \n",
              "Adults                                      2                 2   \n",
              "Children                                    0                 0   \n",
              "Babies                                      0                 0   \n",
              "Meal                                BB                FB          \n",
              "Country                                   PRT               PRT   \n",
              "MarketSegment                          Direct            Direct   \n",
              "DistributionChannel                    Direct            Direct   \n",
              "IsRepeatedGuest                             0                 0   \n",
              "PreviousCancellations                       0                 0   \n",
              "PreviousBookingsNotCanceled                 0                 0   \n",
              "ReservedRoomType             C                 C                  \n",
              "AssignedRoomType             C                 C                  \n",
              "BookingChanges                              0                 0   \n",
              "DepositType                   No Deposit        No Deposit        \n",
              "Agent                                    NULL               303   \n",
              "Company                                  NULL              NULL   \n",
              "DaysInWaitingList                           0                 0   \n",
              "CustomerType                        Transient         Transient   \n",
              "ADR                                     107.0             103.0   \n",
              "RequiredCarParkingSpaces                    0                 0   \n",
              "TotalOfSpecialRequests                      0                 1   \n",
              "ReservationStatus                   Check-Out         Check-Out   \n",
              "ReservationStatusDate                7/3/2015          7/3/2015   \n",
              "\n",
              "                                           8                 9   \\\n",
              "IsCanceled                                  1                 1   \n",
              "LeadTime                                   85                75   \n",
              "ArrivalDateYear                          2015              2015   \n",
              "ArrivalDateMonth                         July              July   \n",
              "ArrivalDateWeekNumber                      27                27   \n",
              "ArrivalDateDayOfMonth                       1                 1   \n",
              "StaysInWeekendNights                        0                 0   \n",
              "StaysInWeekNights                           3                 3   \n",
              "Adults                                      2                 2   \n",
              "Children                                    0                 0   \n",
              "Babies                                      0                 0   \n",
              "Meal                                BB                HB          \n",
              "Country                                   PRT               PRT   \n",
              "MarketSegment                       Online TA     Offline TA/TO   \n",
              "DistributionChannel                     TA/TO             TA/TO   \n",
              "IsRepeatedGuest                             0                 0   \n",
              "PreviousCancellations                       0                 0   \n",
              "PreviousBookingsNotCanceled                 0                 0   \n",
              "ReservedRoomType             A                 D                  \n",
              "AssignedRoomType             A                 D                  \n",
              "BookingChanges                              0                 0   \n",
              "DepositType                   No Deposit        No Deposit        \n",
              "Agent                                     240                15   \n",
              "Company                                  NULL              NULL   \n",
              "DaysInWaitingList                           0                 0   \n",
              "CustomerType                        Transient         Transient   \n",
              "ADR                                      82.0             105.5   \n",
              "RequiredCarParkingSpaces                    0                 0   \n",
              "TotalOfSpecialRequests                      1                 0   \n",
              "ReservationStatus                    Canceled          Canceled   \n",
              "ReservationStatusDate                5/6/2015         4/22/2015   \n",
              "\n",
              "                                           10                11  \\\n",
              "IsCanceled                                  1                 0   \n",
              "LeadTime                                   23                35   \n",
              "ArrivalDateYear                          2015              2015   \n",
              "ArrivalDateMonth                         July              July   \n",
              "ArrivalDateWeekNumber                      27                27   \n",
              "ArrivalDateDayOfMonth                       1                 1   \n",
              "StaysInWeekendNights                        0                 0   \n",
              "StaysInWeekNights                           4                 4   \n",
              "Adults                                      2                 2   \n",
              "Children                                    0                 0   \n",
              "Babies                                      0                 0   \n",
              "Meal                                BB                HB          \n",
              "Country                                   PRT               PRT   \n",
              "MarketSegment                       Online TA         Online TA   \n",
              "DistributionChannel                     TA/TO             TA/TO   \n",
              "IsRepeatedGuest                             0                 0   \n",
              "PreviousCancellations                       0                 0   \n",
              "PreviousBookingsNotCanceled                 0                 0   \n",
              "ReservedRoomType             E                 D                  \n",
              "AssignedRoomType             E                 D                  \n",
              "BookingChanges                              0                 0   \n",
              "DepositType                   No Deposit        No Deposit        \n",
              "Agent                                     240               240   \n",
              "Company                                  NULL              NULL   \n",
              "DaysInWaitingList                           0                 0   \n",
              "CustomerType                        Transient         Transient   \n",
              "ADR                                     123.0             145.0   \n",
              "RequiredCarParkingSpaces                    0                 0   \n",
              "TotalOfSpecialRequests                      0                 0   \n",
              "ReservationStatus                    Canceled         Check-Out   \n",
              "ReservationStatusDate               6/23/2015          7/5/2015   \n",
              "\n",
              "                                           12                13  \\\n",
              "IsCanceled                                  0                 0   \n",
              "LeadTime                                   68                18   \n",
              "ArrivalDateYear                          2015              2015   \n",
              "ArrivalDateMonth                         July              July   \n",
              "ArrivalDateWeekNumber                      27                27   \n",
              "ArrivalDateDayOfMonth                       1                 1   \n",
              "StaysInWeekendNights                        0                 0   \n",
              "StaysInWeekNights                           4                 4   \n",
              "Adults                                      2                 2   \n",
              "Children                                    0                 1   \n",
              "Babies                                      0                 0   \n",
              "Meal                                BB                HB          \n",
              "Country                                   USA               ESP   \n",
              "MarketSegment                       Online TA         Online TA   \n",
              "DistributionChannel                     TA/TO             TA/TO   \n",
              "IsRepeatedGuest                             0                 0   \n",
              "PreviousCancellations                       0                 0   \n",
              "PreviousBookingsNotCanceled                 0                 0   \n",
              "ReservedRoomType             D                 G                  \n",
              "AssignedRoomType             E                 G                  \n",
              "BookingChanges                              0                 1   \n",
              "DepositType                   No Deposit        No Deposit        \n",
              "Agent                                     240               241   \n",
              "Company                                  NULL              NULL   \n",
              "DaysInWaitingList                           0                 0   \n",
              "CustomerType                        Transient         Transient   \n",
              "ADR                                      97.0            154.77   \n",
              "RequiredCarParkingSpaces                    0                 0   \n",
              "TotalOfSpecialRequests                      3                 1   \n",
              "ReservationStatus                   Check-Out         Check-Out   \n",
              "ReservationStatusDate                7/5/2015          7/5/2015   \n",
              "\n",
              "                                           14  \n",
              "IsCanceled                                  0  \n",
              "LeadTime                                   37  \n",
              "ArrivalDateYear                          2015  \n",
              "ArrivalDateMonth                         July  \n",
              "ArrivalDateWeekNumber                      27  \n",
              "ArrivalDateDayOfMonth                       1  \n",
              "StaysInWeekendNights                        0  \n",
              "StaysInWeekNights                           4  \n",
              "Adults                                      2  \n",
              "Children                                    0  \n",
              "Babies                                      0  \n",
              "Meal                                BB         \n",
              "Country                                   PRT  \n",
              "MarketSegment                       Online TA  \n",
              "DistributionChannel                     TA/TO  \n",
              "IsRepeatedGuest                             0  \n",
              "PreviousCancellations                       0  \n",
              "PreviousBookingsNotCanceled                 0  \n",
              "ReservedRoomType             E                 \n",
              "AssignedRoomType             E                 \n",
              "BookingChanges                              0  \n",
              "DepositType                   No Deposit       \n",
              "Agent                                     241  \n",
              "Company                                  NULL  \n",
              "DaysInWaitingList                           0  \n",
              "CustomerType                        Transient  \n",
              "ADR                                     94.71  \n",
              "RequiredCarParkingSpaces                    0  \n",
              "TotalOfSpecialRequests                      0  \n",
              "ReservationStatus                   Check-Out  \n",
              "ReservationStatusDate                7/5/2015  "
            ],
            "text/html": [
              "\n",
              "  <div id=\"df-60b3d72a-0bd1-448d-a335-91c2cbca2391\" class=\"colab-df-container\">\n",
              "    <div>\n",
              "<style scoped>\n",
              "    .dataframe tbody tr th:only-of-type {\n",
              "        vertical-align: middle;\n",
              "    }\n",
              "\n",
              "    .dataframe tbody tr th {\n",
              "        vertical-align: top;\n",
              "    }\n",
              "\n",
              "    .dataframe thead th {\n",
              "        text-align: right;\n",
              "    }\n",
              "</style>\n",
              "<table border=\"1\" class=\"dataframe\">\n",
              "  <thead>\n",
              "    <tr style=\"text-align: right;\">\n",
              "      <th></th>\n",
              "      <th>0</th>\n",
              "      <th>1</th>\n",
              "      <th>2</th>\n",
              "      <th>3</th>\n",
              "      <th>4</th>\n",
              "      <th>5</th>\n",
              "      <th>6</th>\n",
              "      <th>7</th>\n",
              "      <th>8</th>\n",
              "      <th>9</th>\n",
              "      <th>10</th>\n",
              "      <th>11</th>\n",
              "      <th>12</th>\n",
              "      <th>13</th>\n",
              "      <th>14</th>\n",
              "    </tr>\n",
              "  </thead>\n",
              "  <tbody>\n",
              "    <tr>\n",
              "      <th>IsCanceled</th>\n",
              "      <td>0</td>\n",
              "      <td>0</td>\n",
              "      <td>0</td>\n",
              "      <td>0</td>\n",
              "      <td>0</td>\n",
              "      <td>0</td>\n",
              "      <td>0</td>\n",
              "      <td>0</td>\n",
              "      <td>1</td>\n",
              "      <td>1</td>\n",
              "      <td>1</td>\n",
              "      <td>0</td>\n",
              "      <td>0</td>\n",
              "      <td>0</td>\n",
              "      <td>0</td>\n",
              "    </tr>\n",
              "    <tr>\n",
              "      <th>LeadTime</th>\n",
              "      <td>342</td>\n",
              "      <td>737</td>\n",
              "      <td>7</td>\n",
              "      <td>13</td>\n",
              "      <td>14</td>\n",
              "      <td>14</td>\n",
              "      <td>0</td>\n",
              "      <td>9</td>\n",
              "      <td>85</td>\n",
              "      <td>75</td>\n",
              "      <td>23</td>\n",
              "      <td>35</td>\n",
              "      <td>68</td>\n",
              "      <td>18</td>\n",
              "      <td>37</td>\n",
              "    </tr>\n",
              "    <tr>\n",
              "      <th>ArrivalDateYear</th>\n",
              "      <td>2015</td>\n",
              "      <td>2015</td>\n",
              "      <td>2015</td>\n",
              "      <td>2015</td>\n",
              "      <td>2015</td>\n",
              "      <td>2015</td>\n",
              "      <td>2015</td>\n",
              "      <td>2015</td>\n",
              "      <td>2015</td>\n",
              "      <td>2015</td>\n",
              "      <td>2015</td>\n",
              "      <td>2015</td>\n",
              "      <td>2015</td>\n",
              "      <td>2015</td>\n",
              "      <td>2015</td>\n",
              "    </tr>\n",
              "    <tr>\n",
              "      <th>ArrivalDateMonth</th>\n",
              "      <td>July</td>\n",
              "      <td>July</td>\n",
              "      <td>July</td>\n",
              "      <td>July</td>\n",
              "      <td>July</td>\n",
              "      <td>July</td>\n",
              "      <td>July</td>\n",
              "      <td>July</td>\n",
              "      <td>July</td>\n",
              "      <td>July</td>\n",
              "      <td>July</td>\n",
              "      <td>July</td>\n",
              "      <td>July</td>\n",
              "      <td>July</td>\n",
              "      <td>July</td>\n",
              "    </tr>\n",
              "    <tr>\n",
              "      <th>ArrivalDateWeekNumber</th>\n",
              "      <td>27</td>\n",
              "      <td>27</td>\n",
              "      <td>27</td>\n",
              "      <td>27</td>\n",
              "      <td>27</td>\n",
              "      <td>27</td>\n",
              "      <td>27</td>\n",
              "      <td>27</td>\n",
              "      <td>27</td>\n",
              "      <td>27</td>\n",
              "      <td>27</td>\n",
              "      <td>27</td>\n",
              "      <td>27</td>\n",
              "      <td>27</td>\n",
              "      <td>27</td>\n",
              "    </tr>\n",
              "    <tr>\n",
              "      <th>ArrivalDateDayOfMonth</th>\n",
              "      <td>1</td>\n",
              "      <td>1</td>\n",
              "      <td>1</td>\n",
              "      <td>1</td>\n",
              "      <td>1</td>\n",
              "      <td>1</td>\n",
              "      <td>1</td>\n",
              "      <td>1</td>\n",
              "      <td>1</td>\n",
              "      <td>1</td>\n",
              "      <td>1</td>\n",
              "      <td>1</td>\n",
              "      <td>1</td>\n",
              "      <td>1</td>\n",
              "      <td>1</td>\n",
              "    </tr>\n",
              "    <tr>\n",
              "      <th>StaysInWeekendNights</th>\n",
              "      <td>0</td>\n",
              "      <td>0</td>\n",
              "      <td>0</td>\n",
              "      <td>0</td>\n",
              "      <td>0</td>\n",
              "      <td>0</td>\n",
              "      <td>0</td>\n",
              "      <td>0</td>\n",
              "      <td>0</td>\n",
              "      <td>0</td>\n",
              "      <td>0</td>\n",
              "      <td>0</td>\n",
              "      <td>0</td>\n",
              "      <td>0</td>\n",
              "      <td>0</td>\n",
              "    </tr>\n",
              "    <tr>\n",
              "      <th>StaysInWeekNights</th>\n",
              "      <td>0</td>\n",
              "      <td>0</td>\n",
              "      <td>1</td>\n",
              "      <td>1</td>\n",
              "      <td>2</td>\n",
              "      <td>2</td>\n",
              "      <td>2</td>\n",
              "      <td>2</td>\n",
              "      <td>3</td>\n",
              "      <td>3</td>\n",
              "      <td>4</td>\n",
              "      <td>4</td>\n",
              "      <td>4</td>\n",
              "      <td>4</td>\n",
              "      <td>4</td>\n",
              "    </tr>\n",
              "    <tr>\n",
              "      <th>Adults</th>\n",
              "      <td>2</td>\n",
              "      <td>2</td>\n",
              "      <td>1</td>\n",
              "      <td>1</td>\n",
              "      <td>2</td>\n",
              "      <td>2</td>\n",
              "      <td>2</td>\n",
              "      <td>2</td>\n",
              "      <td>2</td>\n",
              "      <td>2</td>\n",
              "      <td>2</td>\n",
              "      <td>2</td>\n",
              "      <td>2</td>\n",
              "      <td>2</td>\n",
              "      <td>2</td>\n",
              "    </tr>\n",
              "    <tr>\n",
              "      <th>Children</th>\n",
              "      <td>0</td>\n",
              "      <td>0</td>\n",
              "      <td>0</td>\n",
              "      <td>0</td>\n",
              "      <td>0</td>\n",
              "      <td>0</td>\n",
              "      <td>0</td>\n",
              "      <td>0</td>\n",
              "      <td>0</td>\n",
              "      <td>0</td>\n",
              "      <td>0</td>\n",
              "      <td>0</td>\n",
              "      <td>0</td>\n",
              "      <td>1</td>\n",
              "      <td>0</td>\n",
              "    </tr>\n",
              "    <tr>\n",
              "      <th>Babies</th>\n",
              "      <td>0</td>\n",
              "      <td>0</td>\n",
              "      <td>0</td>\n",
              "      <td>0</td>\n",
              "      <td>0</td>\n",
              "      <td>0</td>\n",
              "      <td>0</td>\n",
              "      <td>0</td>\n",
              "      <td>0</td>\n",
              "      <td>0</td>\n",
              "      <td>0</td>\n",
              "      <td>0</td>\n",
              "      <td>0</td>\n",
              "      <td>0</td>\n",
              "      <td>0</td>\n",
              "    </tr>\n",
              "    <tr>\n",
              "      <th>Meal</th>\n",
              "      <td>BB</td>\n",
              "      <td>BB</td>\n",
              "      <td>BB</td>\n",
              "      <td>BB</td>\n",
              "      <td>BB</td>\n",
              "      <td>BB</td>\n",
              "      <td>BB</td>\n",
              "      <td>FB</td>\n",
              "      <td>BB</td>\n",
              "      <td>HB</td>\n",
              "      <td>BB</td>\n",
              "      <td>HB</td>\n",
              "      <td>BB</td>\n",
              "      <td>HB</td>\n",
              "      <td>BB</td>\n",
              "    </tr>\n",
              "    <tr>\n",
              "      <th>Country</th>\n",
              "      <td>PRT</td>\n",
              "      <td>PRT</td>\n",
              "      <td>GBR</td>\n",
              "      <td>GBR</td>\n",
              "      <td>GBR</td>\n",
              "      <td>GBR</td>\n",
              "      <td>PRT</td>\n",
              "      <td>PRT</td>\n",
              "      <td>PRT</td>\n",
              "      <td>PRT</td>\n",
              "      <td>PRT</td>\n",
              "      <td>PRT</td>\n",
              "      <td>USA</td>\n",
              "      <td>ESP</td>\n",
              "      <td>PRT</td>\n",
              "    </tr>\n",
              "    <tr>\n",
              "      <th>MarketSegment</th>\n",
              "      <td>Direct</td>\n",
              "      <td>Direct</td>\n",
              "      <td>Direct</td>\n",
              "      <td>Corporate</td>\n",
              "      <td>Online TA</td>\n",
              "      <td>Online TA</td>\n",
              "      <td>Direct</td>\n",
              "      <td>Direct</td>\n",
              "      <td>Online TA</td>\n",
              "      <td>Offline TA/TO</td>\n",
              "      <td>Online TA</td>\n",
              "      <td>Online TA</td>\n",
              "      <td>Online TA</td>\n",
              "      <td>Online TA</td>\n",
              "      <td>Online TA</td>\n",
              "    </tr>\n",
              "    <tr>\n",
              "      <th>DistributionChannel</th>\n",
              "      <td>Direct</td>\n",
              "      <td>Direct</td>\n",
              "      <td>Direct</td>\n",
              "      <td>Corporate</td>\n",
              "      <td>TA/TO</td>\n",
              "      <td>TA/TO</td>\n",
              "      <td>Direct</td>\n",
              "      <td>Direct</td>\n",
              "      <td>TA/TO</td>\n",
              "      <td>TA/TO</td>\n",
              "      <td>TA/TO</td>\n",
              "      <td>TA/TO</td>\n",
              "      <td>TA/TO</td>\n",
              "      <td>TA/TO</td>\n",
              "      <td>TA/TO</td>\n",
              "    </tr>\n",
              "    <tr>\n",
              "      <th>IsRepeatedGuest</th>\n",
              "      <td>0</td>\n",
              "      <td>0</td>\n",
              "      <td>0</td>\n",
              "      <td>0</td>\n",
              "      <td>0</td>\n",
              "      <td>0</td>\n",
              "      <td>0</td>\n",
              "      <td>0</td>\n",
              "      <td>0</td>\n",
              "      <td>0</td>\n",
              "      <td>0</td>\n",
              "      <td>0</td>\n",
              "      <td>0</td>\n",
              "      <td>0</td>\n",
              "      <td>0</td>\n",
              "    </tr>\n",
              "    <tr>\n",
              "      <th>PreviousCancellations</th>\n",
              "      <td>0</td>\n",
              "      <td>0</td>\n",
              "      <td>0</td>\n",
              "      <td>0</td>\n",
              "      <td>0</td>\n",
              "      <td>0</td>\n",
              "      <td>0</td>\n",
              "      <td>0</td>\n",
              "      <td>0</td>\n",
              "      <td>0</td>\n",
              "      <td>0</td>\n",
              "      <td>0</td>\n",
              "      <td>0</td>\n",
              "      <td>0</td>\n",
              "      <td>0</td>\n",
              "    </tr>\n",
              "    <tr>\n",
              "      <th>PreviousBookingsNotCanceled</th>\n",
              "      <td>0</td>\n",
              "      <td>0</td>\n",
              "      <td>0</td>\n",
              "      <td>0</td>\n",
              "      <td>0</td>\n",
              "      <td>0</td>\n",
              "      <td>0</td>\n",
              "      <td>0</td>\n",
              "      <td>0</td>\n",
              "      <td>0</td>\n",
              "      <td>0</td>\n",
              "      <td>0</td>\n",
              "      <td>0</td>\n",
              "      <td>0</td>\n",
              "      <td>0</td>\n",
              "    </tr>\n",
              "    <tr>\n",
              "      <th>ReservedRoomType</th>\n",
              "      <td>C</td>\n",
              "      <td>C</td>\n",
              "      <td>A</td>\n",
              "      <td>A</td>\n",
              "      <td>A</td>\n",
              "      <td>A</td>\n",
              "      <td>C</td>\n",
              "      <td>C</td>\n",
              "      <td>A</td>\n",
              "      <td>D</td>\n",
              "      <td>E</td>\n",
              "      <td>D</td>\n",
              "      <td>D</td>\n",
              "      <td>G</td>\n",
              "      <td>E</td>\n",
              "    </tr>\n",
              "    <tr>\n",
              "      <th>AssignedRoomType</th>\n",
              "      <td>C</td>\n",
              "      <td>C</td>\n",
              "      <td>C</td>\n",
              "      <td>A</td>\n",
              "      <td>A</td>\n",
              "      <td>A</td>\n",
              "      <td>C</td>\n",
              "      <td>C</td>\n",
              "      <td>A</td>\n",
              "      <td>D</td>\n",
              "      <td>E</td>\n",
              "      <td>D</td>\n",
              "      <td>E</td>\n",
              "      <td>G</td>\n",
              "      <td>E</td>\n",
              "    </tr>\n",
              "    <tr>\n",
              "      <th>BookingChanges</th>\n",
              "      <td>3</td>\n",
              "      <td>4</td>\n",
              "      <td>0</td>\n",
              "      <td>0</td>\n",
              "      <td>0</td>\n",
              "      <td>0</td>\n",
              "      <td>0</td>\n",
              "      <td>0</td>\n",
              "      <td>0</td>\n",
              "      <td>0</td>\n",
              "      <td>0</td>\n",
              "      <td>0</td>\n",
              "      <td>0</td>\n",
              "      <td>1</td>\n",
              "      <td>0</td>\n",
              "    </tr>\n",
              "    <tr>\n",
              "      <th>DepositType</th>\n",
              "      <td>No Deposit</td>\n",
              "      <td>No Deposit</td>\n",
              "      <td>No Deposit</td>\n",
              "      <td>No Deposit</td>\n",
              "      <td>No Deposit</td>\n",
              "      <td>No Deposit</td>\n",
              "      <td>No Deposit</td>\n",
              "      <td>No Deposit</td>\n",
              "      <td>No Deposit</td>\n",
              "      <td>No Deposit</td>\n",
              "      <td>No Deposit</td>\n",
              "      <td>No Deposit</td>\n",
              "      <td>No Deposit</td>\n",
              "      <td>No Deposit</td>\n",
              "      <td>No Deposit</td>\n",
              "    </tr>\n",
              "    <tr>\n",
              "      <th>Agent</th>\n",
              "      <td>NULL</td>\n",
              "      <td>NULL</td>\n",
              "      <td>NULL</td>\n",
              "      <td>304</td>\n",
              "      <td>240</td>\n",
              "      <td>240</td>\n",
              "      <td>NULL</td>\n",
              "      <td>303</td>\n",
              "      <td>240</td>\n",
              "      <td>15</td>\n",
              "      <td>240</td>\n",
              "      <td>240</td>\n",
              "      <td>240</td>\n",
              "      <td>241</td>\n",
              "      <td>241</td>\n",
              "    </tr>\n",
              "    <tr>\n",
              "      <th>Company</th>\n",
              "      <td>NULL</td>\n",
              "      <td>NULL</td>\n",
              "      <td>NULL</td>\n",
              "      <td>NULL</td>\n",
              "      <td>NULL</td>\n",
              "      <td>NULL</td>\n",
              "      <td>NULL</td>\n",
              "      <td>NULL</td>\n",
              "      <td>NULL</td>\n",
              "      <td>NULL</td>\n",
              "      <td>NULL</td>\n",
              "      <td>NULL</td>\n",
              "      <td>NULL</td>\n",
              "      <td>NULL</td>\n",
              "      <td>NULL</td>\n",
              "    </tr>\n",
              "    <tr>\n",
              "      <th>DaysInWaitingList</th>\n",
              "      <td>0</td>\n",
              "      <td>0</td>\n",
              "      <td>0</td>\n",
              "      <td>0</td>\n",
              "      <td>0</td>\n",
              "      <td>0</td>\n",
              "      <td>0</td>\n",
              "      <td>0</td>\n",
              "      <td>0</td>\n",
              "      <td>0</td>\n",
              "      <td>0</td>\n",
              "      <td>0</td>\n",
              "      <td>0</td>\n",
              "      <td>0</td>\n",
              "      <td>0</td>\n",
              "    </tr>\n",
              "    <tr>\n",
              "      <th>CustomerType</th>\n",
              "      <td>Transient</td>\n",
              "      <td>Transient</td>\n",
              "      <td>Transient</td>\n",
              "      <td>Transient</td>\n",
              "      <td>Transient</td>\n",
              "      <td>Transient</td>\n",
              "      <td>Transient</td>\n",
              "      <td>Transient</td>\n",
              "      <td>Transient</td>\n",
              "      <td>Transient</td>\n",
              "      <td>Transient</td>\n",
              "      <td>Transient</td>\n",
              "      <td>Transient</td>\n",
              "      <td>Transient</td>\n",
              "      <td>Transient</td>\n",
              "    </tr>\n",
              "    <tr>\n",
              "      <th>ADR</th>\n",
              "      <td>0.0</td>\n",
              "      <td>0.0</td>\n",
              "      <td>75.0</td>\n",
              "      <td>75.0</td>\n",
              "      <td>98.0</td>\n",
              "      <td>98.0</td>\n",
              "      <td>107.0</td>\n",
              "      <td>103.0</td>\n",
              "      <td>82.0</td>\n",
              "      <td>105.5</td>\n",
              "      <td>123.0</td>\n",
              "      <td>145.0</td>\n",
              "      <td>97.0</td>\n",
              "      <td>154.77</td>\n",
              "      <td>94.71</td>\n",
              "    </tr>\n",
              "    <tr>\n",
              "      <th>RequiredCarParkingSpaces</th>\n",
              "      <td>0</td>\n",
              "      <td>0</td>\n",
              "      <td>0</td>\n",
              "      <td>0</td>\n",
              "      <td>0</td>\n",
              "      <td>0</td>\n",
              "      <td>0</td>\n",
              "      <td>0</td>\n",
              "      <td>0</td>\n",
              "      <td>0</td>\n",
              "      <td>0</td>\n",
              "      <td>0</td>\n",
              "      <td>0</td>\n",
              "      <td>0</td>\n",
              "      <td>0</td>\n",
              "    </tr>\n",
              "    <tr>\n",
              "      <th>TotalOfSpecialRequests</th>\n",
              "      <td>0</td>\n",
              "      <td>0</td>\n",
              "      <td>0</td>\n",
              "      <td>0</td>\n",
              "      <td>1</td>\n",
              "      <td>1</td>\n",
              "      <td>0</td>\n",
              "      <td>1</td>\n",
              "      <td>1</td>\n",
              "      <td>0</td>\n",
              "      <td>0</td>\n",
              "      <td>0</td>\n",
              "      <td>3</td>\n",
              "      <td>1</td>\n",
              "      <td>0</td>\n",
              "    </tr>\n",
              "    <tr>\n",
              "      <th>ReservationStatus</th>\n",
              "      <td>Check-Out</td>\n",
              "      <td>Check-Out</td>\n",
              "      <td>Check-Out</td>\n",
              "      <td>Check-Out</td>\n",
              "      <td>Check-Out</td>\n",
              "      <td>Check-Out</td>\n",
              "      <td>Check-Out</td>\n",
              "      <td>Check-Out</td>\n",
              "      <td>Canceled</td>\n",
              "      <td>Canceled</td>\n",
              "      <td>Canceled</td>\n",
              "      <td>Check-Out</td>\n",
              "      <td>Check-Out</td>\n",
              "      <td>Check-Out</td>\n",
              "      <td>Check-Out</td>\n",
              "    </tr>\n",
              "    <tr>\n",
              "      <th>ReservationStatusDate</th>\n",
              "      <td>7/1/2015</td>\n",
              "      <td>7/1/2015</td>\n",
              "      <td>7/2/2015</td>\n",
              "      <td>7/2/2015</td>\n",
              "      <td>7/3/2015</td>\n",
              "      <td>7/3/2015</td>\n",
              "      <td>7/3/2015</td>\n",
              "      <td>7/3/2015</td>\n",
              "      <td>5/6/2015</td>\n",
              "      <td>4/22/2015</td>\n",
              "      <td>6/23/2015</td>\n",
              "      <td>7/5/2015</td>\n",
              "      <td>7/5/2015</td>\n",
              "      <td>7/5/2015</td>\n",
              "      <td>7/5/2015</td>\n",
              "    </tr>\n",
              "  </tbody>\n",
              "</table>\n",
              "</div>\n",
              "    <div class=\"colab-df-buttons\">\n",
              "\n",
              "  <div class=\"colab-df-container\">\n",
              "    <button class=\"colab-df-convert\" onclick=\"convertToInteractive('df-60b3d72a-0bd1-448d-a335-91c2cbca2391')\"\n",
              "            title=\"Convert this dataframe to an interactive table.\"\n",
              "            style=\"display:none;\">\n",
              "\n",
              "  <svg xmlns=\"http://www.w3.org/2000/svg\" height=\"24px\" viewBox=\"0 -960 960 960\">\n",
              "    <path d=\"M120-120v-720h720v720H120Zm60-500h600v-160H180v160Zm220 220h160v-160H400v160Zm0 220h160v-160H400v160ZM180-400h160v-160H180v160Zm440 0h160v-160H620v160ZM180-180h160v-160H180v160Zm440 0h160v-160H620v160Z\"/>\n",
              "  </svg>\n",
              "    </button>\n",
              "\n",
              "  <style>\n",
              "    .colab-df-container {\n",
              "      display:flex;\n",
              "      gap: 12px;\n",
              "    }\n",
              "\n",
              "    .colab-df-convert {\n",
              "      background-color: #E8F0FE;\n",
              "      border: none;\n",
              "      border-radius: 50%;\n",
              "      cursor: pointer;\n",
              "      display: none;\n",
              "      fill: #1967D2;\n",
              "      height: 32px;\n",
              "      padding: 0 0 0 0;\n",
              "      width: 32px;\n",
              "    }\n",
              "\n",
              "    .colab-df-convert:hover {\n",
              "      background-color: #E2EBFA;\n",
              "      box-shadow: 0px 1px 2px rgba(60, 64, 67, 0.3), 0px 1px 3px 1px rgba(60, 64, 67, 0.15);\n",
              "      fill: #174EA6;\n",
              "    }\n",
              "\n",
              "    .colab-df-buttons div {\n",
              "      margin-bottom: 4px;\n",
              "    }\n",
              "\n",
              "    [theme=dark] .colab-df-convert {\n",
              "      background-color: #3B4455;\n",
              "      fill: #D2E3FC;\n",
              "    }\n",
              "\n",
              "    [theme=dark] .colab-df-convert:hover {\n",
              "      background-color: #434B5C;\n",
              "      box-shadow: 0px 1px 3px 1px rgba(0, 0, 0, 0.15);\n",
              "      filter: drop-shadow(0px 1px 2px rgba(0, 0, 0, 0.3));\n",
              "      fill: #FFFFFF;\n",
              "    }\n",
              "  </style>\n",
              "\n",
              "    <script>\n",
              "      const buttonEl =\n",
              "        document.querySelector('#df-60b3d72a-0bd1-448d-a335-91c2cbca2391 button.colab-df-convert');\n",
              "      buttonEl.style.display =\n",
              "        google.colab.kernel.accessAllowed ? 'block' : 'none';\n",
              "\n",
              "      async function convertToInteractive(key) {\n",
              "        const element = document.querySelector('#df-60b3d72a-0bd1-448d-a335-91c2cbca2391');\n",
              "        const dataTable =\n",
              "          await google.colab.kernel.invokeFunction('convertToInteractive',\n",
              "                                                    [key], {});\n",
              "        if (!dataTable) return;\n",
              "\n",
              "        const docLinkHtml = 'Like what you see? Visit the ' +\n",
              "          '<a target=\"_blank\" href=https://colab.research.google.com/notebooks/data_table.ipynb>data table notebook</a>'\n",
              "          + ' to learn more about interactive tables.';\n",
              "        element.innerHTML = '';\n",
              "        dataTable['output_type'] = 'display_data';\n",
              "        await google.colab.output.renderOutput(dataTable, element);\n",
              "        const docLink = document.createElement('div');\n",
              "        docLink.innerHTML = docLinkHtml;\n",
              "        element.appendChild(docLink);\n",
              "      }\n",
              "    </script>\n",
              "  </div>\n",
              "\n",
              "\n",
              "<div id=\"df-1db88936-75e2-4e38-9f2f-d3242839e2e6\">\n",
              "  <button class=\"colab-df-quickchart\" onclick=\"quickchart('df-1db88936-75e2-4e38-9f2f-d3242839e2e6')\"\n",
              "            title=\"Suggest charts\"\n",
              "            style=\"display:none;\">\n",
              "\n",
              "<svg xmlns=\"http://www.w3.org/2000/svg\" height=\"24px\"viewBox=\"0 0 24 24\"\n",
              "     width=\"24px\">\n",
              "    <g>\n",
              "        <path d=\"M19 3H5c-1.1 0-2 .9-2 2v14c0 1.1.9 2 2 2h14c1.1 0 2-.9 2-2V5c0-1.1-.9-2-2-2zM9 17H7v-7h2v7zm4 0h-2V7h2v10zm4 0h-2v-4h2v4z\"/>\n",
              "    </g>\n",
              "</svg>\n",
              "  </button>\n",
              "\n",
              "<style>\n",
              "  .colab-df-quickchart {\n",
              "      --bg-color: #E8F0FE;\n",
              "      --fill-color: #1967D2;\n",
              "      --hover-bg-color: #E2EBFA;\n",
              "      --hover-fill-color: #174EA6;\n",
              "      --disabled-fill-color: #AAA;\n",
              "      --disabled-bg-color: #DDD;\n",
              "  }\n",
              "\n",
              "  [theme=dark] .colab-df-quickchart {\n",
              "      --bg-color: #3B4455;\n",
              "      --fill-color: #D2E3FC;\n",
              "      --hover-bg-color: #434B5C;\n",
              "      --hover-fill-color: #FFFFFF;\n",
              "      --disabled-bg-color: #3B4455;\n",
              "      --disabled-fill-color: #666;\n",
              "  }\n",
              "\n",
              "  .colab-df-quickchart {\n",
              "    background-color: var(--bg-color);\n",
              "    border: none;\n",
              "    border-radius: 50%;\n",
              "    cursor: pointer;\n",
              "    display: none;\n",
              "    fill: var(--fill-color);\n",
              "    height: 32px;\n",
              "    padding: 0;\n",
              "    width: 32px;\n",
              "  }\n",
              "\n",
              "  .colab-df-quickchart:hover {\n",
              "    background-color: var(--hover-bg-color);\n",
              "    box-shadow: 0 1px 2px rgba(60, 64, 67, 0.3), 0 1px 3px 1px rgba(60, 64, 67, 0.15);\n",
              "    fill: var(--button-hover-fill-color);\n",
              "  }\n",
              "\n",
              "  .colab-df-quickchart-complete:disabled,\n",
              "  .colab-df-quickchart-complete:disabled:hover {\n",
              "    background-color: var(--disabled-bg-color);\n",
              "    fill: var(--disabled-fill-color);\n",
              "    box-shadow: none;\n",
              "  }\n",
              "\n",
              "  .colab-df-spinner {\n",
              "    border: 2px solid var(--fill-color);\n",
              "    border-color: transparent;\n",
              "    border-bottom-color: var(--fill-color);\n",
              "    animation:\n",
              "      spin 1s steps(1) infinite;\n",
              "  }\n",
              "\n",
              "  @keyframes spin {\n",
              "    0% {\n",
              "      border-color: transparent;\n",
              "      border-bottom-color: var(--fill-color);\n",
              "      border-left-color: var(--fill-color);\n",
              "    }\n",
              "    20% {\n",
              "      border-color: transparent;\n",
              "      border-left-color: var(--fill-color);\n",
              "      border-top-color: var(--fill-color);\n",
              "    }\n",
              "    30% {\n",
              "      border-color: transparent;\n",
              "      border-left-color: var(--fill-color);\n",
              "      border-top-color: var(--fill-color);\n",
              "      border-right-color: var(--fill-color);\n",
              "    }\n",
              "    40% {\n",
              "      border-color: transparent;\n",
              "      border-right-color: var(--fill-color);\n",
              "      border-top-color: var(--fill-color);\n",
              "    }\n",
              "    60% {\n",
              "      border-color: transparent;\n",
              "      border-right-color: var(--fill-color);\n",
              "    }\n",
              "    80% {\n",
              "      border-color: transparent;\n",
              "      border-right-color: var(--fill-color);\n",
              "      border-bottom-color: var(--fill-color);\n",
              "    }\n",
              "    90% {\n",
              "      border-color: transparent;\n",
              "      border-bottom-color: var(--fill-color);\n",
              "    }\n",
              "  }\n",
              "</style>\n",
              "\n",
              "  <script>\n",
              "    async function quickchart(key) {\n",
              "      const quickchartButtonEl =\n",
              "        document.querySelector('#' + key + ' button');\n",
              "      quickchartButtonEl.disabled = true;  // To prevent multiple clicks.\n",
              "      quickchartButtonEl.classList.add('colab-df-spinner');\n",
              "      try {\n",
              "        const charts = await google.colab.kernel.invokeFunction(\n",
              "            'suggestCharts', [key], {});\n",
              "      } catch (error) {\n",
              "        console.error('Error during call to suggestCharts:', error);\n",
              "      }\n",
              "      quickchartButtonEl.classList.remove('colab-df-spinner');\n",
              "      quickchartButtonEl.classList.add('colab-df-quickchart-complete');\n",
              "    }\n",
              "    (() => {\n",
              "      let quickchartButtonEl =\n",
              "        document.querySelector('#df-1db88936-75e2-4e38-9f2f-d3242839e2e6 button');\n",
              "      quickchartButtonEl.style.display =\n",
              "        google.colab.kernel.accessAllowed ? 'block' : 'none';\n",
              "    })();\n",
              "  </script>\n",
              "</div>\n",
              "\n",
              "    </div>\n",
              "  </div>\n"
            ],
            "application/vnd.google.colaboratory.intrinsic+json": {
              "type": "dataframe",
              "variable_name": "df"
            }
          },
          "metadata": {},
          "execution_count": 2
        }
      ],
      "source": [
        "import pandas as pa\n",
        "\n",
        "df = pa.read_csv('https://raw.githubusercontent.com/nurfnick/Data_Viz/main/Data_Sets/H1.csv')\n",
        "\n",
        "df.head(15).T"
      ]
    },
    {
      "cell_type": "code",
      "source": [
        "df.dtypes"
      ],
      "metadata": {
        "colab": {
          "base_uri": "https://localhost:8080/"
        },
        "id": "rPU7QYrFRUgi",
        "outputId": "b3cacd05-effa-47ea-f85a-25b4198a8a78"
      },
      "execution_count": 3,
      "outputs": [
        {
          "output_type": "execute_result",
          "data": {
            "text/plain": [
              "IsCanceled                       int64\n",
              "LeadTime                         int64\n",
              "ArrivalDateYear                  int64\n",
              "ArrivalDateMonth                object\n",
              "ArrivalDateWeekNumber            int64\n",
              "ArrivalDateDayOfMonth            int64\n",
              "StaysInWeekendNights             int64\n",
              "StaysInWeekNights                int64\n",
              "Adults                           int64\n",
              "Children                         int64\n",
              "Babies                           int64\n",
              "Meal                            object\n",
              "Country                         object\n",
              "MarketSegment                   object\n",
              "DistributionChannel             object\n",
              "IsRepeatedGuest                  int64\n",
              "PreviousCancellations            int64\n",
              "PreviousBookingsNotCanceled      int64\n",
              "ReservedRoomType                object\n",
              "AssignedRoomType                object\n",
              "BookingChanges                   int64\n",
              "DepositType                     object\n",
              "Agent                           object\n",
              "Company                         object\n",
              "DaysInWaitingList                int64\n",
              "CustomerType                    object\n",
              "ADR                            float64\n",
              "RequiredCarParkingSpaces         int64\n",
              "TotalOfSpecialRequests           int64\n",
              "ReservationStatus               object\n",
              "ReservationStatusDate           object\n",
              "dtype: object"
            ]
          },
          "metadata": {},
          "execution_count": 3
        }
      ]
    },
    {
      "cell_type": "markdown",
      "source": [
        "We can see nothing has been interpreted as a date yet!  Let's grab the low hanging fruit and convert the *ReservationStatusDate* into datetime.  I'll have to give it the correct format of the date.  In this case it is in the Month/Day/Year.  "
      ],
      "metadata": {
        "id": "_ys8PNd1RyA-"
      }
    },
    {
      "cell_type": "code",
      "source": [
        "pa.to_datetime(df.ReservationStatusDate, format='%m/%d/%Y')"
      ],
      "metadata": {
        "colab": {
          "base_uri": "https://localhost:8080/"
        },
        "id": "Y6qgtjMZRvNC",
        "outputId": "145f2734-3b41-44d5-b812-d48729a470ff"
      },
      "execution_count": 4,
      "outputs": [
        {
          "output_type": "execute_result",
          "data": {
            "text/plain": [
              "0       2015-07-01\n",
              "1       2015-07-01\n",
              "2       2015-07-02\n",
              "3       2015-07-02\n",
              "4       2015-07-03\n",
              "           ...    \n",
              "40055   2017-09-10\n",
              "40056   2017-09-10\n",
              "40057   2017-09-12\n",
              "40058   2017-09-14\n",
              "40059   2017-09-14\n",
              "Name: ReservationStatusDate, Length: 40060, dtype: datetime64[ns]"
            ]
          },
          "metadata": {},
          "execution_count": 4
        }
      ]
    },
    {
      "cell_type": "markdown",
      "source": [
        "I'll add that to the dataframe converting it's current column."
      ],
      "metadata": {
        "id": "lsAP9K02U2eT"
      }
    },
    {
      "cell_type": "code",
      "source": [
        "df.ReservationStatusDate = pa.to_datetime(df.ReservationStatusDate, format='%m/%d/%Y')"
      ],
      "metadata": {
        "id": "8StfJObFU9fj"
      },
      "execution_count": 5,
      "outputs": []
    },
    {
      "cell_type": "markdown",
      "source": [
        "If I'd like to do is get the Arrival Date into a date format.  To do that I'll first convert the month into a numeric using a dictionary."
      ],
      "metadata": {
        "id": "z3wtZ2z7RYRp"
      }
    },
    {
      "cell_type": "code",
      "source": [
        "df.ArrivalDateMonth.unique()"
      ],
      "metadata": {
        "colab": {
          "base_uri": "https://localhost:8080/"
        },
        "id": "YLiRGoPbT2CE",
        "outputId": "67b5f784-0a9a-412e-e46b-fed6369864ee"
      },
      "execution_count": 6,
      "outputs": [
        {
          "output_type": "execute_result",
          "data": {
            "text/plain": [
              "array(['July', 'August', 'September', 'October', 'November', 'December',\n",
              "       'January', 'February', 'March', 'April', 'May', 'June'],\n",
              "      dtype=object)"
            ]
          },
          "metadata": {},
          "execution_count": 6
        }
      ]
    },
    {
      "cell_type": "code",
      "source": [
        "monthConvert = {\n",
        "    'January':1,\n",
        "    'February':2,\n",
        "    'March':3,\n",
        "    'April':4,\n",
        "    'May':5,\n",
        "    'June':6,\n",
        "    'July':7,\n",
        "    'August':8,\n",
        "    'September':9,\n",
        "    'October':10,\n",
        "    'November':11,\n",
        "    'December':12\n",
        "}"
      ],
      "metadata": {
        "id": "SME0iJRCTrfa"
      },
      "execution_count": 7,
      "outputs": []
    },
    {
      "cell_type": "code",
      "source": [
        "df.ArrivalDateMonth.apply(lambda s: monthConvert[s])"
      ],
      "metadata": {
        "colab": {
          "base_uri": "https://localhost:8080/"
        },
        "id": "781IFCioUUxq",
        "outputId": "63e0a46c-2a8f-4972-c669-a37f2e512973"
      },
      "execution_count": 8,
      "outputs": [
        {
          "output_type": "execute_result",
          "data": {
            "text/plain": [
              "0        7\n",
              "1        7\n",
              "2        7\n",
              "3        7\n",
              "4        7\n",
              "        ..\n",
              "40055    8\n",
              "40056    8\n",
              "40057    8\n",
              "40058    8\n",
              "40059    8\n",
              "Name: ArrivalDateMonth, Length: 40060, dtype: int64"
            ]
          },
          "metadata": {},
          "execution_count": 8
        }
      ]
    },
    {
      "cell_type": "code",
      "source": [
        "df['ArrivalDate'] = pa.to_datetime(dict(year = df.ArrivalDateYear, month = df.ArrivalDateMonth.apply(lambda s: monthConvert[s]), day = df.ArrivalDateDayOfMonth))\n",
        "\n",
        "df.dtypes"
      ],
      "metadata": {
        "colab": {
          "base_uri": "https://localhost:8080/"
        },
        "id": "Z8l2W19MSMia",
        "outputId": "f57a9a81-36fd-4efe-d10d-11f33cf13fac"
      },
      "execution_count": 9,
      "outputs": [
        {
          "output_type": "execute_result",
          "data": {
            "text/plain": [
              "IsCanceled                              int64\n",
              "LeadTime                                int64\n",
              "ArrivalDateYear                         int64\n",
              "ArrivalDateMonth                       object\n",
              "ArrivalDateWeekNumber                   int64\n",
              "ArrivalDateDayOfMonth                   int64\n",
              "StaysInWeekendNights                    int64\n",
              "StaysInWeekNights                       int64\n",
              "Adults                                  int64\n",
              "Children                                int64\n",
              "Babies                                  int64\n",
              "Meal                                   object\n",
              "Country                                object\n",
              "MarketSegment                          object\n",
              "DistributionChannel                    object\n",
              "IsRepeatedGuest                         int64\n",
              "PreviousCancellations                   int64\n",
              "PreviousBookingsNotCanceled             int64\n",
              "ReservedRoomType                       object\n",
              "AssignedRoomType                       object\n",
              "BookingChanges                          int64\n",
              "DepositType                            object\n",
              "Agent                                  object\n",
              "Company                                object\n",
              "DaysInWaitingList                       int64\n",
              "CustomerType                           object\n",
              "ADR                                   float64\n",
              "RequiredCarParkingSpaces                int64\n",
              "TotalOfSpecialRequests                  int64\n",
              "ReservationStatus                      object\n",
              "ReservationStatusDate          datetime64[ns]\n",
              "ArrivalDate                    datetime64[ns]\n",
              "dtype: object"
            ]
          },
          "metadata": {},
          "execution_count": 9
        }
      ]
    },
    {
      "cell_type": "markdown",
      "source": [
        "## Date Differences"
      ],
      "metadata": {
        "id": "3pzV2R7Cae8l"
      }
    },
    {
      "cell_type": "markdown",
      "source": [
        "I am curious if these two dates have any differences..."
      ],
      "metadata": {
        "id": "ZUeUIg_pVFmS"
      }
    },
    {
      "cell_type": "code",
      "source": [
        "differenceInDates =  df.ArrivalDate -df.ReservationStatusDate\n",
        "\n",
        "differenceInDates.describe()"
      ],
      "metadata": {
        "colab": {
          "base_uri": "https://localhost:8080/"
        },
        "id": "UdSOOo1nTCxI",
        "outputId": "e9830386-2939-452b-d915-7beb62d810a3"
      },
      "execution_count": 10,
      "outputs": [
        {
          "output_type": "execute_result",
          "data": {
            "text/plain": [
              "count                         40060\n",
              "mean     18 days 01:33:23.275087369\n",
              "std      54 days 20:29:21.893473870\n",
              "min              -69 days +00:00:00\n",
              "25%               -5 days +00:00:00\n",
              "50%               -2 days +00:00:00\n",
              "75%                 3 days 00:00:00\n",
              "max               411 days 00:00:00\n",
              "dtype: object"
            ]
          },
          "metadata": {},
          "execution_count": 10
        }
      ]
    },
    {
      "cell_type": "markdown",
      "source": [
        "We see that on average people make their reservation about 18 days ahead of time and some more than a year!  Not so sure what is going on with all the negative times...\n",
        "\n",
        "If graphed this in terms of days.  Of course there are other options found [here](https://docs.scipy.org/doc/numpy-1.13.0/reference/arrays.datetime.html#datetime-units)"
      ],
      "metadata": {
        "id": "lyuWm5AwV14P"
      }
    },
    {
      "cell_type": "code",
      "source": [
        "differenceInDates.astype('timedelta64[D]').plot(kind = 'hist')"
      ],
      "metadata": {
        "colab": {
          "base_uri": "https://localhost:8080/",
          "height": 448
        },
        "id": "n7Nsft43VU96",
        "outputId": "c7d9adc5-851f-4fc2-ab3f-2a5717a3d12e"
      },
      "execution_count": 11,
      "outputs": [
        {
          "output_type": "execute_result",
          "data": {
            "text/plain": [
              "<Axes: ylabel='Frequency'>"
            ]
          },
          "metadata": {},
          "execution_count": 11
        },
        {
          "output_type": "display_data",
          "data": {
            "text/plain": [
              "<Figure size 640x480 with 1 Axes>"
            ],
            "image/png": "[encoded data removed]"
          },
          "metadata": {}
        }
      ]
    },
    {
      "cell_type": "code",
      "source": [
        "differenceInDates.astype('timedelta64[D]').plot.box()"
      ],
      "metadata": {
        "colab": {
          "base_uri": "https://localhost:8080/",
          "height": 429
        },
        "id": "yd490bEwWKho",
        "outputId": "3fecaa5f-0deb-4585-e08c-d62dc19f8dbc"
      },
      "execution_count": 12,
      "outputs": [
        {
          "output_type": "execute_result",
          "data": {
            "text/plain": [
              "<Axes: >"
            ]
          },
          "metadata": {},
          "execution_count": 12
        },
        {
          "output_type": "display_data",
          "data": {
            "text/plain": [
              "<Figure size 640x480 with 1 Axes>"
            ],
            "image/png": "[encoded data removed]"
          },
          "metadata": {}
        }
      ]
    },
    {
      "cell_type": "markdown",
      "source": [
        "## Extracting Peices"
      ],
      "metadata": {
        "id": "H70UmwDxaa-H"
      }
    },
    {
      "cell_type": "markdown",
      "source": [
        "What if we wanted to get the day from the datetime?  To get it you'll need to convert it to `datetime` it is shortened to `dt` here."
      ],
      "metadata": {
        "id": "xs3kwX0lai0k"
      }
    },
    {
      "cell_type": "code",
      "source": [
        "df.ArrivalDate.dt.day"
      ],
      "metadata": {
        "colab": {
          "base_uri": "https://localhost:8080/"
        },
        "id": "jFOjFxblW4ZP",
        "outputId": "f46d63ce-d803-454c-8596-cdcfaa69b521"
      },
      "execution_count": 13,
      "outputs": [
        {
          "output_type": "execute_result",
          "data": {
            "text/plain": [
              "0         1\n",
              "1         1\n",
              "2         1\n",
              "3         1\n",
              "4         1\n",
              "         ..\n",
              "40055    31\n",
              "40056    30\n",
              "40057    29\n",
              "40058    31\n",
              "40059    31\n",
              "Name: ArrivalDate, Length: 40060, dtype: int64"
            ]
          },
          "metadata": {},
          "execution_count": 13
        }
      ]
    },
    {
      "cell_type": "code",
      "source": [
        "df.ArrivalDate.dt.week"
      ],
      "metadata": {
        "colab": {
          "base_uri": "https://localhost:8080/"
        },
        "id": "fNtQ2EwVap_u",
        "outputId": "56ed28b5-8670-427a-d64e-23df275afa0f"
      },
      "execution_count": 14,
      "outputs": [
        {
          "output_type": "stream",
          "name": "stderr",
          "text": [
            "<ipython-input-14-0ac4b2e91e91>:1: FutureWarning: Series.dt.weekofyear and Series.dt.week have been deprecated. Please use Series.dt.isocalendar().week instead.\n",
            "  df.ArrivalDate.dt.week\n"
          ]
        },
        {
          "output_type": "execute_result",
          "data": {
            "text/plain": [
              "0        27\n",
              "1        27\n",
              "2        27\n",
              "3        27\n",
              "4        27\n",
              "         ..\n",
              "40055    35\n",
              "40056    35\n",
              "40057    35\n",
              "40058    35\n",
              "40059    35\n",
              "Name: ArrivalDate, Length: 40060, dtype: int64"
            ]
          },
          "metadata": {},
          "execution_count": 14
        }
      ]
    },
    {
      "cell_type": "code",
      "source": [
        "df.ArrivalDate.dt.year"
      ],
      "metadata": {
        "colab": {
          "base_uri": "https://localhost:8080/"
        },
        "id": "kVJESIpVbbJl",
        "outputId": "ac3257f5-702c-41ff-ca18-e6924dd0e01e"
      },
      "execution_count": 15,
      "outputs": [
        {
          "output_type": "execute_result",
          "data": {
            "text/plain": [
              "0        2015\n",
              "1        2015\n",
              "2        2015\n",
              "3        2015\n",
              "4        2015\n",
              "         ... \n",
              "40055    2017\n",
              "40056    2017\n",
              "40057    2017\n",
              "40058    2017\n",
              "40059    2017\n",
              "Name: ArrivalDate, Length: 40060, dtype: int64"
            ]
          },
          "metadata": {},
          "execution_count": 15
        }
      ]
    },
    {
      "cell_type": "code",
      "source": [
        "df.ArrivalDate.dt.month"
      ],
      "metadata": {
        "colab": {
          "base_uri": "https://localhost:8080/"
        },
        "id": "cI0ptMC8jzej",
        "outputId": "33d78347-273a-45ac-8003-ca8a4f765f28"
      },
      "execution_count": 16,
      "outputs": [
        {
          "output_type": "execute_result",
          "data": {
            "text/plain": [
              "0        7\n",
              "1        7\n",
              "2        7\n",
              "3        7\n",
              "4        7\n",
              "        ..\n",
              "40055    8\n",
              "40056    8\n",
              "40057    8\n",
              "40058    8\n",
              "40059    8\n",
              "Name: ArrivalDate, Length: 40060, dtype: int64"
            ]
          },
          "metadata": {},
          "execution_count": 16
        }
      ]
    },
    {
      "cell_type": "markdown",
      "source": [
        "We could also ask what day of the week it was."
      ],
      "metadata": {
        "id": "fLb-J0wNj3f7"
      }
    },
    {
      "cell_type": "code",
      "source": [
        "df.ArrivalDate.dt.dayofweek"
      ],
      "metadata": {
        "colab": {
          "base_uri": "https://localhost:8080/"
        },
        "id": "iI1IMyKcj1RS",
        "outputId": "feeede8a-22e1-4ac0-d995-f5821960d315"
      },
      "execution_count": 17,
      "outputs": [
        {
          "output_type": "execute_result",
          "data": {
            "text/plain": [
              "0        2\n",
              "1        2\n",
              "2        2\n",
              "3        2\n",
              "4        2\n",
              "        ..\n",
              "40055    3\n",
              "40056    2\n",
              "40057    1\n",
              "40058    3\n",
              "40059    3\n",
              "Name: ArrivalDate, Length: 40060, dtype: int64"
            ]
          },
          "metadata": {},
          "execution_count": 17
        }
      ]
    },
    {
      "cell_type": "code",
      "source": [
        "df.ArrivalDate.dt.day_name()"
      ],
      "metadata": {
        "colab": {
          "base_uri": "https://localhost:8080/"
        },
        "id": "s7k4a-PLj9AD",
        "outputId": "e4d55a36-0720-4275-e708-9bff6f7cf12b"
      },
      "execution_count": 18,
      "outputs": [
        {
          "output_type": "execute_result",
          "data": {
            "text/plain": [
              "0        Wednesday\n",
              "1        Wednesday\n",
              "2        Wednesday\n",
              "3        Wednesday\n",
              "4        Wednesday\n",
              "           ...    \n",
              "40055     Thursday\n",
              "40056    Wednesday\n",
              "40057      Tuesday\n",
              "40058     Thursday\n",
              "40059     Thursday\n",
              "Name: ArrivalDate, Length: 40060, dtype: object"
            ]
          },
          "metadata": {},
          "execution_count": 18
        }
      ]
    },
    {
      "cell_type": "code",
      "source": [
        "df.ArrivalDate.dt.weekday"
      ],
      "metadata": {
        "colab": {
          "base_uri": "https://localhost:8080/"
        },
        "id": "EreeSOIUkvSq",
        "outputId": "fa4b1bbe-74ee-48ac-c2a0-54df48f43038"
      },
      "execution_count": 19,
      "outputs": [
        {
          "output_type": "execute_result",
          "data": {
            "text/plain": [
              "0        2\n",
              "1        2\n",
              "2        2\n",
              "3        2\n",
              "4        2\n",
              "        ..\n",
              "40055    3\n",
              "40056    2\n",
              "40057    1\n",
              "40058    3\n",
              "40059    3\n",
              "Name: ArrivalDate, Length: 40060, dtype: int64"
            ]
          },
          "metadata": {},
          "execution_count": 19
        }
      ]
    },
    {
      "cell_type": "markdown",
      "source": [
        "The weekend is 5 and 6 for Saturday and Sunday so we can ask how many were then by the following"
      ],
      "metadata": {
        "id": "OQQFBQdmlNsQ"
      }
    },
    {
      "cell_type": "code",
      "source": [
        "df.ArrivalDate.dt.weekday[df.ArrivalDate.dt.weekday>4].count()"
      ],
      "metadata": {
        "colab": {
          "base_uri": "https://localhost:8080/"
        },
        "id": "ZffdIcdHk8dc",
        "outputId": "86f84622-a734-485d-c068-e8432bfc03c2"
      },
      "execution_count": 20,
      "outputs": [
        {
          "output_type": "execute_result",
          "data": {
            "text/plain": [
              "12009"
            ]
          },
          "metadata": {},
          "execution_count": 20
        }
      ]
    },
    {
      "cell_type": "markdown",
      "source": [
        "We might wonder if that is an appropriate amount, it aappears to be about"
      ],
      "metadata": {
        "id": "0Zk31XqFlvWW"
      }
    },
    {
      "cell_type": "code",
      "source": [
        "12009/40060"
      ],
      "metadata": {
        "colab": {
          "base_uri": "https://localhost:8080/"
        },
        "id": "4F1Ov_Ysl174",
        "outputId": "4f5771ab-378d-4d0f-9018-33f37ac6c3b1"
      },
      "execution_count": 21,
      "outputs": [
        {
          "output_type": "execute_result",
          "data": {
            "text/plain": [
              "0.29977533699450826"
            ]
          },
          "metadata": {},
          "execution_count": 21
        }
      ]
    },
    {
      "cell_type": "code",
      "source": [
        "2/7"
      ],
      "metadata": {
        "colab": {
          "base_uri": "https://localhost:8080/"
        },
        "id": "jNM1zbHWl5oQ",
        "outputId": "7ecee861-325d-4c89-b5a8-fb3ec2a5f70b"
      },
      "execution_count": 22,
      "outputs": [
        {
          "output_type": "execute_result",
          "data": {
            "text/plain": [
              "0.2857142857142857"
            ]
          },
          "metadata": {},
          "execution_count": 22
        }
      ]
    },
    {
      "cell_type": "markdown",
      "source": [
        "Yeah thos proportions look similar but we'd have to do a hypothesis test to verify it statistically."
      ],
      "metadata": {
        "id": "LPIj0BqAl7ob"
      }
    },
    {
      "cell_type": "markdown",
      "source": [
        "## Numpy Can Handle Dates"
      ],
      "metadata": {
        "id": "L_YgM7VSaYIw"
      }
    },
    {
      "cell_type": "markdown",
      "source": [
        "Sometimes you might need to know several dates in a row.  `Numpy` can handle that with `np.arange`."
      ],
      "metadata": {
        "id": "QWKh7JkGac7e"
      }
    },
    {
      "cell_type": "code",
      "source": [
        "import numpy as np\n",
        "\n",
        "np.arange('2018-01-01','2018-01-08', dtype='datetime64[D]')"
      ],
      "metadata": {
        "colab": {
          "base_uri": "https://localhost:8080/"
        },
        "id": "Bu8M1BWxampV",
        "outputId": "3dc2c912-e14c-4e07-982c-3185b7c42da9"
      },
      "execution_count": 23,
      "outputs": [
        {
          "output_type": "execute_result",
          "data": {
            "text/plain": [
              "array(['2018-01-01', '2018-01-02', '2018-01-03', '2018-01-04',\n",
              "       '2018-01-05', '2018-01-06', '2018-01-07'], dtype='datetime64[D]')"
            ]
          },
          "metadata": {},
          "execution_count": 23
        }
      ]
    },
    {
      "cell_type": "code",
      "source": [
        "pa.date_range(start='1/1/2018', end='1/08/2018')"
      ],
      "metadata": {
        "colab": {
          "base_uri": "https://localhost:8080/"
        },
        "id": "XvHV4oP5bDJF",
        "outputId": "5e39a5f1-51ab-42d9-9713-985355c8ead7"
      },
      "execution_count": 24,
      "outputs": [
        {
          "output_type": "execute_result",
          "data": {
            "text/plain": [
              "DatetimeIndex(['2018-01-01', '2018-01-02', '2018-01-03', '2018-01-04',\n",
              "               '2018-01-05', '2018-01-06', '2018-01-07', '2018-01-08'],\n",
              "              dtype='datetime64[ns]', freq='D')"
            ]
          },
          "metadata": {},
          "execution_count": 24
        }
      ]
    },
    {
      "cell_type": "markdown",
      "source": [
        "Actually `pandas` did have a similar call and was less picky about the input style of the dates."
      ],
      "metadata": {
        "id": "c4-DAbwxbujC"
      }
    },
    {
      "cell_type": "markdown",
      "source": [
        "If you want to check for business days in a range, week days!  Use `bdate_range`.  We see the weekend was the 6th and 7th."
      ],
      "metadata": {
        "id": "yGT6dCLxbzRA"
      }
    },
    {
      "cell_type": "code",
      "source": [
        "pa.bdate_range(start='1/1/2018', end='1/08/2018')"
      ],
      "metadata": {
        "colab": {
          "base_uri": "https://localhost:8080/"
        },
        "id": "VscxXaj_co8X",
        "outputId": "bb5e8e4b-c9ba-4885-f445-8b0def2e9284"
      },
      "execution_count": 25,
      "outputs": [
        {
          "output_type": "execute_result",
          "data": {
            "text/plain": [
              "DatetimeIndex(['2018-01-01', '2018-01-02', '2018-01-03', '2018-01-04',\n",
              "               '2018-01-05', '2018-01-08'],\n",
              "              dtype='datetime64[ns]', freq='B')"
            ]
          },
          "metadata": {},
          "execution_count": 25
        }
      ]
    },
    {
      "cell_type": "markdown",
      "source": [
        "## Lag For TimeSeries Data"
      ],
      "metadata": {
        "id": "Jqudi_6Rd8aV"
      }
    },
    {
      "cell_type": "markdown",
      "source": [
        "Sometimes our data is set in order in a time series and we are interested in knowing what came before it.  To look at this we would use the [`shift` function.](https://pandas.pydata.org/docs/reference/api/pandas.DataFrame.shift.html)"
      ],
      "metadata": {
        "id": "GZlFRjaueDy9"
      }
    },
    {
      "cell_type": "code",
      "source": [
        "df.StaysInWeekendNights.shift()"
      ],
      "metadata": {
        "colab": {
          "base_uri": "https://localhost:8080/"
        },
        "id": "QoswzvZfewl4",
        "outputId": "1cc3baa8-a532-4cf7-d318-bf4f5562c290"
      },
      "execution_count": 26,
      "outputs": [
        {
          "output_type": "execute_result",
          "data": {
            "text/plain": [
              "0        NaN\n",
              "1        0.0\n",
              "2        0.0\n",
              "3        0.0\n",
              "4        0.0\n",
              "        ... \n",
              "40055    2.0\n",
              "40056    2.0\n",
              "40057    2.0\n",
              "40058    4.0\n",
              "40059    4.0\n",
              "Name: StaysInWeekendNights, Length: 40060, dtype: float64"
            ]
          },
          "metadata": {},
          "execution_count": 26
        }
      ]
    },
    {
      "cell_type": "markdown",
      "source": [
        " We can then ask about the difference of those columns.  I'll force the first to be filled with a zero."
      ],
      "metadata": {
        "id": "oQedFi5mfPhS"
      }
    },
    {
      "cell_type": "code",
      "source": [
        "df.StaysInWeekendNights.shift(fill_value=0)-df.StaysInWeekendNights"
      ],
      "metadata": {
        "colab": {
          "base_uri": "https://localhost:8080/"
        },
        "id": "PkHze0pOfWX_",
        "outputId": "40c33fa1-6899-4d60-a4ba-16d150f8b932"
      },
      "execution_count": 27,
      "outputs": [
        {
          "output_type": "execute_result",
          "data": {
            "text/plain": [
              "0        0\n",
              "1        0\n",
              "2        0\n",
              "3        0\n",
              "4        0\n",
              "        ..\n",
              "40055    0\n",
              "40056    0\n",
              "40057   -2\n",
              "40058    0\n",
              "40059    0\n",
              "Name: StaysInWeekendNights, Length: 40060, dtype: int64"
            ]
          },
          "metadata": {},
          "execution_count": 27
        }
      ]
    },
    {
      "cell_type": "markdown",
      "source": [
        "This might be excellent for something like a moving average!  My example is a 5 step moveing average but that can be changed easily."
      ],
      "metadata": {
        "id": "zT4lFkFsfk0A"
      }
    },
    {
      "cell_type": "code",
      "source": [
        "cols = df.StaysInWeekendNights"
      ],
      "metadata": {
        "id": "tOGljyARgky9"
      },
      "execution_count": 28,
      "outputs": []
    },
    {
      "cell_type": "code",
      "source": [
        "for i in range(1,5):\n",
        "  cols += df.StaysInWeekendNights.shift(periods = i)\n",
        "\n",
        "cols/5"
      ],
      "metadata": {
        "colab": {
          "base_uri": "https://localhost:8080/"
        },
        "id": "HTUvL0oSf0n2",
        "outputId": "56e72ccb-5d99-4f20-f375-24c12474c8e2"
      },
      "execution_count": 29,
      "outputs": [
        {
          "output_type": "execute_result",
          "data": {
            "text/plain": [
              "0         NaN\n",
              "1         NaN\n",
              "2         NaN\n",
              "3         NaN\n",
              "4         NaN\n",
              "         ... \n",
              "40055    10.0\n",
              "40056    10.0\n",
              "40057    10.0\n",
              "40058    10.0\n",
              "40059    10.0\n",
              "Name: StaysInWeekendNights, Length: 40060, dtype: float64"
            ]
          },
          "metadata": {},
          "execution_count": 29
        }
      ]
    },
    {
      "cell_type": "markdown",
      "source": [
        "I had some issues making this code do what I expected so be warry!"
      ],
      "metadata": {
        "id": "YcDzNFfIhSVV"
      }
    },
    {
      "cell_type": "markdown",
      "source": [
        "## Selecting Dates"
      ],
      "metadata": {
        "id": "qGrRFudh0rTj"
      }
    },
    {
      "cell_type": "markdown",
      "source": [
        "Some times we want to select certain dates from a dataset.  Perhaps I wanted to gather the fourth of July week from the dataset, 01-07-18 to 07-07-18."
      ],
      "metadata": {
        "id": "x5v12Ith0ub4"
      }
    },
    {
      "cell_type": "code",
      "source": [
        "df.ArrivalDate.between('01-07-15','07-07-15')"
      ],
      "metadata": {
        "id": "QiN9g4001JDx",
        "outputId": "7e8b9a8c-846f-4180-e69b-706c3af89130",
        "colab": {
          "base_uri": "https://localhost:8080/"
        }
      },
      "execution_count": 30,
      "outputs": [
        {
          "output_type": "execute_result",
          "data": {
            "text/plain": [
              "0         True\n",
              "1         True\n",
              "2         True\n",
              "3         True\n",
              "4         True\n",
              "         ...  \n",
              "40055    False\n",
              "40056    False\n",
              "40057    False\n",
              "40058    False\n",
              "40059    False\n",
              "Name: ArrivalDate, Length: 40060, dtype: bool"
            ]
          },
          "metadata": {},
          "execution_count": 30
        }
      ]
    },
    {
      "cell_type": "markdown",
      "source": [
        "Then to get at that data, we can pass the booleen values into the dataframe."
      ],
      "metadata": {
        "id": "aaJWieuu1ou5"
      }
    },
    {
      "cell_type": "code",
      "source": [
        "df[df.ArrivalDate.between('01-07-15','07-07-15')].tail(100)"
      ],
      "metadata": {
        "id": "h2xXBld_10Ro",
        "outputId": "2978dcbc-9e75-49d7-dbba-c291a01d21a5",
        "colab": {
          "base_uri": "https://localhost:8080/",
          "height": 444
        }
      },
      "execution_count": 31,
      "outputs": [
        {
          "output_type": "execute_result",
          "data": {
            "text/plain": [
              "       IsCanceled  LeadTime  ArrivalDateYear ArrivalDateMonth  \\\n",
              "202             0        66             2015             July   \n",
              "203             0        88             2015             July   \n",
              "204             0         0             2015             July   \n",
              "205             1        43             2015             July   \n",
              "206             1        88             2015             July   \n",
              "...           ...       ...              ...              ...   \n",
              "15443           0       185             2015             July   \n",
              "15447           0       184             2015             July   \n",
              "15459           0       184             2015             July   \n",
              "15460           0        93             2015             July   \n",
              "15470           0       125             2015             July   \n",
              "\n",
              "       ArrivalDateWeekNumber  ArrivalDateDayOfMonth  StaysInWeekendNights  \\\n",
              "202                       28                      7                     0   \n",
              "203                       28                      7                     0   \n",
              "204                       28                      7                     0   \n",
              "205                       28                      7                     0   \n",
              "206                       28                      7                     2   \n",
              "...                      ...                    ...                   ...   \n",
              "15443                     28                      6                     3   \n",
              "15447                     28                      7                     2   \n",
              "15459                     27                      4                     4   \n",
              "15460                     28                      5                     4   \n",
              "15470                     28                      5                     4   \n",
              "\n",
              "       StaysInWeekNights  Adults  Children  ...        Agent      Company  \\\n",
              "202                    4       2         0  ...          240         NULL   \n",
              "203                    4       3         0  ...           95         NULL   \n",
              "204                    4       2         0  ...         NULL         NULL   \n",
              "205                    5       2         0  ...          134         NULL   \n",
              "206                    5       2         0  ...          240         NULL   \n",
              "...                  ...     ...       ...  ...          ...          ...   \n",
              "15443                  8       2         0  ...          128         NULL   \n",
              "15447                  9       2         0  ...          143         NULL   \n",
              "15459                 11       2         0  ...          156         NULL   \n",
              "15460                 10       2         0  ...          243         NULL   \n",
              "15470                 10       2         0  ...           69         NULL   \n",
              "\n",
              "      DaysInWaitingList CustomerType     ADR  RequiredCarParkingSpaces  \\\n",
              "202                   0    Transient   97.00                         0   \n",
              "203                   0    Transient  150.00                         0   \n",
              "204                   0    Transient   98.00                         0   \n",
              "205                   0    Transient   91.50                         0   \n",
              "206                   0    Transient  139.00                         0   \n",
              "...                 ...          ...     ...                       ...   \n",
              "15443                 0     Contract   90.95                         0   \n",
              "15447                 0     Contract  110.50                         0   \n",
              "15459                 0     Contract   90.95                         0   \n",
              "15460                 0     Contract   88.40                         0   \n",
              "15470                 0     Contract  113.05                         0   \n",
              "\n",
              "       TotalOfSpecialRequests  ReservationStatus ReservationStatusDate  \\\n",
              "202                         2          Check-Out            2015-07-11   \n",
              "203                         1          Check-Out            2015-07-11   \n",
              "204                         0          Check-Out            2015-07-11   \n",
              "205                         0           Canceled            2015-05-28   \n",
              "206                         2           Canceled            2015-04-13   \n",
              "...                       ...                ...                   ...   \n",
              "15443                       0          Check-Out            2015-07-17   \n",
              "15447                       0          Check-Out            2015-07-18   \n",
              "15459                       0          Check-Out            2015-07-19   \n",
              "15460                       1          Check-Out            2015-07-19   \n",
              "15470                       0          Check-Out            2015-07-19   \n",
              "\n",
              "      ArrivalDate  \n",
              "202    2015-07-07  \n",
              "203    2015-07-07  \n",
              "204    2015-07-07  \n",
              "205    2015-07-07  \n",
              "206    2015-07-07  \n",
              "...           ...  \n",
              "15443  2015-07-06  \n",
              "15447  2015-07-07  \n",
              "15459  2015-07-04  \n",
              "15460  2015-07-05  \n",
              "15470  2015-07-05  \n",
              "\n",
              "[100 rows x 32 columns]"
            ],
            "text/html": [
              "\n",
              "  <div id=\"df-465d32c9-b40e-4d78-ae69-9f3e706953b4\" class=\"colab-df-container\">\n",
              "    <div>\n",
              "<style scoped>\n",
              "    .dataframe tbody tr th:only-of-type {\n",
              "        vertical-align: middle;\n",
              "    }\n",
              "\n",
              "    .dataframe tbody tr th {\n",
              "        vertical-align: top;\n",
              "    }\n",
              "\n",
              "    .dataframe thead th {\n",
              "        text-align: right;\n",
              "    }\n",
              "</style>\n",
              "<table border=\"1\" class=\"dataframe\">\n",
              "  <thead>\n",
              "    <tr style=\"text-align: right;\">\n",
              "      <th></th>\n",
              "      <th>IsCanceled</th>\n",
              "      <th>LeadTime</th>\n",
              "      <th>ArrivalDateYear</th>\n",
              "      <th>ArrivalDateMonth</th>\n",
              "      <th>ArrivalDateWeekNumber</th>\n",
              "      <th>ArrivalDateDayOfMonth</th>\n",
              "      <th>StaysInWeekendNights</th>\n",
              "      <th>StaysInWeekNights</th>\n",
              "      <th>Adults</th>\n",
              "      <th>Children</th>\n",
              "      <th>...</th>\n",
              "      <th>Agent</th>\n",
              "      <th>Company</th>\n",
              "      <th>DaysInWaitingList</th>\n",
              "      <th>CustomerType</th>\n",
              "      <th>ADR</th>\n",
              "      <th>RequiredCarParkingSpaces</th>\n",
              "      <th>TotalOfSpecialRequests</th>\n",
              "      <th>ReservationStatus</th>\n",
              "      <th>ReservationStatusDate</th>\n",
              "      <th>ArrivalDate</th>\n",
              "    </tr>\n",
              "  </thead>\n",
              "  <tbody>\n",
              "    <tr>\n",
              "      <th>202</th>\n",
              "      <td>0</td>\n",
              "      <td>66</td>\n",
              "      <td>2015</td>\n",
              "      <td>July</td>\n",
              "      <td>28</td>\n",
              "      <td>7</td>\n",
              "      <td>0</td>\n",
              "      <td>4</td>\n",
              "      <td>2</td>\n",
              "      <td>0</td>\n",
              "      <td>...</td>\n",
              "      <td>240</td>\n",
              "      <td>NULL</td>\n",
              "      <td>0</td>\n",
              "      <td>Transient</td>\n",
              "      <td>97.00</td>\n",
              "      <td>0</td>\n",
              "      <td>2</td>\n",
              "      <td>Check-Out</td>\n",
              "      <td>2015-07-11</td>\n",
              "      <td>2015-07-07</td>\n",
              "    </tr>\n",
              "    <tr>\n",
              "      <th>203</th>\n",
              "      <td>0</td>\n",
              "      <td>88</td>\n",
              "      <td>2015</td>\n",
              "      <td>July</td>\n",
              "      <td>28</td>\n",
              "      <td>7</td>\n",
              "      <td>0</td>\n",
              "      <td>4</td>\n",
              "      <td>3</td>\n",
              "      <td>0</td>\n",
              "      <td>...</td>\n",
              "      <td>95</td>\n",
              "      <td>NULL</td>\n",
              "      <td>0</td>\n",
              "      <td>Transient</td>\n",
              "      <td>150.00</td>\n",
              "      <td>0</td>\n",
              "      <td>1</td>\n",
              "      <td>Check-Out</td>\n",
              "      <td>2015-07-11</td>\n",
              "      <td>2015-07-07</td>\n",
              "    </tr>\n",
              "    <tr>\n",
              "      <th>204</th>\n",
              "      <td>0</td>\n",
              "      <td>0</td>\n",
              "      <td>2015</td>\n",
              "      <td>July</td>\n",
              "      <td>28</td>\n",
              "      <td>7</td>\n",
              "      <td>0</td>\n",
              "      <td>4</td>\n",
              "      <td>2</td>\n",
              "      <td>0</td>\n",
              "      <td>...</td>\n",
              "      <td>NULL</td>\n",
              "      <td>NULL</td>\n",
              "      <td>0</td>\n",
              "      <td>Transient</td>\n",
              "      <td>98.00</td>\n",
              "      <td>0</td>\n",
              "      <td>0</td>\n",
              "      <td>Check-Out</td>\n",
              "      <td>2015-07-11</td>\n",
              "      <td>2015-07-07</td>\n",
              "    </tr>\n",
              "    <tr>\n",
              "      <th>205</th>\n",
              "      <td>1</td>\n",
              "      <td>43</td>\n",
              "      <td>2015</td>\n",
              "      <td>July</td>\n",
              "      <td>28</td>\n",
              "      <td>7</td>\n",
              "      <td>0</td>\n",
              "      <td>5</td>\n",
              "      <td>2</td>\n",
              "      <td>0</td>\n",
              "      <td>...</td>\n",
              "      <td>134</td>\n",
              "      <td>NULL</td>\n",
              "      <td>0</td>\n",
              "      <td>Transient</td>\n",
              "      <td>91.50</td>\n",
              "      <td>0</td>\n",
              "      <td>0</td>\n",
              "      <td>Canceled</td>\n",
              "      <td>2015-05-28</td>\n",
              "      <td>2015-07-07</td>\n",
              "    </tr>\n",
              "    <tr>\n",
              "      <th>206</th>\n",
              "      <td>1</td>\n",
              "      <td>88</td>\n",
              "      <td>2015</td>\n",
              "      <td>July</td>\n",
              "      <td>28</td>\n",
              "      <td>7</td>\n",
              "      <td>2</td>\n",
              "      <td>5</td>\n",
              "      <td>2</td>\n",
              "      <td>0</td>\n",
              "      <td>...</td>\n",
              "      <td>240</td>\n",
              "      <td>NULL</td>\n",
              "      <td>0</td>\n",
              "      <td>Transient</td>\n",
              "      <td>139.00</td>\n",
              "      <td>0</td>\n",
              "      <td>2</td>\n",
              "      <td>Canceled</td>\n",
              "      <td>2015-04-13</td>\n",
              "      <td>2015-07-07</td>\n",
              "    </tr>\n",
              "    <tr>\n",
              "      <th>...</th>\n",
              "      <td>...</td>\n",
              "      <td>...</td>\n",
              "      <td>...</td>\n",
              "      <td>...</td>\n",
              "      <td>...</td>\n",
              "      <td>...</td>\n",
              "      <td>...</td>\n",
              "      <td>...</td>\n",
              "      <td>...</td>\n",
              "      <td>...</td>\n",
              "      <td>...</td>\n",
              "      <td>...</td>\n",
              "      <td>...</td>\n",
              "      <td>...</td>\n",
              "      <td>...</td>\n",
              "      <td>...</td>\n",
              "      <td>...</td>\n",
              "      <td>...</td>\n",
              "      <td>...</td>\n",
              "      <td>...</td>\n",
              "      <td>...</td>\n",
              "    </tr>\n",
              "    <tr>\n",
              "      <th>15443</th>\n",
              "      <td>0</td>\n",
              "      <td>185</td>\n",
              "      <td>2015</td>\n",
              "      <td>July</td>\n",
              "      <td>28</td>\n",
              "      <td>6</td>\n",
              "      <td>3</td>\n",
              "      <td>8</td>\n",
              "      <td>2</td>\n",
              "      <td>0</td>\n",
              "      <td>...</td>\n",
              "      <td>128</td>\n",
              "      <td>NULL</td>\n",
              "      <td>0</td>\n",
              "      <td>Contract</td>\n",
              "      <td>90.95</td>\n",
              "      <td>0</td>\n",
              "      <td>0</td>\n",
              "      <td>Check-Out</td>\n",
              "      <td>2015-07-17</td>\n",
              "      <td>2015-07-06</td>\n",
              "    </tr>\n",
              "    <tr>\n",
              "      <th>15447</th>\n",
              "      <td>0</td>\n",
              "      <td>184</td>\n",
              "      <td>2015</td>\n",
              "      <td>July</td>\n",
              "      <td>28</td>\n",
              "      <td>7</td>\n",
              "      <td>2</td>\n",
              "      <td>9</td>\n",
              "      <td>2</td>\n",
              "      <td>0</td>\n",
              "      <td>...</td>\n",
              "      <td>143</td>\n",
              "      <td>NULL</td>\n",
              "      <td>0</td>\n",
              "      <td>Contract</td>\n",
              "      <td>110.50</td>\n",
              "      <td>0</td>\n",
              "      <td>0</td>\n",
              "      <td>Check-Out</td>\n",
              "      <td>2015-07-18</td>\n",
              "      <td>2015-07-07</td>\n",
              "    </tr>\n",
              "    <tr>\n",
              "      <th>15459</th>\n",
              "      <td>0</td>\n",
              "      <td>184</td>\n",
              "      <td>2015</td>\n",
              "      <td>July</td>\n",
              "      <td>27</td>\n",
              "      <td>4</td>\n",
              "      <td>4</td>\n",
              "      <td>11</td>\n",
              "      <td>2</td>\n",
              "      <td>0</td>\n",
              "      <td>...</td>\n",
              "      <td>156</td>\n",
              "      <td>NULL</td>\n",
              "      <td>0</td>\n",
              "      <td>Contract</td>\n",
              "      <td>90.95</td>\n",
              "      <td>0</td>\n",
              "      <td>0</td>\n",
              "      <td>Check-Out</td>\n",
              "      <td>2015-07-19</td>\n",
              "      <td>2015-07-04</td>\n",
              "    </tr>\n",
              "    <tr>\n",
              "      <th>15460</th>\n",
              "      <td>0</td>\n",
              "      <td>93</td>\n",
              "      <td>2015</td>\n",
              "      <td>July</td>\n",
              "      <td>28</td>\n",
              "      <td>5</td>\n",
              "      <td>4</td>\n",
              "      <td>10</td>\n",
              "      <td>2</td>\n",
              "      <td>0</td>\n",
              "      <td>...</td>\n",
              "      <td>243</td>\n",
              "      <td>NULL</td>\n",
              "      <td>0</td>\n",
              "      <td>Contract</td>\n",
              "      <td>88.40</td>\n",
              "      <td>0</td>\n",
              "      <td>1</td>\n",
              "      <td>Check-Out</td>\n",
              "      <td>2015-07-19</td>\n",
              "      <td>2015-07-05</td>\n",
              "    </tr>\n",
              "    <tr>\n",
              "      <th>15470</th>\n",
              "      <td>0</td>\n",
              "      <td>125</td>\n",
              "      <td>2015</td>\n",
              "      <td>July</td>\n",
              "      <td>28</td>\n",
              "      <td>5</td>\n",
              "      <td>4</td>\n",
              "      <td>10</td>\n",
              "      <td>2</td>\n",
              "      <td>0</td>\n",
              "      <td>...</td>\n",
              "      <td>69</td>\n",
              "      <td>NULL</td>\n",
              "      <td>0</td>\n",
              "      <td>Contract</td>\n",
              "      <td>113.05</td>\n",
              "      <td>0</td>\n",
              "      <td>0</td>\n",
              "      <td>Check-Out</td>\n",
              "      <td>2015-07-19</td>\n",
              "      <td>2015-07-05</td>\n",
              "    </tr>\n",
              "  </tbody>\n",
              "</table>\n",
              "<p>100 rows × 32 columns</p>\n",
              "</div>\n",
              "    <div class=\"colab-df-buttons\">\n",
              "\n",
              "  <div class=\"colab-df-container\">\n",
              "    <button class=\"colab-df-convert\" onclick=\"convertToInteractive('df-465d32c9-b40e-4d78-ae69-9f3e706953b4')\"\n",
              "            title=\"Convert this dataframe to an interactive table.\"\n",
              "            style=\"display:none;\">\n",
              "\n",
              "  <svg xmlns=\"http://www.w3.org/2000/svg\" height=\"24px\" viewBox=\"0 -960 960 960\">\n",
              "    <path d=\"M120-120v-720h720v720H120Zm60-500h600v-160H180v160Zm220 220h160v-160H400v160Zm0 220h160v-160H400v160ZM180-400h160v-160H180v160Zm440 0h160v-160H620v160ZM180-180h160v-160H180v160Zm440 0h160v-160H620v160Z\"/>\n",
              "  </svg>\n",
              "    </button>\n",
              "\n",
              "  <style>\n",
              "    .colab-df-container {\n",
              "      display:flex;\n",
              "      gap: 12px;\n",
              "    }\n",
              "\n",
              "    .colab-df-convert {\n",
              "      background-color: #E8F0FE;\n",
              "      border: none;\n",
              "      border-radius: 50%;\n",
              "      cursor: pointer;\n",
              "      display: none;\n",
              "      fill: #1967D2;\n",
              "      height: 32px;\n",
              "      padding: 0 0 0 0;\n",
              "      width: 32px;\n",
              "    }\n",
              "\n",
              "    .colab-df-convert:hover {\n",
              "      background-color: #E2EBFA;\n",
              "      box-shadow: 0px 1px 2px rgba(60, 64, 67, 0.3), 0px 1px 3px 1px rgba(60, 64, 67, 0.15);\n",
              "      fill: #174EA6;\n",
              "    }\n",
              "\n",
              "    .colab-df-buttons div {\n",
              "      margin-bottom: 4px;\n",
              "    }\n",
              "\n",
              "    [theme=dark] .colab-df-convert {\n",
              "      background-color: #3B4455;\n",
              "      fill: #D2E3FC;\n",
              "    }\n",
              "\n",
              "    [theme=dark] .colab-df-convert:hover {\n",
              "      background-color: #434B5C;\n",
              "      box-shadow: 0px 1px 3px 1px rgba(0, 0, 0, 0.15);\n",
              "      filter: drop-shadow(0px 1px 2px rgba(0, 0, 0, 0.3));\n",
              "      fill: #FFFFFF;\n",
              "    }\n",
              "  </style>\n",
              "\n",
              "    <script>\n",
              "      const buttonEl =\n",
              "        document.querySelector('#df-465d32c9-b40e-4d78-ae69-9f3e706953b4 button.colab-df-convert');\n",
              "      buttonEl.style.display =\n",
              "        google.colab.kernel.accessAllowed ? 'block' : 'none';\n",
              "\n",
              "      async function convertToInteractive(key) {\n",
              "        const element = document.querySelector('#df-465d32c9-b40e-4d78-ae69-9f3e706953b4');\n",
              "        const dataTable =\n",
              "          await google.colab.kernel.invokeFunction('convertToInteractive',\n",
              "                                                    [key], {});\n",
              "        if (!dataTable) return;\n",
              "\n",
              "        const docLinkHtml = 'Like what you see? Visit the ' +\n",
              "          '<a target=\"_blank\" href=https://colab.research.google.com/notebooks/data_table.ipynb>data table notebook</a>'\n",
              "          + ' to learn more about interactive tables.';\n",
              "        element.innerHTML = '';\n",
              "        dataTable['output_type'] = 'display_data';\n",
              "        await google.colab.output.renderOutput(dataTable, element);\n",
              "        const docLink = document.createElement('div');\n",
              "        docLink.innerHTML = docLinkHtml;\n",
              "        element.appendChild(docLink);\n",
              "      }\n",
              "    </script>\n",
              "  </div>\n",
              "\n",
              "\n",
              "<div id=\"df-911c2477-fc1d-4185-ba6a-0d33fc2905b8\">\n",
              "  <button class=\"colab-df-quickchart\" onclick=\"quickchart('df-911c2477-fc1d-4185-ba6a-0d33fc2905b8')\"\n",
              "            title=\"Suggest charts\"\n",
              "            style=\"display:none;\">\n",
              "\n",
              "<svg xmlns=\"http://www.w3.org/2000/svg\" height=\"24px\"viewBox=\"0 0 24 24\"\n",
              "     width=\"24px\">\n",
              "    <g>\n",
              "        <path d=\"M19 3H5c-1.1 0-2 .9-2 2v14c0 1.1.9 2 2 2h14c1.1 0 2-.9 2-2V5c0-1.1-.9-2-2-2zM9 17H7v-7h2v7zm4 0h-2V7h2v10zm4 0h-2v-4h2v4z\"/>\n",
              "    </g>\n",
              "</svg>\n",
              "  </button>\n",
              "\n",
              "<style>\n",
              "  .colab-df-quickchart {\n",
              "      --bg-color: #E8F0FE;\n",
              "      --fill-color: #1967D2;\n",
              "      --hover-bg-color: #E2EBFA;\n",
              "      --hover-fill-color: #174EA6;\n",
              "      --disabled-fill-color: #AAA;\n",
              "      --disabled-bg-color: #DDD;\n",
              "  }\n",
              "\n",
              "  [theme=dark] .colab-df-quickchart {\n",
              "      --bg-color: #3B4455;\n",
              "      --fill-color: #D2E3FC;\n",
              "      --hover-bg-color: #434B5C;\n",
              "      --hover-fill-color: #FFFFFF;\n",
              "      --disabled-bg-color: #3B4455;\n",
              "      --disabled-fill-color: #666;\n",
              "  }\n",
              "\n",
              "  .colab-df-quickchart {\n",
              "    background-color: var(--bg-color);\n",
              "    border: none;\n",
              "    border-radius: 50%;\n",
              "    cursor: pointer;\n",
              "    display: none;\n",
              "    fill: var(--fill-color);\n",
              "    height: 32px;\n",
              "    padding: 0;\n",
              "    width: 32px;\n",
              "  }\n",
              "\n",
              "  .colab-df-quickchart:hover {\n",
              "    background-color: var(--hover-bg-color);\n",
              "    box-shadow: 0 1px 2px rgba(60, 64, 67, 0.3), 0 1px 3px 1px rgba(60, 64, 67, 0.15);\n",
              "    fill: var(--button-hover-fill-color);\n",
              "  }\n",
              "\n",
              "  .colab-df-quickchart-complete:disabled,\n",
              "  .colab-df-quickchart-complete:disabled:hover {\n",
              "    background-color: var(--disabled-bg-color);\n",
              "    fill: var(--disabled-fill-color);\n",
              "    box-shadow: none;\n",
              "  }\n",
              "\n",
              "  .colab-df-spinner {\n",
              "    border: 2px solid var(--fill-color);\n",
              "    border-color: transparent;\n",
              "    border-bottom-color: var(--fill-color);\n",
              "    animation:\n",
              "      spin 1s steps(1) infinite;\n",
              "  }\n",
              "\n",
              "  @keyframes spin {\n",
              "    0% {\n",
              "      border-color: transparent;\n",
              "      border-bottom-color: var(--fill-color);\n",
              "      border-left-color: var(--fill-color);\n",
              "    }\n",
              "    20% {\n",
              "      border-color: transparent;\n",
              "      border-left-color: var(--fill-color);\n",
              "      border-top-color: var(--fill-color);\n",
              "    }\n",
              "    30% {\n",
              "      border-color: transparent;\n",
              "      border-left-color: var(--fill-color);\n",
              "      border-top-color: var(--fill-color);\n",
              "      border-right-color: var(--fill-color);\n",
              "    }\n",
              "    40% {\n",
              "      border-color: transparent;\n",
              "      border-right-color: var(--fill-color);\n",
              "      border-top-color: var(--fill-color);\n",
              "    }\n",
              "    60% {\n",
              "      border-color: transparent;\n",
              "      border-right-color: var(--fill-color);\n",
              "    }\n",
              "    80% {\n",
              "      border-color: transparent;\n",
              "      border-right-color: var(--fill-color);\n",
              "      border-bottom-color: var(--fill-color);\n",
              "    }\n",
              "    90% {\n",
              "      border-color: transparent;\n",
              "      border-bottom-color: var(--fill-color);\n",
              "    }\n",
              "  }\n",
              "</style>\n",
              "\n",
              "  <script>\n",
              "    async function quickchart(key) {\n",
              "      const quickchartButtonEl =\n",
              "        document.querySelector('#' + key + ' button');\n",
              "      quickchartButtonEl.disabled = true;  // To prevent multiple clicks.\n",
              "      quickchartButtonEl.classList.add('colab-df-spinner');\n",
              "      try {\n",
              "        const charts = await google.colab.kernel.invokeFunction(\n",
              "            'suggestCharts', [key], {});\n",
              "      } catch (error) {\n",
              "        console.error('Error during call to suggestCharts:', error);\n",
              "      }\n",
              "      quickchartButtonEl.classList.remove('colab-df-spinner');\n",
              "      quickchartButtonEl.classList.add('colab-df-quickchart-complete');\n",
              "    }\n",
              "    (() => {\n",
              "      let quickchartButtonEl =\n",
              "        document.querySelector('#df-911c2477-fc1d-4185-ba6a-0d33fc2905b8 button');\n",
              "      quickchartButtonEl.style.display =\n",
              "        google.colab.kernel.accessAllowed ? 'block' : 'none';\n",
              "    })();\n",
              "  </script>\n",
              "</div>\n",
              "\n",
              "    </div>\n",
              "  </div>\n"
            ],
            "application/vnd.google.colaboratory.intrinsic+json": {
              "type": "dataframe"
            }
          },
          "metadata": {},
          "execution_count": 31
        }
      ]
    },
    {
      "cell_type": "markdown",
      "source": [
        "The one strange thing about the `between` command is that it is inclusive so both the 1st and the 7th are included.  If times are included only exactly at midnight on the 7th is included.  You can change the inclusion with the command `inclusive` it can be `both`, `neither`, `left` or `right`."
      ],
      "metadata": {
        "id": "MtagPsu12Qpn"
      }
    },
    {
      "cell_type": "markdown",
      "source": [
        "## Your Turn"
      ],
      "metadata": {
        "id": "bI6DGE-CmGWX"
      }
    },
    {
      "cell_type": "markdown",
      "source": [
        "Using the dataset from an IOT device retreived from [here](https://www.kaggle.com/atulanandjha/temperature-readings-iot-devices) and introduced to [here](https://analyticsindiamag.com/10-datasets-for-data-cleaning-practice-for-beginners/).  Uploaded to the web for you to retrieve easily here https://raw.githubusercontent.com/nurfnick/Data_Viz/main/Data_Sets/IOT-temp.csv Answer the folloiwng questions.\n",
        "\n",
        "1. Convert the *noted_date* into DateTime, it is in day-month-Year Hour:Minute format.\n",
        "1. What is the minimum and maximum date and time?\n",
        "2. What is the largest interval inbetween temperature checks?\n",
        "3. What is the average datetime?\n",
        "4. What was the average outside temperature on '09-11-2018'?"
      ],
      "metadata": {
        "id": "P0ZHHjr2mI8m"
      }
    }
  ]
}