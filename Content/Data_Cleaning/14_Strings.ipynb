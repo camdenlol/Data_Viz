{
  "nbformat": 4,
  "nbformat_minor": 0,
  "metadata": {
    "colab": {
      "name": "Untitled79.ipynb",
      "provenance": [],
      "authorship_tag": "ABX9TyPGFntEuxzln9ViP7ic+eiu",
      "include_colab_link": true
    },
    "kernelspec": {
      "name": "python3",
      "display_name": "Python 3"
    },
    "language_info": {
      "name": "python"
    }
  },
  "cells": [
    {
      "cell_type": "markdown",
      "metadata": {
        "id": "view-in-github",
        "colab_type": "text"
      },
      "source": [
        "<a href=\"https://colab.research.google.com/github/nurfnick/Data_Viz/blob/main/Content/Data_Cleaning/14_Strings.ipynb\" target=\"_parent\"><img src=\"https://colab.research.google.com/assets/colab-badge.svg\" alt=\"Open In Colab\"/></a>"
      ]
    },
    {
      "cell_type": "markdown",
      "source": [
        "# Strings"
      ],
      "metadata": {
        "id": "7P1LQBnR8m9D"
      }
    },
    {
      "cell_type": "markdown",
      "source": [
        "## Indexing"
      ],
      "metadata": {
        "id": "IGc4fwGT9KMx"
      }
    },
    {
      "cell_type": "markdown",
      "source": [
        "Python has some great ways to deal with strings.  First off you should recognize that python allows indexing on strings.\n"
      ],
      "metadata": {
        "id": "B1yJXFCE8pzR"
      }
    },
    {
      "cell_type": "code",
      "execution_count": 1,
      "metadata": {
        "colab": {
          "base_uri": "https://localhost:8080/",
          "height": 35
        },
        "id": "kzb23h8J8mQB",
        "outputId": "066bfae3-26c9-4bf8-d3b3-c70dfd16e602"
      },
      "outputs": [
        {
          "output_type": "execute_result",
          "data": {
            "text/plain": [
              "'H'"
            ],
            "application/vnd.google.colaboratory.intrinsic+json": {
              "type": "string"
            }
          },
          "metadata": {},
          "execution_count": 1
        }
      ],
      "source": [
        "hello = 'Hello World'\n",
        "\n",
        "hello[0]"
      ]
    },
    {
      "cell_type": "markdown",
      "source": [
        "Since indexing is allowed you can also use a string as the counter in a list!"
      ],
      "metadata": {
        "id": "2y0XRR-187D4"
      }
    },
    {
      "cell_type": "code",
      "source": [
        "for letter in hello:\n",
        "  print(letter)"
      ],
      "metadata": {
        "colab": {
          "base_uri": "https://localhost:8080/"
        },
        "id": "p1BvkjFm84di",
        "outputId": "fcb2c30f-aa5a-43fc-d716-c5a6d318fbb3"
      },
      "execution_count": 2,
      "outputs": [
        {
          "output_type": "stream",
          "name": "stdout",
          "text": [
            "H\n",
            "e\n",
            "l\n",
            "l\n",
            "o\n",
            " \n",
            "W\n",
            "o\n",
            "r\n",
            "l\n",
            "d\n"
          ]
        }
      ]
    },
    {
      "cell_type": "markdown",
      "source": [
        "There are of course many more exotic ways to access parts of stings.\n",
        "\n",
        "Below I get the last item with negative indexing which starts at the back and works its way forward."
      ],
      "metadata": {
        "id": "Eb1ivv-E9d6A"
      }
    },
    {
      "cell_type": "code",
      "source": [
        "hello[-1]"
      ],
      "metadata": {
        "colab": {
          "base_uri": "https://localhost:8080/",
          "height": 35
        },
        "id": "BSQKrosk9GFi",
        "outputId": "bb9d331b-a4e6-4f7d-8beb-ab1ef5f96433"
      },
      "execution_count": 3,
      "outputs": [
        {
          "output_type": "execute_result",
          "data": {
            "text/plain": [
              "'d'"
            ],
            "application/vnd.google.colaboratory.intrinsic+json": {
              "type": "string"
            }
          },
          "metadata": {},
          "execution_count": 3
        }
      ]
    },
    {
      "cell_type": "markdown",
      "source": [
        "Next I get everything but the last."
      ],
      "metadata": {
        "id": "rp94G4-S9rXh"
      }
    },
    {
      "cell_type": "code",
      "source": [
        "hello[:-1]"
      ],
      "metadata": {
        "colab": {
          "base_uri": "https://localhost:8080/",
          "height": 35
        },
        "id": "31RupVW_9mMi",
        "outputId": "ef261850-3e9d-46aa-cb8f-4ec2e2acb028"
      },
      "execution_count": 4,
      "outputs": [
        {
          "output_type": "execute_result",
          "data": {
            "text/plain": [
              "'Hello Worl'"
            ],
            "application/vnd.google.colaboratory.intrinsic+json": {
              "type": "string"
            }
          },
          "metadata": {},
          "execution_count": 4
        }
      ]
    },
    {
      "cell_type": "markdown",
      "source": [
        "How about every other character?"
      ],
      "metadata": {
        "id": "2Y7bVJ_d91zg"
      }
    },
    {
      "cell_type": "code",
      "source": [
        "hello[::2]"
      ],
      "metadata": {
        "colab": {
          "base_uri": "https://localhost:8080/",
          "height": 35
        },
        "id": "C06AM3Pq9zXH",
        "outputId": "af9b88bb-e4aa-4f00-b73c-df5f9097cd10"
      },
      "execution_count": 5,
      "outputs": [
        {
          "output_type": "execute_result",
          "data": {
            "text/plain": [
              "'HloWrd'"
            ],
            "application/vnd.google.colaboratory.intrinsic+json": {
              "type": "string"
            }
          },
          "metadata": {},
          "execution_count": 5
        }
      ]
    },
    {
      "cell_type": "markdown",
      "source": [
        "Perhaps a little more explanation is needed here.  In the indexing `x[a:b]` you will get the $a^{th}$ element up to the $b-1$ element.  You can also index `x[a:b:n]` where you only pick every $n^{th}$ element from that list.  Not sure how important this may be for data cleaning but it is availabe.  When one of the numbers is not included, you will do this over the entire string."
      ],
      "metadata": {
        "id": "0_kPEPhx-Cxt"
      }
    },
    {
      "cell_type": "code",
      "source": [
        "hello[::]"
      ],
      "metadata": {
        "colab": {
          "base_uri": "https://localhost:8080/",
          "height": 35
        },
        "id": "HqBQv5c497R9",
        "outputId": "9eca6f9c-1bb8-4cdc-945d-49a9897591d2"
      },
      "execution_count": 6,
      "outputs": [
        {
          "output_type": "execute_result",
          "data": {
            "text/plain": [
              "'Hello World'"
            ],
            "application/vnd.google.colaboratory.intrinsic+json": {
              "type": "string"
            }
          },
          "metadata": {},
          "execution_count": 6
        }
      ]
    },
    {
      "cell_type": "markdown",
      "source": [
        "Reversing a string is a snap too!"
      ],
      "metadata": {
        "id": "5CwfJiHkDnBp"
      }
    },
    {
      "cell_type": "code",
      "source": [
        "hello[::-1]"
      ],
      "metadata": {
        "colab": {
          "base_uri": "https://localhost:8080/",
          "height": 35
        },
        "id": "5cm0yNWzDqq6",
        "outputId": "7dab2d6f-43b3-44c2-fcf9-508e33560c49"
      },
      "execution_count": 7,
      "outputs": [
        {
          "output_type": "execute_result",
          "data": {
            "text/plain": [
              "'dlroW olleH'"
            ],
            "application/vnd.google.colaboratory.intrinsic+json": {
              "type": "string"
            }
          },
          "metadata": {},
          "execution_count": 7
        }
      ]
    },
    {
      "cell_type": "markdown",
      "source": [
        "## String Operations"
      ],
      "metadata": {
        "id": "UUPV82pL_CsB"
      }
    },
    {
      "cell_type": "markdown",
      "source": [
        "There are some essential string operations!\n",
        "\n",
        "Addition will combine two strings."
      ],
      "metadata": {
        "id": "hYzKMF64_GcL"
      }
    },
    {
      "cell_type": "code",
      "source": [
        "goodbye = 'Goodbye Cruel World'\n",
        "\n",
        "hello + \" \" + goodbye"
      ],
      "metadata": {
        "colab": {
          "base_uri": "https://localhost:8080/",
          "height": 35
        },
        "id": "HUPWo8eN-2e-",
        "outputId": "742b8bb2-9e4d-4aaa-dc57-674d7fbe9de4"
      },
      "execution_count": 8,
      "outputs": [
        {
          "output_type": "execute_result",
          "data": {
            "text/plain": [
              "'Hello World Goodbye Cruel World'"
            ],
            "application/vnd.google.colaboratory.intrinsic+json": {
              "type": "string"
            }
          },
          "metadata": {},
          "execution_count": 8
        }
      ]
    },
    {
      "cell_type": "markdown",
      "source": [
        "I actually combined three strings there putting a space inbetween the variables for ease of reading.\n",
        "\n",
        "Multiplying is allowed on strings"
      ],
      "metadata": {
        "id": "ZJG-Hhds_b7D"
      }
    },
    {
      "cell_type": "code",
      "source": [
        "hello * 2"
      ],
      "metadata": {
        "colab": {
          "base_uri": "https://localhost:8080/",
          "height": 35
        },
        "id": "tBek_3MK_Yr0",
        "outputId": "c3f81829-f3ee-4fd8-86a3-e4ee83d36514"
      },
      "execution_count": 9,
      "outputs": [
        {
          "output_type": "execute_result",
          "data": {
            "text/plain": [
              "'Hello WorldHello World'"
            ],
            "application/vnd.google.colaboratory.intrinsic+json": {
              "type": "string"
            }
          },
          "metadata": {},
          "execution_count": 9
        }
      ]
    },
    {
      "cell_type": "markdown",
      "source": [
        "If you want to use a non-string with a string make sure to convert."
      ],
      "metadata": {
        "id": "AF5H9oDsD4UF"
      }
    },
    {
      "cell_type": "code",
      "source": [
        "x = 3\n",
        "\n",
        "hello + str(x)"
      ],
      "metadata": {
        "colab": {
          "base_uri": "https://localhost:8080/",
          "height": 35
        },
        "id": "3uQn883j_p12",
        "outputId": "65e288be-e98b-4a97-fc61-53ec53d22905"
      },
      "execution_count": 10,
      "outputs": [
        {
          "output_type": "execute_result",
          "data": {
            "text/plain": [
              "'Hello World3'"
            ],
            "application/vnd.google.colaboratory.intrinsic+json": {
              "type": "string"
            }
          },
          "metadata": {},
          "execution_count": 10
        }
      ]
    },
    {
      "cell_type": "markdown",
      "source": [
        "## In and Not In"
      ],
      "metadata": {
        "id": "Y2gf_QOtEMK7"
      }
    },
    {
      "cell_type": "markdown",
      "source": [
        "In and not in are very useful in string manipulations."
      ],
      "metadata": {
        "id": "SWZhiUlYEQNo"
      }
    },
    {
      "cell_type": "code",
      "source": [
        "if 'Hello' in hello:\n",
        "  print('Hello is in the string \"{0}\"'.format(hello))"
      ],
      "metadata": {
        "colab": {
          "base_uri": "https://localhost:8080/"
        },
        "id": "m9YcoGUcEDRo",
        "outputId": "c8fb774d-53cd-45e8-9676-c471b3d6d863"
      },
      "execution_count": 11,
      "outputs": [
        {
          "output_type": "stream",
          "name": "stdout",
          "text": [
            "Hello is in the string \"Hello World\"\n"
          ]
        }
      ]
    },
    {
      "cell_type": "code",
      "source": [
        "if 'hello' not in hello:\n",
        "  print('hello is not in the string \"{}\"'.format(hello))"
      ],
      "metadata": {
        "colab": {
          "base_uri": "https://localhost:8080/"
        },
        "id": "g8c-lNAXEhRw",
        "outputId": "5137a503-378f-416d-e424-9f2fdf3dcb2c"
      },
      "execution_count": 12,
      "outputs": [
        {
          "output_type": "stream",
          "name": "stdout",
          "text": [
            "hello is not in the string \"Hello World\"\n"
          ]
        }
      ]
    },
    {
      "cell_type": "markdown",
      "source": [
        "The difference here is very slight just whether 'Hello' has been capitalized or not!"
      ],
      "metadata": {
        "id": "uaStio3uEuR2"
      }
    },
    {
      "cell_type": "markdown",
      "source": [
        "## Capitalize"
      ],
      "metadata": {
        "id": "k3abFoe5E5W2"
      }
    },
    {
      "cell_type": "markdown",
      "source": [
        "Capitalizing can make a big difference in how we see a string.  Most likely you capitalize parts of your name but does that make the word different?  This could be a big issue for us (we actually saw this in Iowa Liquor data set!)\n",
        "\n",
        "Capitalize will capitalize the first letter."
      ],
      "metadata": {
        "id": "gt2j7QYJE8He"
      }
    },
    {
      "cell_type": "code",
      "source": [
        "str.capitalize('hello')"
      ],
      "metadata": {
        "colab": {
          "base_uri": "https://localhost:8080/",
          "height": 35
        },
        "id": "ZOTi6tmdEswZ",
        "outputId": "c588c119-5e91-43e3-9eea-4dfafaec2fc4"
      },
      "execution_count": 13,
      "outputs": [
        {
          "output_type": "execute_result",
          "data": {
            "text/plain": [
              "'Hello'"
            ],
            "application/vnd.google.colaboratory.intrinsic+json": {
              "type": "string"
            }
          },
          "metadata": {},
          "execution_count": 13
        }
      ]
    },
    {
      "cell_type": "markdown",
      "source": [
        "`upper` and `lower` will convert the entire string to upper case or lower case."
      ],
      "metadata": {
        "id": "1XaZ8I_7Fp4C"
      }
    },
    {
      "cell_type": "code",
      "source": [
        "str.upper('hello')"
      ],
      "metadata": {
        "colab": {
          "base_uri": "https://localhost:8080/",
          "height": 35
        },
        "id": "Vz-jYBpBFRTQ",
        "outputId": "fa2fe960-c2c1-45ae-a83a-18c49989f4ef"
      },
      "execution_count": 14,
      "outputs": [
        {
          "output_type": "execute_result",
          "data": {
            "text/plain": [
              "'HELLO'"
            ],
            "application/vnd.google.colaboratory.intrinsic+json": {
              "type": "string"
            }
          },
          "metadata": {},
          "execution_count": 14
        }
      ]
    },
    {
      "cell_type": "code",
      "source": [
        "str.lower('Hello')"
      ],
      "metadata": {
        "colab": {
          "base_uri": "https://localhost:8080/",
          "height": 35
        },
        "id": "9jfvC1ADFZRZ",
        "outputId": "567a5cb9-4bc6-4865-f324-fb45ba7ab065"
      },
      "execution_count": 15,
      "outputs": [
        {
          "output_type": "execute_result",
          "data": {
            "text/plain": [
              "'hello'"
            ],
            "application/vnd.google.colaboratory.intrinsic+json": {
              "type": "string"
            }
          },
          "metadata": {},
          "execution_count": 15
        }
      ]
    },
    {
      "cell_type": "code",
      "source": [
        "str.lower('HELLO')"
      ],
      "metadata": {
        "colab": {
          "base_uri": "https://localhost:8080/",
          "height": 35
        },
        "id": "1NZuOCkFFchi",
        "outputId": "2a572aec-a64c-4e65-ebd4-f695a4fcb9c8"
      },
      "execution_count": 16,
      "outputs": [
        {
          "output_type": "execute_result",
          "data": {
            "text/plain": [
              "'hello'"
            ],
            "application/vnd.google.colaboratory.intrinsic+json": {
              "type": "string"
            }
          },
          "metadata": {},
          "execution_count": 16
        }
      ]
    },
    {
      "cell_type": "code",
      "source": [],
      "metadata": {
        "id": "yScvW2VfFf8Y"
      },
      "execution_count": 16,
      "outputs": []
    },
    {
      "cell_type": "markdown",
      "source": [
        "## Spaces"
      ],
      "metadata": {
        "id": "JuRc8T1LJfd7"
      }
    },
    {
      "cell_type": "markdown",
      "source": [
        "Sometimes spaces will creep into your data.  Be aware that will effect the difference in strings!"
      ],
      "metadata": {
        "id": "mSHXhcDbJho-"
      }
    },
    {
      "cell_type": "code",
      "source": [
        "hello_with_space = ' Hello World'\n",
        "\n",
        "hello == hello_with_space"
      ],
      "metadata": {
        "colab": {
          "base_uri": "https://localhost:8080/"
        },
        "id": "TX4e-F0JJg6k",
        "outputId": "a5683a48-5371-4f70-c69f-1d21aca756a5"
      },
      "execution_count": 17,
      "outputs": [
        {
          "output_type": "execute_result",
          "data": {
            "text/plain": [
              "False"
            ]
          },
          "metadata": {},
          "execution_count": 17
        }
      ]
    },
    {
      "cell_type": "markdown",
      "source": [
        "To fix this we can remove leading spaces with `lstrip`\n",
        "\n"
      ],
      "metadata": {
        "id": "qEh00mnqJymd"
      }
    },
    {
      "cell_type": "code",
      "source": [
        "hello_with_space.lstrip()"
      ],
      "metadata": {
        "colab": {
          "base_uri": "https://localhost:8080/",
          "height": 35
        },
        "id": "syHy9HTuJxpW",
        "outputId": "386bffdb-5dd2-4851-f4b1-37d0af527581"
      },
      "execution_count": 18,
      "outputs": [
        {
          "output_type": "execute_result",
          "data": {
            "text/plain": [
              "'Hello World'"
            ],
            "application/vnd.google.colaboratory.intrinsic+json": {
              "type": "string"
            }
          },
          "metadata": {},
          "execution_count": 18
        }
      ]
    },
    {
      "cell_type": "code",
      "source": [
        "hello_with_space.lstrip() == hello"
      ],
      "metadata": {
        "colab": {
          "base_uri": "https://localhost:8080/"
        },
        "id": "8RPYK7NcJ7oP",
        "outputId": "f00a5ba7-eb04-4aaf-adda-c15b4c88df03"
      },
      "execution_count": 19,
      "outputs": [
        {
          "output_type": "execute_result",
          "data": {
            "text/plain": [
              "True"
            ]
          },
          "metadata": {},
          "execution_count": 19
        }
      ]
    },
    {
      "cell_type": "markdown",
      "source": [
        "You can also check if a string is just a space.  This command will return true on other more exotic space like items too."
      ],
      "metadata": {
        "id": "yfc8YftCMZMk"
      }
    },
    {
      "cell_type": "code",
      "source": [
        "\" \".isspace()"
      ],
      "metadata": {
        "colab": {
          "base_uri": "https://localhost:8080/"
        },
        "id": "cG-bmzgwMQgY",
        "outputId": "fc4bfccd-51d7-4d83-b0fb-4f1b79ab35c6"
      },
      "execution_count": 20,
      "outputs": [
        {
          "output_type": "execute_result",
          "data": {
            "text/plain": [
              "True"
            ]
          },
          "metadata": {},
          "execution_count": 20
        }
      ]
    },
    {
      "cell_type": "markdown",
      "source": [
        "## Find, Replace and Split"
      ],
      "metadata": {
        "id": "gqtvgjPHKXoF"
      }
    },
    {
      "cell_type": "markdown",
      "source": [
        "We can find the index in a string of another string."
      ],
      "metadata": {
        "id": "FEVpaO-qKams"
      }
    },
    {
      "cell_type": "code",
      "source": [
        "hello.find('Wor')"
      ],
      "metadata": {
        "colab": {
          "base_uri": "https://localhost:8080/"
        },
        "id": "DU9wxuBnKD5P",
        "outputId": "504d5f79-645c-4fc3-d0bb-b69511df437d"
      },
      "execution_count": 21,
      "outputs": [
        {
          "output_type": "execute_result",
          "data": {
            "text/plain": [
              "6"
            ]
          },
          "metadata": {},
          "execution_count": 21
        }
      ]
    },
    {
      "cell_type": "markdown",
      "source": [
        "Of course this is just where 'Wor' starts!\n",
        "\n",
        "If we want to `replace` that string with another, we can."
      ],
      "metadata": {
        "id": "GQ_AG8E0KjXP"
      }
    },
    {
      "cell_type": "code",
      "source": [
        "hello.replace('Wor', 'worrrrrr')"
      ],
      "metadata": {
        "colab": {
          "base_uri": "https://localhost:8080/",
          "height": 35
        },
        "id": "9C_Dgn1iKh5-",
        "outputId": "40fc293e-dd61-4a2a-bd22-6dd910db5059"
      },
      "execution_count": 22,
      "outputs": [
        {
          "output_type": "execute_result",
          "data": {
            "text/plain": [
              "'Hello worrrrrrld'"
            ],
            "application/vnd.google.colaboratory.intrinsic+json": {
              "type": "string"
            }
          },
          "metadata": {},
          "execution_count": 22
        }
      ]
    },
    {
      "cell_type": "markdown",
      "source": [
        "This will replace EVERY occurance of 'Wor' if we wanted to limit how many times it could be done, we give the `replace` command one more integer argument saying how many replacements to do."
      ],
      "metadata": {
        "id": "18V1AKg4LAk_"
      }
    },
    {
      "cell_type": "markdown",
      "source": [
        "`split` will create new stings out of the old on a character you define.  It creates a list of the new strings.  Below I have split at the space."
      ],
      "metadata": {
        "id": "f60oy1SwLR8S"
      }
    },
    {
      "cell_type": "code",
      "source": [
        "hello.split(' ')"
      ],
      "metadata": {
        "colab": {
          "base_uri": "https://localhost:8080/"
        },
        "id": "AvnUflSHK4gs",
        "outputId": "5c3444e6-818d-4bf5-e279-6e707b53fb8e"
      },
      "execution_count": 23,
      "outputs": [
        {
          "output_type": "execute_result",
          "data": {
            "text/plain": [
              "['Hello', 'World']"
            ]
          },
          "metadata": {},
          "execution_count": 23
        }
      ]
    },
    {
      "cell_type": "markdown",
      "source": [
        "## You Turn"
      ],
      "metadata": {
        "id": "tFNr3UtUMi1I"
      }
    },
    {
      "cell_type": "markdown",
      "source": [
        "Write a program to print the 'Happy Birthday' song including your name.  Try to do it with as few strings as possible.\n"
      ],
      "metadata": {
        "id": "2AjPNMnSNS0v"
      }
    },
    {
      "cell_type": "markdown",
      "source": [
        "## Continued Reading"
      ],
      "metadata": {
        "id": "CmoUnlFBMkz3"
      }
    },
    {
      "cell_type": "markdown",
      "source": [
        "\n",
        "\n",
        "*   https://www.datacamp.com/community/tutorials/python-string-tutorial\n",
        "\n",
        "\n"
      ],
      "metadata": {
        "id": "S4oBRvPXMnJ1"
      }
    }
  ]
}